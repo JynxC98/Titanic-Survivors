{
 "cells": [
  {
   "cell_type": "code",
   "execution_count": 1,
   "metadata": {},
   "outputs": [
    {
     "data": {
      "text/html": [
       "        <script type=\"text/javascript\">\n",
       "        window.PlotlyConfig = {MathJaxConfig: 'local'};\n",
       "        if (window.MathJax) {MathJax.Hub.Config({SVG: {font: \"STIX-Web\"}});}\n",
       "        if (typeof require !== 'undefined') {\n",
       "        require.undef(\"plotly\");\n",
       "        requirejs.config({\n",
       "            paths: {\n",
       "                'plotly': ['https://cdn.plot.ly/plotly-latest.min']\n",
       "            }\n",
       "        });\n",
       "        require(['plotly'], function(Plotly) {\n",
       "            window._Plotly = Plotly;\n",
       "        });\n",
       "        }\n",
       "        </script>\n",
       "        "
      ]
     },
     "metadata": {},
     "output_type": "display_data"
    }
   ],
   "source": [
    "import numpy as np\n",
    "import pandas as pd\n",
    "import seaborn as sns\n",
    "import matplotlib.pyplot as plt\n",
    "import cufflinks as cf\n",
    "cf.go_offline()\n",
    "import plotly.express as px"
   ]
  },
  {
   "cell_type": "code",
   "execution_count": 2,
   "metadata": {},
   "outputs": [],
   "source": [
    "data_train=pd.read_csv('train.csv', index_col=0)\n",
    "data_test=pd.read_csv('test.csv',index_col=0)"
   ]
  },
  {
   "cell_type": "code",
   "execution_count": 3,
   "metadata": {},
   "outputs": [
    {
     "data": {
      "text/html": [
       "<div>\n",
       "<style scoped>\n",
       "    .dataframe tbody tr th:only-of-type {\n",
       "        vertical-align: middle;\n",
       "    }\n",
       "\n",
       "    .dataframe tbody tr th {\n",
       "        vertical-align: top;\n",
       "    }\n",
       "\n",
       "    .dataframe thead th {\n",
       "        text-align: right;\n",
       "    }\n",
       "</style>\n",
       "<table border=\"1\" class=\"dataframe\">\n",
       "  <thead>\n",
       "    <tr style=\"text-align: right;\">\n",
       "      <th></th>\n",
       "      <th>Survived</th>\n",
       "      <th>Pclass</th>\n",
       "      <th>Name</th>\n",
       "      <th>Sex</th>\n",
       "      <th>Age</th>\n",
       "      <th>SibSp</th>\n",
       "      <th>Parch</th>\n",
       "      <th>Ticket</th>\n",
       "      <th>Fare</th>\n",
       "      <th>Cabin</th>\n",
       "      <th>Embarked</th>\n",
       "    </tr>\n",
       "    <tr>\n",
       "      <th>PassengerId</th>\n",
       "      <th></th>\n",
       "      <th></th>\n",
       "      <th></th>\n",
       "      <th></th>\n",
       "      <th></th>\n",
       "      <th></th>\n",
       "      <th></th>\n",
       "      <th></th>\n",
       "      <th></th>\n",
       "      <th></th>\n",
       "      <th></th>\n",
       "    </tr>\n",
       "  </thead>\n",
       "  <tbody>\n",
       "    <tr>\n",
       "      <th>1</th>\n",
       "      <td>0</td>\n",
       "      <td>3</td>\n",
       "      <td>Braund, Mr. Owen Harris</td>\n",
       "      <td>male</td>\n",
       "      <td>22.0</td>\n",
       "      <td>1</td>\n",
       "      <td>0</td>\n",
       "      <td>A/5 21171</td>\n",
       "      <td>7.2500</td>\n",
       "      <td>NaN</td>\n",
       "      <td>S</td>\n",
       "    </tr>\n",
       "    <tr>\n",
       "      <th>2</th>\n",
       "      <td>1</td>\n",
       "      <td>1</td>\n",
       "      <td>Cumings, Mrs. John Bradley (Florence Briggs Th...</td>\n",
       "      <td>female</td>\n",
       "      <td>38.0</td>\n",
       "      <td>1</td>\n",
       "      <td>0</td>\n",
       "      <td>PC 17599</td>\n",
       "      <td>71.2833</td>\n",
       "      <td>C85</td>\n",
       "      <td>C</td>\n",
       "    </tr>\n",
       "    <tr>\n",
       "      <th>3</th>\n",
       "      <td>1</td>\n",
       "      <td>3</td>\n",
       "      <td>Heikkinen, Miss. Laina</td>\n",
       "      <td>female</td>\n",
       "      <td>26.0</td>\n",
       "      <td>0</td>\n",
       "      <td>0</td>\n",
       "      <td>STON/O2. 3101282</td>\n",
       "      <td>7.9250</td>\n",
       "      <td>NaN</td>\n",
       "      <td>S</td>\n",
       "    </tr>\n",
       "    <tr>\n",
       "      <th>4</th>\n",
       "      <td>1</td>\n",
       "      <td>1</td>\n",
       "      <td>Futrelle, Mrs. Jacques Heath (Lily May Peel)</td>\n",
       "      <td>female</td>\n",
       "      <td>35.0</td>\n",
       "      <td>1</td>\n",
       "      <td>0</td>\n",
       "      <td>113803</td>\n",
       "      <td>53.1000</td>\n",
       "      <td>C123</td>\n",
       "      <td>S</td>\n",
       "    </tr>\n",
       "    <tr>\n",
       "      <th>5</th>\n",
       "      <td>0</td>\n",
       "      <td>3</td>\n",
       "      <td>Allen, Mr. William Henry</td>\n",
       "      <td>male</td>\n",
       "      <td>35.0</td>\n",
       "      <td>0</td>\n",
       "      <td>0</td>\n",
       "      <td>373450</td>\n",
       "      <td>8.0500</td>\n",
       "      <td>NaN</td>\n",
       "      <td>S</td>\n",
       "    </tr>\n",
       "  </tbody>\n",
       "</table>\n",
       "</div>"
      ],
      "text/plain": [
       "             Survived  Pclass  \\\n",
       "PassengerId                     \n",
       "1                   0       3   \n",
       "2                   1       1   \n",
       "3                   1       3   \n",
       "4                   1       1   \n",
       "5                   0       3   \n",
       "\n",
       "                                                          Name     Sex   Age  \\\n",
       "PassengerId                                                                    \n",
       "1                                      Braund, Mr. Owen Harris    male  22.0   \n",
       "2            Cumings, Mrs. John Bradley (Florence Briggs Th...  female  38.0   \n",
       "3                                       Heikkinen, Miss. Laina  female  26.0   \n",
       "4                 Futrelle, Mrs. Jacques Heath (Lily May Peel)  female  35.0   \n",
       "5                                     Allen, Mr. William Henry    male  35.0   \n",
       "\n",
       "             SibSp  Parch            Ticket     Fare Cabin Embarked  \n",
       "PassengerId                                                          \n",
       "1                1      0         A/5 21171   7.2500   NaN        S  \n",
       "2                1      0          PC 17599  71.2833   C85        C  \n",
       "3                0      0  STON/O2. 3101282   7.9250   NaN        S  \n",
       "4                1      0            113803  53.1000  C123        S  \n",
       "5                0      0            373450   8.0500   NaN        S  "
      ]
     },
     "execution_count": 3,
     "metadata": {},
     "output_type": "execute_result"
    }
   ],
   "source": [
    "data_train.head()"
   ]
  },
  {
   "cell_type": "code",
   "execution_count": 4,
   "metadata": {},
   "outputs": [],
   "source": [
    "#Lets count the number of null values in our dataframe"
   ]
  },
  {
   "cell_type": "code",
   "execution_count": 5,
   "metadata": {},
   "outputs": [
    {
     "data": {
      "text/plain": [
       "Survived      0\n",
       "Pclass        0\n",
       "Name          0\n",
       "Sex           0\n",
       "Age         177\n",
       "SibSp         0\n",
       "Parch         0\n",
       "Ticket        0\n",
       "Fare          0\n",
       "Cabin       687\n",
       "Embarked      2\n",
       "dtype: int64"
      ]
     },
     "execution_count": 5,
     "metadata": {},
     "output_type": "execute_result"
    }
   ],
   "source": [
    "data_train.isnull().sum()"
   ]
  },
  {
   "cell_type": "code",
   "execution_count": 6,
   "metadata": {},
   "outputs": [
    {
     "data": {
      "text/plain": [
       "Pclass        0\n",
       "Name          0\n",
       "Sex           0\n",
       "Age          86\n",
       "SibSp         0\n",
       "Parch         0\n",
       "Ticket        0\n",
       "Fare          1\n",
       "Cabin       327\n",
       "Embarked      0\n",
       "dtype: int64"
      ]
     },
     "execution_count": 6,
     "metadata": {},
     "output_type": "execute_result"
    }
   ],
   "source": [
    "data_test.isnull().sum()"
   ]
  },
  {
   "cell_type": "code",
   "execution_count": 7,
   "metadata": {},
   "outputs": [
    {
     "data": {
      "text/plain": [
       "<matplotlib.axes._subplots.AxesSubplot at 0x7fb4fe6fdac0>"
      ]
     },
     "execution_count": 7,
     "metadata": {},
     "output_type": "execute_result"
    },
    {
     "data": {
      "image/png": "[encoded data removed]",
      "text/plain": [
       "<Figure size 432x288 with 2 Axes>"
      ]
     },
     "metadata": {
      "needs_background": "light"
     },
     "output_type": "display_data"
    }
   ],
   "source": [
    "sns.heatmap(data_train.corr(), square=True, annot=True, linewidth=2,linecolor='black' )"
   ]
  },
  {
   "cell_type": "code",
   "execution_count": 8,
   "metadata": {},
   "outputs": [],
   "source": [
    "numerical_columns = list(data_train.select_dtypes(include=['float64']))"
   ]
  },
  {
   "cell_type": "code",
   "execution_count": 9,
   "metadata": {},
   "outputs": [
    {
     "data": {
      "text/plain": [
       "['Age', 'Fare']"
      ]
     },
     "execution_count": 9,
     "metadata": {},
     "output_type": "execute_result"
    }
   ],
   "source": [
    "numerical_columns"
   ]
  },
  {
   "cell_type": "code",
   "execution_count": 10,
   "metadata": {},
   "outputs": [],
   "source": [
    "data_train1=data_train.copy()"
   ]
  },
  {
   "cell_type": "code",
   "execution_count": 11,
   "metadata": {},
   "outputs": [],
   "source": [
    "def scaler(df):\n",
    "    scale=(df-df.mean())/df.std()\n",
    "    return scale"
   ]
  },
  {
   "cell_type": "code",
   "execution_count": 12,
   "metadata": {},
   "outputs": [],
   "source": [
    "for i in numerical_columns:\n",
    "    data_train1[i]=data_train1[i].apply(lambda x: (x-data_train[i].mean())/data_train[i].std())"
   ]
  },
  {
   "cell_type": "code",
   "execution_count": 13,
   "metadata": {},
   "outputs": [
    {
     "data": {
      "text/html": [
       "<div>\n",
       "<style scoped>\n",
       "    .dataframe tbody tr th:only-of-type {\n",
       "        vertical-align: middle;\n",
       "    }\n",
       "\n",
       "    .dataframe tbody tr th {\n",
       "        vertical-align: top;\n",
       "    }\n",
       "\n",
       "    .dataframe thead th {\n",
       "        text-align: right;\n",
       "    }\n",
       "</style>\n",
       "<table border=\"1\" class=\"dataframe\">\n",
       "  <thead>\n",
       "    <tr style=\"text-align: right;\">\n",
       "      <th></th>\n",
       "      <th>Survived</th>\n",
       "      <th>Pclass</th>\n",
       "      <th>Name</th>\n",
       "      <th>Sex</th>\n",
       "      <th>Age</th>\n",
       "      <th>SibSp</th>\n",
       "      <th>Parch</th>\n",
       "      <th>Ticket</th>\n",
       "      <th>Fare</th>\n",
       "      <th>Cabin</th>\n",
       "      <th>Embarked</th>\n",
       "    </tr>\n",
       "    <tr>\n",
       "      <th>PassengerId</th>\n",
       "      <th></th>\n",
       "      <th></th>\n",
       "      <th></th>\n",
       "      <th></th>\n",
       "      <th></th>\n",
       "      <th></th>\n",
       "      <th></th>\n",
       "      <th></th>\n",
       "      <th></th>\n",
       "      <th></th>\n",
       "      <th></th>\n",
       "    </tr>\n",
       "  </thead>\n",
       "  <tbody>\n",
       "    <tr>\n",
       "      <th>1</th>\n",
       "      <td>0</td>\n",
       "      <td>3</td>\n",
       "      <td>Braund, Mr. Owen Harris</td>\n",
       "      <td>male</td>\n",
       "      <td>-0.530005</td>\n",
       "      <td>1</td>\n",
       "      <td>0</td>\n",
       "      <td>A/5 21171</td>\n",
       "      <td>-0.502163</td>\n",
       "      <td>NaN</td>\n",
       "      <td>S</td>\n",
       "    </tr>\n",
       "    <tr>\n",
       "      <th>2</th>\n",
       "      <td>1</td>\n",
       "      <td>1</td>\n",
       "      <td>Cumings, Mrs. John Bradley (Florence Briggs Th...</td>\n",
       "      <td>female</td>\n",
       "      <td>0.571430</td>\n",
       "      <td>1</td>\n",
       "      <td>0</td>\n",
       "      <td>PC 17599</td>\n",
       "      <td>0.786404</td>\n",
       "      <td>C85</td>\n",
       "      <td>C</td>\n",
       "    </tr>\n",
       "    <tr>\n",
       "      <th>3</th>\n",
       "      <td>1</td>\n",
       "      <td>3</td>\n",
       "      <td>Heikkinen, Miss. Laina</td>\n",
       "      <td>female</td>\n",
       "      <td>-0.254646</td>\n",
       "      <td>0</td>\n",
       "      <td>0</td>\n",
       "      <td>STON/O2. 3101282</td>\n",
       "      <td>-0.488580</td>\n",
       "      <td>NaN</td>\n",
       "      <td>S</td>\n",
       "    </tr>\n",
       "    <tr>\n",
       "      <th>4</th>\n",
       "      <td>1</td>\n",
       "      <td>1</td>\n",
       "      <td>Futrelle, Mrs. Jacques Heath (Lily May Peel)</td>\n",
       "      <td>female</td>\n",
       "      <td>0.364911</td>\n",
       "      <td>1</td>\n",
       "      <td>0</td>\n",
       "      <td>113803</td>\n",
       "      <td>0.420494</td>\n",
       "      <td>C123</td>\n",
       "      <td>S</td>\n",
       "    </tr>\n",
       "    <tr>\n",
       "      <th>5</th>\n",
       "      <td>0</td>\n",
       "      <td>3</td>\n",
       "      <td>Allen, Mr. William Henry</td>\n",
       "      <td>male</td>\n",
       "      <td>0.364911</td>\n",
       "      <td>0</td>\n",
       "      <td>0</td>\n",
       "      <td>373450</td>\n",
       "      <td>-0.486064</td>\n",
       "      <td>NaN</td>\n",
       "      <td>S</td>\n",
       "    </tr>\n",
       "  </tbody>\n",
       "</table>\n",
       "</div>"
      ],
      "text/plain": [
       "             Survived  Pclass  \\\n",
       "PassengerId                     \n",
       "1                   0       3   \n",
       "2                   1       1   \n",
       "3                   1       3   \n",
       "4                   1       1   \n",
       "5                   0       3   \n",
       "\n",
       "                                                          Name     Sex  \\\n",
       "PassengerId                                                              \n",
       "1                                      Braund, Mr. Owen Harris    male   \n",
       "2            Cumings, Mrs. John Bradley (Florence Briggs Th...  female   \n",
       "3                                       Heikkinen, Miss. Laina  female   \n",
       "4                 Futrelle, Mrs. Jacques Heath (Lily May Peel)  female   \n",
       "5                                     Allen, Mr. William Henry    male   \n",
       "\n",
       "                  Age  SibSp  Parch            Ticket      Fare Cabin Embarked  \n",
       "PassengerId                                                                     \n",
       "1           -0.530005      1      0         A/5 21171 -0.502163   NaN        S  \n",
       "2            0.571430      1      0          PC 17599  0.786404   C85        C  \n",
       "3           -0.254646      0      0  STON/O2. 3101282 -0.488580   NaN        S  \n",
       "4            0.364911      1      0            113803  0.420494  C123        S  \n",
       "5            0.364911      0      0            373450 -0.486064   NaN        S  "
      ]
     },
     "execution_count": 13,
     "metadata": {},
     "output_type": "execute_result"
    }
   ],
   "source": [
    "data_train1.head()"
   ]
  },
  {
   "cell_type": "code",
   "execution_count": 14,
   "metadata": {},
   "outputs": [
    {
     "data": {
      "application/vnd.plotly.v1+json": {
       "config": {
        "linkText": "Export to plot.ly",
        "plotlyServerURL": "https://plot.ly",
        "showLink": true
       },
       "data": [
        {
         "histfunc": "count",
         "histnorm": "",
         "marker": {
          "color": "rgba(255, 153, 51, 1.0)",
          "line": {
           "color": "#4D5663",
           "width": 1.3
          }
         },
         "name": "Age",
         "opacity": 0.8,
         "orientation": "v",
         "type": "histogram",
         "x": [
          -0.5300050983330725,
          0.5714304118216113,
          -0.2546462207944016,
          0.36491125366760807,
          0.36491125366760807,
          null,
          1.672865921976295,
          -1.9067994860264272,
          -0.18580650140973382,
          -1.0807228534104143,
          -1.7691200472570916,
          1.948224799514966,
          -0.6676845371024079,
          0.640270131206279,
          -1.0807228534104143,
          1.7417056413609626,
          -1.9067994860264272,
          null,
          0.08955237612893711,
          null,
          0.36491125366760807,
          0.2960715342829403,
          -1.0118831340257466,
          -0.11696678202506608,
          -1.4937611697184208,
          0.5714304118216113,
          null,
          -0.7365242564870756,
          null,
          null,
          0.7091098505909467,
          null,
          null,
          2.4989425545923076,
          -0.11696678202506608,
          0.8467892893602822,
          null,
          -0.5988448177177402,
          -0.8053639758717435,
          -1.0807228534104143,
          0.7091098505909467,
          -0.18580650140973382,
          null,
          -1.8379597666417595,
          -0.7365242564870756,
          null,
          null,
          null,
          null,
          -0.8053639758717435,
          -1.5626008891030885,
          -0.5988448177177402,
          1.3286673250529564,
          -0.04812706264039835,
          2.43010283520764,
          null,
          -0.5988448177177402,
          -0.08254692233273221,
          -1.700280327872424,
          -1.2872420115644176,
          -0.5300050983330725,
          0.5714304118216113,
          1.0533084475142853,
          -1.7691200472570916,
          null,
          null,
          -0.04812706264039835,
          -0.7365242564870756,
          -0.8742036952564112,
          -0.2546462207944016,
          0.15839209551360486,
          -0.9430434146410789,
          -0.5988448177177402,
          -0.2546462207944016,
          0.15839209551360486,
          -0.3234859401790693,
          null,
          null,
          -1.9873419577064886,
          0.02071265674426938,
          -0.5300050983330725,
          -0.04812706264039835,
          null,
          -0.11696678202506608,
          -0.8742036952564112,
          0.22723181489827257,
          -0.9430434146410789,
          null,
          -0.46116537894840476,
          -0.392325659563737,
          -0.04812706264039835,
          -0.6676845371024079,
          1.122148166898953,
          -0.2546462207944016,
          2.0170645188996335,
          null,
          2.8431411515156464,
          -0.46116537894840476,
          0.2960715342829403,
          0.2960715342829403,
          -0.11696678202506608,
          null,
          -0.5988448177177402,
          0.22723181489827257,
          0.5025906924369435,
          -0.11696678202506608,
          -0.5988448177177402,
          null,
          0.5714304118216113,
          null,
          1.190987886283621,
          -1.0463029937180806,
          -0.5300050983330725,
          -0.6676845371024079,
          -0.8742036952564112,
          -0.5988448177177402,
          2.8087212918233124,
          -0.04812706264039835,
          -0.392325659563737,
          -1.9067994860264272,
          -0.5988448177177402,
          null,
          0.19281195520593872,
          0.19281195520593872,
          1.672865921976295,
          -1.21840229217975,
          null,
          -0.392325659563737,
          null,
          1.0533084475142853,
          0.22723181489827257,
          -0.6676845371024079,
          1.190987886283621,
          -0.04812706264039835,
          -0.3234859401790693,
          -0.46116537894840476,
          -0.7365242564870756,
          0.5025906924369435,
          -0.9430434146410789,
          -0.392325659563737,
          null,
          -0.5300050983330725,
          -0.392325659563737,
          -0.7365242564870756,
          -0.8053639758717435,
          -0.7365242564870756,
          -0.18580650140973382,
          -1.424921450333753,
          0.46817083274460963,
          0.8467892893602822,
          1.4663467638222918,
          -0.5300050983330725,
          1.7761255010532966,
          0.7435297102832806,
          null,
          1.4663467638222918,
          -0.9430434146410789,
          0.02071265674426938,
          null,
          null,
          0.9844687281296176,
          0.7091098505909467,
          -0.2546462207944016,
          -0.8742036952564112,
          -1.975639205411095,
          -1.424921450333753,
          null,
          1.0533084475142853,
          null,
          -0.11696678202506608,
          2.1547439576689693,
          -1.7691200472570916,
          -1.975639205411095,
          -0.5988448177177402,
          1.8105453607456305,
          -0.8053639758717435,
          null,
          1.397507044437624,
          0.02071265674426938,
          0.4337509730522758,
          null,
          null,
          -1.424921450333753,
          -1.975639205411095,
          -1.7691200472570916,
          null,
          null,
          1.0533084475142853,
          0.7091098505909467,
          0.4337509730522758,
          0.15839209551360486,
          -0.7365242564870756,
          -0.7365242564870756,
          -1.8379597666417595,
          0.9844687281296176,
          1.948224799514966,
          null,
          0.8467892893602822,
          null,
          -0.392325659563737,
          -0.11696678202506608,
          null,
          0.2960715342829403,
          1.0877283072066193,
          -0.8053639758717435,
          -1.9067994860264272,
          0.15839209551360486,
          -0.2546462207944016,
          -0.9430434146410789,
          0.7091098505909467,
          -0.392325659563737,
          0.36491125366760807,
          -0.5300050983330725,
          0.02071265674426938,
          null,
          0.08955237612893711,
          -0.18580650140973382,
          0.8467892893602822,
          0.15839209551360486,
          0.02071265674426938,
          -0.9430434146410789,
          -0.18580650140973382,
          1.4663467638222918,
          null,
          0.5714304118216113,
          -0.5300050983330725,
          -0.7365242564870756,
          -0.6332646774100741,
          -0.8053639758717435,
          null,
          0.36491125366760807,
          -0.04812706264039835,
          2.0170645188996335,
          -1.700280327872424,
          -0.392325659563737,
          null,
          0.9844687281296176,
          -1.4937611697184208,
          -0.7365242564870756,
          0.22723181489827257,
          null,
          null,
          -0.04812706264039835,
          -0.5300050983330725,
          0.02071265674426938,
          0.9844687281296176,
          -0.3234859401790693,
          -0.392325659563737,
          0.5025906924369435,
          1.672865921976295,
          null,
          -0.04812706264039835,
          2.223583677053637,
          0.02071265674426938,
          0.7779495699756145,
          -0.04812706264039835,
          null,
          0.02071265674426938,
          0.36491125366760807,
          1.397507044437624,
          null,
          -1.8379597666417595,
          1.5351864832069595,
          0.7091098505909467,
          null,
          0.4337509730522758,
          -0.9430434146410789,
          -0.3234859401790693,
          1.948224799514966,
          0.36491125366760807,
          null,
          -0.3234859401790693,
          0.7779495699756145,
          0.5025906924369435,
          null,
          2.2924233964383047,
          1.0533084475142853,
          null,
          -1.5626008891030885,
          0.36491125366760807,
          2.43010283520764,
          -0.11696678202506608,
          -0.9430434146410789,
          -0.7365242564870756,
          null,
          0.22723181489827257,
          0.02071265674426938,
          -0.5300050983330725,
          0.8467892893602822,
          -0.5300050983330725,
          -0.2546462207944016,
          -0.7365242564870756,
          0.4337509730522758,
          -0.392325659563737,
          -0.392325659563737,
          null,
          -0.4267455192560709,
          -1.9067994860264272,
          null,
          1.397507044437624,
          null,
          null,
          -0.7365242564870756,
          null,
          null,
          -1.9811463829618683,
          null,
          -0.8742036952564112,
          0.02071265674426938,
          0.02071265674426938,
          -0.392325659563737,
          -0.8053639758717435,
          -0.2546462207944016,
          -0.11696678202506608,
          0.9156290087449499,
          -0.2546462207944016,
          -0.392325659563737,
          1.672865921976295,
          0.08955237612893711,
          0.7091098505909467,
          -0.5300050983330725,
          -0.18580650140973382,
          0.02071265674426938,
          -0.5300050983330725,
          null,
          0.4337509730522758,
          2.1547439576689693,
          0.4337509730522758,
          0.08955237612893711,
          -0.9430434146410789,
          null,
          1.0877283072066193,
          0.5714304118216113,
          -0.9430434146410789,
          null,
          null,
          -0.04812706264039835,
          0.7779495699756145,
          1.0533084475142853,
          1.0533084475142853,
          -1.9067994860264272,
          -0.392325659563737,
          -0.11696678202506608,
          -0.3234859401790693,
          0.4337509730522758,
          -0.392325659563737,
          0.7091098505909467,
          null,
          -1.8379597666417595,
          0.8467892893602822,
          -0.46116537894840476,
          null,
          -1.0118831340257466,
          -0.3234859401790693,
          null,
          -0.11696678202506608,
          -0.5300050983330725,
          0.5714304118216113,
          null,
          null,
          0.7091098505909467,
          -0.04812706264039835,
          1.0533084475142853,
          0.36491125366760807,
          null,
          0.02071265674426938,
          2.0859042382843014,
          null,
          null,
          -0.392325659563737,
          -0.3234859401790693,
          -0.8053639758717435,
          -0.7365242564870756,
          -0.5300050983330725,
          -1.8379597666417595,
          null,
          -0.5300050983330725,
          -0.18580650140973382,
          -0.6676845371024079,
          -0.7365242564870756,
          0.8467892893602822,
          -1.975639205411095,
          0.15839209551360486,
          0.36491125366760807,
          null,
          -0.8053639758717435,
          -1.975639205411095,
          0.4337509730522758,
          null,
          -0.8742036952564112,
          0.4337509730522758,
          -0.5988448177177402,
          -0.11696678202506608,
          -0.46116537894840476,
          -0.392325659563737,
          -0.5300050983330725,
          0.08955237612893711,
          1.122148166898953,
          -0.46116537894840476,
          -0.11696678202506608,
          0.640270131206279,
          -0.2546462207944016,
          -0.5988448177177402,
          -0.11696678202506608,
          -0.6676845371024079,
          0.2960715342829403,
          1.4663467638222918,
          -1.8379597666417595,
          -0.5988448177177402,
          null,
          null,
          null,
          0.22723181489827257,
          null,
          0.9844687281296176,
          null,
          0.2960715342829403,
          -0.8053639758717435,
          0.02071265674426938,
          -1.3560817309490854,
          null,
          -0.5988448177177402,
          -0.04812706264039835,
          -0.11696678202506608,
          -0.8053639758717435,
          null,
          -0.11696678202506608,
          -0.7365242564870756,
          null,
          0.15839209551360486,
          -0.11696678202506608,
          null,
          0.8467892893602822,
          -0.8742036952564112,
          1.397507044437624,
          -1.0807228534104143,
          -0.5988448177177402,
          -0.392325659563737,
          2.361263115822972,
          0.08955237612893711,
          1.0533084475142853,
          -0.6676845371024079,
          -0.3234859401790693,
          -0.11696678202506608,
          null,
          -1.7691200472570916,
          -1.149562572795082,
          0.2960715342829403,
          -1.700280327872424,
          1.5351864832069595,
          0.4337509730522758,
          null,
          0.02071265674426938,
          1.3286673250529564,
          null,
          -0.04812706264039835,
          2.43010283520764,
          null,
          1.397507044437624,
          null,
          1.2598276056682887,
          0.2960715342829403,
          1.190987886283621,
          1.2598276056682887,
          null,
          0.5714304118216113,
          null,
          1.8105453607456305,
          null,
          -1.992849135257262,
          null,
          0.5714304118216113,
          0.22723181489827257,
          -0.46116537894840476,
          -0.5300050983330725,
          null,
          0.2960715342829403,
          -0.04812706264039835,
          -0.5300050983330725,
          -1.9067994860264272,
          -1.424921450333753,
          null,
          1.397507044437624,
          2.2924233964383047,
          -0.3234859401790693,
          null,
          0.36491125366760807,
          1.948224799514966,
          0.02071265674426938,
          -1.424921450333753,
          null,
          -0.5988448177177402,
          1.7417056413609626,
          2.8431411515156464,
          -0.5988448177177402,
          null,
          1.672865921976295,
          null,
          -0.3234859401790693,
          -0.392325659563737,
          -0.8742036952564112,
          -0.5988448177177402,
          null,
          0.5025906924369435,
          -0.9430434146410789,
          -0.8053639758717435,
          0.22723181489827257,
          null,
          -0.11696678202506608,
          -0.2546462207944016,
          -0.04812706264039835,
          null,
          0.4337509730522758,
          1.672865921976295,
          -0.392325659563737,
          1.190987886283621,
          0.2960715342829403,
          null,
          0.4337509730522758,
          0.15839209551360486,
          0.02071265674426938,
          -0.5300050983330725,
          null,
          0.9844687281296176,
          null,
          0.7435297102832806,
          1.397507044437624,
          null,
          0.640270131206279,
          -0.46116537894840476,
          -1.9067994860264272,
          null,
          -0.8742036952564112,
          null,
          0.02071265674426938,
          -1.5626008891030885,
          1.0533084475142853,
          0.02071265674426938,
          null,
          -0.5300050983330725,
          0.4337509730522758,
          -1.424921450333753,
          -1.2872420115644176,
          0.15839209551360486,
          1.397507044437624,
          2.361263115822972,
          -0.7365242564870756,
          null,
          0.22723181489827257,
          -1.4937611697184208,
          -0.8742036952564112,
          -0.18580650140973382,
          null,
          -0.5300050983330725,
          -0.5300050983330725,
          2.223583677053637,
          1.2598276056682887,
          null,
          0.640270131206279,
          0.4337509730522758,
          null,
          0.7091098505909467,
          -0.11696678202506608,
          null,
          null,
          -0.392325659563737,
          -0.7365242564870756,
          -0.04812706264039835,
          null,
          0.15839209551360486,
          2.223583677053637,
          1.6040262025916272,
          0.4337509730522758,
          null,
          -0.9430434146410789,
          -0.7365242564870756,
          0.2960715342829403,
          0.640270131206279,
          null,
          0.15839209551360486,
          -0.3234859401790693,
          0.640270131206279,
          1.672865921976295,
          0.4337509730522758,
          null,
          -0.8053639758717435,
          1.190987886283621,
          2.0859042382843014,
          -0.5300050983330725,
          null,
          0.36491125366760807,
          1.5351864832069595,
          1.190987886283621,
          null,
          0.5025906924369435,
          0.4337509730522758,
          null,
          1.3286673250529564,
          null,
          1.3286673250529564,
          -0.392325659563737,
          null,
          null,
          0.9844687281296176,
          0.36491125366760807,
          0.4337509730522758,
          0.02071265674426938,
          -0.18580650140973382,
          -0.5300050983330725,
          0.7091098505909467,
          0.640270131206279,
          null,
          null,
          null,
          0.36491125366760807,
          -0.392325659563737,
          0.2960715342829403,
          -0.2546462207944016,
          -1.7691200472570916,
          -0.2546462207944016,
          -0.18580650140973382,
          0.8467892893602822,
          -0.6676845371024079,
          -0.5988448177177402,
          -0.5988448177177402,
          2.1547439576689693,
          1.8793850801302983,
          -0.5988448177177402,
          -0.2546462207944016,
          null,
          3.462698625977656,
          1.4663467638222918,
          0.15839209551360486,
          null,
          -1.424921450333753,
          -0.11696678202506608,
          0.15839209551360486,
          0.08955237612893711,
          0.7779495699756145,
          null,
          -0.6676845371024079,
          -0.392325659563737,
          -1.9067994860264272,
          null,
          -1.992849135257262,
          1.2598276056682887,
          -0.7365242564870756,
          1.8105453607456305,
          null,
          -0.46116537894840476,
          null,
          -0.8053639758717435,
          -0.5988448177177402,
          null,
          -0.8053639758717435,
          -0.392325659563737,
          null,
          0.15839209551360486,
          -0.46116537894840476,
          1.948224799514966,
          1.397507044437624,
          0.7091098505909467,
          1.190987886283621,
          0.4337509730522758,
          -0.6676845371024079,
          0.15839209551360486,
          -0.3234859401790693,
          null,
          0.9156290087449499,
          null,
          0.7091098505909467,
          0.08955237612893711,
          2.774301432130979,
          0.08955237612893711,
          null,
          -0.8053639758717435,
          -0.35790579987140314,
          -0.8053639758717435,
          0.9156290087449499,
          0.4337509730522758,
          null,
          -0.18580650140973382,
          -0.6676845371024079,
          -1.0807228534104143,
          2.0859042382843014,
          -0.3234859401790693,
          -1.0807228534104143,
          -0.7365242564870756,
          -0.8053639758717435,
          -1.0118831340257466,
          0.08955237612893711,
          -1.7691200472570916,
          null,
          -0.3234859401790693,
          2.0859042382843014,
          1.5351864832069595,
          0.9844687281296176,
          null,
          1.3286673250529564,
          0.8467892893602822,
          -0.8053639758717435,
          0.36491125366760807,
          -0.8053639758717435,
          -0.3234859401790693,
          -0.2546462207944016,
          0.640270131206279,
          1.0533084475142853,
          0.8467892893602822,
          -0.5300050983330725,
          null,
          -0.392325659563737,
          null,
          1.2598276056682887,
          -0.04812706264039835,
          1.5351864832069595,
          -0.7365242564870756,
          0.5714304118216113,
          -0.18580650140973382,
          null,
          0.22723181489827257,
          -1.6314406084877562,
          -0.8742036952564112,
          0.2960715342829403,
          1.397507044437624,
          -0.18580650140973382,
          -0.6676845371024079,
          0.02071265674426938,
          null,
          -0.3234859401790693,
          -0.3234859401790693,
          -0.04812706264039835,
          -1.2872420115644176,
          null,
          -0.46116537894840476,
          -0.46116537894840476,
          -0.08254692233273221,
          1.2598276056682887,
          0.36491125366760807,
          null,
          null,
          null,
          0.4337509730522758,
          -0.5988448177177402,
          -0.392325659563737,
          0.08955237612893711,
          2.774301432130979,
          -0.9430434146410789,
          0.02071265674426938,
          -0.7365242564870756,
          0.08955237612893711,
          -1.7691200472570916,
          -1.6314406084877562,
          0.22723181489827257,
          -0.46116537894840476,
          1.2598276056682887,
          -1.998356312808035,
          -0.11696678202506608,
          -0.8053639758717435,
          0.2960715342829403,
          0.22723181489827257,
          null,
          0.7779495699756145,
          -0.6676845371024079,
          0.4337509730522758,
          -0.9430434146410789,
          1.4663467638222918,
          null,
          0.05513251643660325,
          null,
          0.15839209551360486,
          -0.392325659563737,
          1.2598276056682887,
          1.8793850801302983,
          null,
          1.672865921976295,
          -0.8053639758717435,
          null,
          -1.700280327872424,
          null,
          0.9156290087449499,
          -1.149562572795082,
          -0.8742036952564112,
          -0.04812706264039835,
          null,
          -0.3234859401790693,
          -0.3234859401790693,
          -0.8053639758717435,
          -1.4937611697184208,
          -1.975639205411095,
          1.122148166898953,
          null,
          -0.9430434146410789,
          null,
          null,
          -0.3234859401790693,
          0.640270131206279,
          1.3286673250529564,
          0.08955237612893711,
          0.02071265674426938,
          0.02071265674426938,
          0.2960715342829403,
          0.08955237612893711,
          -1.2872420115644176,
          -2.0155662426542023,
          -0.18580650140973382,
          0.08955237612893711,
          0.640270131206279,
          -0.8053639758717435,
          0.640270131206279,
          0.22723181489827257,
          -0.2546462207944016,
          0.640270131206279,
          0.36491125366760807,
          -1.6314406084877562,
          0.05513251643660325,
          null,
          -0.46116537894840476,
          0.08955237612893711,
          0.9156290087449499,
          -1.3560817309490854,
          1.5351864832069595,
          -0.18580650140973382,
          0.5714304118216113,
          -0.18580650140973382,
          -1.9067994860264272,
          null,
          null,
          -1.975639205411095,
          null,
          2.223583677053637,
          -1.0118831340257466,
          -1.9873419577064886,
          null,
          -0.46116537894840476,
          -0.8053639758717435,
          0.640270131206279,
          -0.5988448177177402,
          null,
          0.15839209551360486,
          null,
          -0.6676845371024079,
          -0.9430434146410789,
          0.02071265674426938,
          0.33049139397527416,
          -0.8742036952564112,
          0.8467892893602822,
          null,
          0.36491125366760807,
          -0.11696678202506608,
          null,
          -1.7691200472570916,
          3.0496603096696497,
          -1.424921450333753,
          -0.9430434146410789,
          0.9844687281296176,
          -0.8053639758717435,
          1.0533084475142853,
          1.4663467638222918,
          -0.392325659563737,
          null,
          0.7779495699756145,
          -0.5988448177177402,
          1.2598276056682887,
          null,
          -0.392325659563737,
          0.8467892893602822,
          -0.18580650140973382,
          0.08955237612893711,
          null,
          -1.7691200472570916,
          -0.2546462207944016,
          1.190987886283621,
          0.22723181489827257,
          1.190987886283621,
          -0.11696678202506608,
          -1.0118831340257466,
          -0.6676845371024079,
          -0.7365242564870756,
          null,
          1.8105453607456305,
          -0.3234859401790693,
          0.22723181489827257,
          -0.5300050983330725,
          -0.11696678202506608,
          -0.3234859401790693,
          0.640270131206279,
          -0.18580650140973382,
          -0.7365242564870756,
          null,
          -0.2546462207944016,
          0.15839209551360486
         ]
        }
       ],
       "layout": {
        "barmode": "overlay",
        "legend": {
         "bgcolor": "#F5F6F9",
         "font": {
          "color": "#4D5663"
         }
        },
        "paper_bgcolor": "#F5F6F9",
        "plot_bgcolor": "#F5F6F9",
        "template": {
         "data": {
          "bar": [
           {
            "error_x": {
             "color": "#2a3f5f"
            },
            "error_y": {
             "color": "#2a3f5f"
            },
            "marker": {
             "line": {
              "color": "#E5ECF6",
              "width": 0.5
             }
            },
            "type": "bar"
           }
          ],
          "barpolar": [
           {
            "marker": {
             "line": {
              "color": "#E5ECF6",
              "width": 0.5
             }
            },
            "type": "barpolar"
           }
          ],
          "carpet": [
           {
            "aaxis": {
             "endlinecolor": "#2a3f5f",
             "gridcolor": "white",
             "linecolor": "white",
             "minorgridcolor": "white",
             "startlinecolor": "#2a3f5f"
            },
            "baxis": {
             "endlinecolor": "#2a3f5f",
             "gridcolor": "white",
             "linecolor": "white",
             "minorgridcolor": "white",
             "startlinecolor": "#2a3f5f"
            },
            "type": "carpet"
           }
          ],
          "choropleth": [
           {
            "colorbar": {
             "outlinewidth": 0,
             "ticks": ""
            },
            "type": "choropleth"
           }
          ],
          "contour": [
           {
            "colorbar": {
             "outlinewidth": 0,
             "ticks": ""
            },
            "colorscale": [
             [
              0,
              "#0d0887"
             ],
             [
              0.1111111111111111,
              "#46039f"
             ],
             [
              0.2222222222222222,
              "#7201a8"
             ],
             [
              0.3333333333333333,
              "#9c179e"
             ],
             [
              0.4444444444444444,
              "#bd3786"
             ],
             [
              0.5555555555555556,
              "#d8576b"
             ],
             [
              0.6666666666666666,
              "#ed7953"
             ],
             [
              0.7777777777777778,
              "#fb9f3a"
             ],
             [
              0.8888888888888888,
              "#fdca26"
             ],
             [
              1,
              "#f0f921"
             ]
            ],
            "type": "contour"
           }
          ],
          "contourcarpet": [
           {
            "colorbar": {
             "outlinewidth": 0,
             "ticks": ""
            },
            "type": "contourcarpet"
           }
          ],
          "heatmap": [
           {
            "colorbar": {
             "outlinewidth": 0,
             "ticks": ""
            },
            "colorscale": [
             [
              0,
              "#0d0887"
             ],
             [
              0.1111111111111111,
              "#46039f"
             ],
             [
              0.2222222222222222,
              "#7201a8"
             ],
             [
              0.3333333333333333,
              "#9c179e"
             ],
             [
              0.4444444444444444,
              "#bd3786"
             ],
             [
              0.5555555555555556,
              "#d8576b"
             ],
             [
              0.6666666666666666,
              "#ed7953"
             ],
             [
              0.7777777777777778,
              "#fb9f3a"
             ],
             [
              0.8888888888888888,
              "#fdca26"
             ],
             [
              1,
              "#f0f921"
             ]
            ],
            "type": "heatmap"
           }
          ],
          "heatmapgl": [
           {
            "colorbar": {
             "outlinewidth": 0,
             "ticks": ""
            },
            "colorscale": [
             [
              0,
              "#0d0887"
             ],
             [
              0.1111111111111111,
              "#46039f"
             ],
             [
              0.2222222222222222,
              "#7201a8"
             ],
             [
              0.3333333333333333,
              "#9c179e"
             ],
             [
              0.4444444444444444,
              "#bd3786"
             ],
             [
              0.5555555555555556,
              "#d8576b"
             ],
             [
              0.6666666666666666,
              "#ed7953"
             ],
             [
              0.7777777777777778,
              "#fb9f3a"
             ],
             [
              0.8888888888888888,
              "#fdca26"
             ],
             [
              1,
              "#f0f921"
             ]
            ],
            "type": "heatmapgl"
           }
          ],
          "histogram": [
           {
            "marker": {
             "colorbar": {
              "outlinewidth": 0,
              "ticks": ""
             }
            },
            "type": "histogram"
           }
          ],
          "histogram2d": [
           {
            "colorbar": {
             "outlinewidth": 0,
             "ticks": ""
            },
            "colorscale": [
             [
              0,
              "#0d0887"
             ],
             [
              0.1111111111111111,
              "#46039f"
             ],
             [
              0.2222222222222222,
              "#7201a8"
             ],
             [
              0.3333333333333333,
              "#9c179e"
             ],
             [
              0.4444444444444444,
              "#bd3786"
             ],
             [
              0.5555555555555556,
              "#d8576b"
             ],
             [
              0.6666666666666666,
              "#ed7953"
             ],
             [
              0.7777777777777778,
              "#fb9f3a"
             ],
             [
              0.8888888888888888,
              "#fdca26"
             ],
             [
              1,
              "#f0f921"
             ]
            ],
            "type": "histogram2d"
           }
          ],
          "histogram2dcontour": [
           {
            "colorbar": {
             "outlinewidth": 0,
             "ticks": ""
            },
            "colorscale": [
             [
              0,
              "#0d0887"
             ],
             [
              0.1111111111111111,
              "#46039f"
             ],
             [
              0.2222222222222222,
              "#7201a8"
             ],
             [
              0.3333333333333333,
              "#9c179e"
             ],
             [
              0.4444444444444444,
              "#bd3786"
             ],
             [
              0.5555555555555556,
              "#d8576b"
             ],
             [
              0.6666666666666666,
              "#ed7953"
             ],
             [
              0.7777777777777778,
              "#fb9f3a"
             ],
             [
              0.8888888888888888,
              "#fdca26"
             ],
             [
              1,
              "#f0f921"
             ]
            ],
            "type": "histogram2dcontour"
           }
          ],
          "mesh3d": [
           {
            "colorbar": {
             "outlinewidth": 0,
             "ticks": ""
            },
            "type": "mesh3d"
           }
          ],
          "parcoords": [
           {
            "line": {
             "colorbar": {
              "outlinewidth": 0,
              "ticks": ""
             }
            },
            "type": "parcoords"
           }
          ],
          "pie": [
           {
            "automargin": true,
            "type": "pie"
           }
          ],
          "scatter": [
           {
            "marker": {
             "colorbar": {
              "outlinewidth": 0,
              "ticks": ""
             }
            },
            "type": "scatter"
           }
          ],
          "scatter3d": [
           {
            "line": {
             "colorbar": {
              "outlinewidth": 0,
              "ticks": ""
             }
            },
            "marker": {
             "colorbar": {
              "outlinewidth": 0,
              "ticks": ""
             }
            },
            "type": "scatter3d"
           }
          ],
          "scattercarpet": [
           {
            "marker": {
             "colorbar": {
              "outlinewidth": 0,
              "ticks": ""
             }
            },
            "type": "scattercarpet"
           }
          ],
          "scattergeo": [
           {
            "marker": {
             "colorbar": {
              "outlinewidth": 0,
              "ticks": ""
             }
            },
            "type": "scattergeo"
           }
          ],
          "scattergl": [
           {
            "marker": {
             "colorbar": {
              "outlinewidth": 0,
              "ticks": ""
             }
            },
            "type": "scattergl"
           }
          ],
          "scattermapbox": [
           {
            "marker": {
             "colorbar": {
              "outlinewidth": 0,
              "ticks": ""
             }
            },
            "type": "scattermapbox"
           }
          ],
          "scatterpolar": [
           {
            "marker": {
             "colorbar": {
              "outlinewidth": 0,
              "ticks": ""
             }
            },
            "type": "scatterpolar"
           }
          ],
          "scatterpolargl": [
           {
            "marker": {
             "colorbar": {
              "outlinewidth": 0,
              "ticks": ""
             }
            },
            "type": "scatterpolargl"
           }
          ],
          "scatterternary": [
           {
            "marker": {
             "colorbar": {
              "outlinewidth": 0,
              "ticks": ""
             }
            },
            "type": "scatterternary"
           }
          ],
          "surface": [
           {
            "colorbar": {
             "outlinewidth": 0,
             "ticks": ""
            },
            "colorscale": [
             [
              0,
              "#0d0887"
             ],
             [
              0.1111111111111111,
              "#46039f"
             ],
             [
              0.2222222222222222,
              "#7201a8"
             ],
             [
              0.3333333333333333,
              "#9c179e"
             ],
             [
              0.4444444444444444,
              "#bd3786"
             ],
             [
              0.5555555555555556,
              "#d8576b"
             ],
             [
              0.6666666666666666,
              "#ed7953"
             ],
             [
              0.7777777777777778,
              "#fb9f3a"
             ],
             [
              0.8888888888888888,
              "#fdca26"
             ],
             [
              1,
              "#f0f921"
             ]
            ],
            "type": "surface"
           }
          ],
          "table": [
           {
            "cells": {
             "fill": {
              "color": "#EBF0F8"
             },
             "line": {
              "color": "white"
             }
            },
            "header": {
             "fill": {
              "color": "#C8D4E3"
             },
             "line": {
              "color": "white"
             }
            },
            "type": "table"
           }
          ]
         },
         "layout": {
          "annotationdefaults": {
           "arrowcolor": "#2a3f5f",
           "arrowhead": 0,
           "arrowwidth": 1
          },
          "coloraxis": {
           "colorbar": {
            "outlinewidth": 0,
            "ticks": ""
           }
          },
          "colorscale": {
           "diverging": [
            [
             0,
             "#8e0152"
            ],
            [
             0.1,
             "#c51b7d"
            ],
            [
             0.2,
             "#de77ae"
            ],
            [
             0.3,
             "#f1b6da"
            ],
            [
             0.4,
             "#fde0ef"
            ],
            [
             0.5,
             "#f7f7f7"
            ],
            [
             0.6,
             "#e6f5d0"
            ],
            [
             0.7,
             "#b8e186"
            ],
            [
             0.8,
             "#7fbc41"
            ],
            [
             0.9,
             "#4d9221"
            ],
            [
             1,
             "#276419"
            ]
           ],
           "sequential": [
            [
             0,
             "#0d0887"
            ],
            [
             0.1111111111111111,
             "#46039f"
            ],
            [
             0.2222222222222222,
             "#7201a8"
            ],
            [
             0.3333333333333333,
             "#9c179e"
            ],
            [
             0.4444444444444444,
             "#bd3786"
            ],
            [
             0.5555555555555556,
             "#d8576b"
            ],
            [
             0.6666666666666666,
             "#ed7953"
            ],
            [
             0.7777777777777778,
             "#fb9f3a"
            ],
            [
             0.8888888888888888,
             "#fdca26"
            ],
            [
             1,
             "#f0f921"
            ]
           ],
           "sequentialminus": [
            [
             0,
             "#0d0887"
            ],
            [
             0.1111111111111111,
             "#46039f"
            ],
            [
             0.2222222222222222,
             "#7201a8"
            ],
            [
             0.3333333333333333,
             "#9c179e"
            ],
            [
             0.4444444444444444,
             "#bd3786"
            ],
            [
             0.5555555555555556,
             "#d8576b"
            ],
            [
             0.6666666666666666,
             "#ed7953"
            ],
            [
             0.7777777777777778,
             "#fb9f3a"
            ],
            [
             0.8888888888888888,
             "#fdca26"
            ],
            [
             1,
             "#f0f921"
            ]
           ]
          },
          "colorway": [
           "#636efa",
           "#EF553B",
           "#00cc96",
           "#ab63fa",
           "#FFA15A",
           "#19d3f3",
           "#FF6692",
           "#B6E880",
           "#FF97FF",
           "#FECB52"
          ],
          "font": {
           "color": "#2a3f5f"
          },
          "geo": {
           "bgcolor": "white",
           "lakecolor": "white",
           "landcolor": "#E5ECF6",
           "showlakes": true,
           "showland": true,
           "subunitcolor": "white"
          },
          "hoverlabel": {
           "align": "left"
          },
          "hovermode": "closest",
          "mapbox": {
           "style": "light"
          },
          "paper_bgcolor": "white",
          "plot_bgcolor": "#E5ECF6",
          "polar": {
           "angularaxis": {
            "gridcolor": "white",
            "linecolor": "white",
            "ticks": ""
           },
           "bgcolor": "#E5ECF6",
           "radialaxis": {
            "gridcolor": "white",
            "linecolor": "white",
            "ticks": ""
           }
          },
          "scene": {
           "xaxis": {
            "backgroundcolor": "#E5ECF6",
            "gridcolor": "white",
            "gridwidth": 2,
            "linecolor": "white",
            "showbackground": true,
            "ticks": "",
            "zerolinecolor": "white"
           },
           "yaxis": {
            "backgroundcolor": "#E5ECF6",
            "gridcolor": "white",
            "gridwidth": 2,
            "linecolor": "white",
            "showbackground": true,
            "ticks": "",
            "zerolinecolor": "white"
           },
           "zaxis": {
            "backgroundcolor": "#E5ECF6",
            "gridcolor": "white",
            "gridwidth": 2,
            "linecolor": "white",
            "showbackground": true,
            "ticks": "",
            "zerolinecolor": "white"
           }
          },
          "shapedefaults": {
           "line": {
            "color": "#2a3f5f"
           }
          },
          "ternary": {
           "aaxis": {
            "gridcolor": "white",
            "linecolor": "white",
            "ticks": ""
           },
           "baxis": {
            "gridcolor": "white",
            "linecolor": "white",
            "ticks": ""
           },
           "bgcolor": "#E5ECF6",
           "caxis": {
            "gridcolor": "white",
            "linecolor": "white",
            "ticks": ""
           }
          },
          "title": {
           "x": 0.05
          },
          "xaxis": {
           "automargin": true,
           "gridcolor": "white",
           "linecolor": "white",
           "ticks": "",
           "title": {
            "standoff": 15
           },
           "zerolinecolor": "white",
           "zerolinewidth": 2
          },
          "yaxis": {
           "automargin": true,
           "gridcolor": "white",
           "linecolor": "white",
           "ticks": "",
           "title": {
            "standoff": 15
           },
           "zerolinecolor": "white",
           "zerolinewidth": 2
          }
         }
        },
        "title": {
         "font": {
          "color": "#4D5663"
         }
        },
        "xaxis": {
         "gridcolor": "#E1E5ED",
         "showgrid": true,
         "tickfont": {
          "color": "#4D5663"
         },
         "title": {
          "font": {
           "color": "#4D5663"
          },
          "text": "Age"
         },
         "zerolinecolor": "#E1E5ED"
        },
        "yaxis": {
         "gridcolor": "#E1E5ED",
         "showgrid": true,
         "tickfont": {
          "color": "#4D5663"
         },
         "title": {
          "font": {
           "color": "#4D5663"
          },
          "text": "Frequency"
         },
         "zerolinecolor": "#E1E5ED"
        }
       }
      },
      "text/html": [
       "<div>                            <div id=\"8780d987-6047-48f2-ae9e-018db7391279\" class=\"plotly-graph-div\" style=\"height:525px; width:100%;\"></div>            <script type=\"text/javascript\">                require([\"plotly\"], function(Plotly) {                    window.PLOTLYENV=window.PLOTLYENV || {};\n",
       "                    window.PLOTLYENV.BASE_URL='https://plot.ly';                                    if (document.getElementById(\"8780d987-6047-48f2-ae9e-018db7391279\")) {                    Plotly.newPlot(                        \"8780d987-6047-48f2-ae9e-018db7391279\",                        [{\"histfunc\": \"count\", \"histnorm\": \"\", \"marker\": {\"color\": \"rgba(255, 153, 51, 1.0)\", \"line\": {\"color\": \"#4D5663\", \"width\": 1.3}}, \"name\": \"Age\", \"opacity\": 0.8, \"orientation\": \"v\", \"type\": \"histogram\", \"x\": [-0.5300050983330725, 0.5714304118216113, -0.2546462207944016, 0.36491125366760807, 0.36491125366760807, null, 1.672865921976295, -1.9067994860264272, -0.18580650140973382, -1.0807228534104143, -1.7691200472570916, 1.948224799514966, -0.6676845371024079, 0.640270131206279, -1.0807228534104143, 1.7417056413609626, -1.9067994860264272, null, 0.08955237612893711, null, 0.36491125366760807, 0.2960715342829403, -1.0118831340257466, -0.11696678202506608, -1.4937611697184208, 0.5714304118216113, null, -0.7365242564870756, null, null, 0.7091098505909467, null, null, 2.4989425545923076, -0.11696678202506608, 0.8467892893602822, null, -0.5988448177177402, -0.8053639758717435, -1.0807228534104143, 0.7091098505909467, -0.18580650140973382, null, -1.8379597666417595, -0.7365242564870756, null, null, null, null, -0.8053639758717435, -1.5626008891030885, -0.5988448177177402, 1.3286673250529564, -0.04812706264039835, 2.43010283520764, null, -0.5988448177177402, -0.08254692233273221, -1.700280327872424, -1.2872420115644176, -0.5300050983330725, 0.5714304118216113, 1.0533084475142853, -1.7691200472570916, null, null, -0.04812706264039835, -0.7365242564870756, -0.8742036952564112, -0.2546462207944016, 0.15839209551360486, -0.9430434146410789, -0.5988448177177402, -0.2546462207944016, 0.15839209551360486, -0.3234859401790693, null, null, -1.9873419577064886, 0.02071265674426938, -0.5300050983330725, -0.04812706264039835, null, -0.11696678202506608, -0.8742036952564112, 0.22723181489827257, -0.9430434146410789, null, -0.46116537894840476, -0.392325659563737, -0.04812706264039835, -0.6676845371024079, 1.122148166898953, -0.2546462207944016, 2.0170645188996335, null, 2.8431411515156464, -0.46116537894840476, 0.2960715342829403, 0.2960715342829403, -0.11696678202506608, null, -0.5988448177177402, 0.22723181489827257, 0.5025906924369435, -0.11696678202506608, -0.5988448177177402, null, 0.5714304118216113, null, 1.190987886283621, -1.0463029937180806, -0.5300050983330725, -0.6676845371024079, -0.8742036952564112, -0.5988448177177402, 2.8087212918233124, -0.04812706264039835, -0.392325659563737, -1.9067994860264272, -0.5988448177177402, null, 0.19281195520593872, 0.19281195520593872, 1.672865921976295, -1.21840229217975, null, -0.392325659563737, null, 1.0533084475142853, 0.22723181489827257, -0.6676845371024079, 1.190987886283621, -0.04812706264039835, -0.3234859401790693, -0.46116537894840476, -0.7365242564870756, 0.5025906924369435, -0.9430434146410789, -0.392325659563737, null, -0.5300050983330725, -0.392325659563737, -0.7365242564870756, -0.8053639758717435, -0.7365242564870756, -0.18580650140973382, -1.424921450333753, 0.46817083274460963, 0.8467892893602822, 1.4663467638222918, -0.5300050983330725, 1.7761255010532966, 0.7435297102832806, null, 1.4663467638222918, -0.9430434146410789, 0.02071265674426938, null, null, 0.9844687281296176, 0.7091098505909467, -0.2546462207944016, -0.8742036952564112, -1.975639205411095, -1.424921450333753, null, 1.0533084475142853, null, -0.11696678202506608, 2.1547439576689693, -1.7691200472570916, -1.975639205411095, -0.5988448177177402, 1.8105453607456305, -0.8053639758717435, null, 1.397507044437624, 0.02071265674426938, 0.4337509730522758, null, null, -1.424921450333753, -1.975639205411095, -1.7691200472570916, null, null, 1.0533084475142853, 0.7091098505909467, 0.4337509730522758, 0.15839209551360486, -0.7365242564870756, -0.7365242564870756, -1.8379597666417595, 0.9844687281296176, 1.948224799514966, null, 0.8467892893602822, null, -0.392325659563737, -0.11696678202506608, null, 0.2960715342829403, 1.0877283072066193, -0.8053639758717435, -1.9067994860264272, 0.15839209551360486, -0.2546462207944016, -0.9430434146410789, 0.7091098505909467, -0.392325659563737, 0.36491125366760807, -0.5300050983330725, 0.02071265674426938, null, 0.08955237612893711, -0.18580650140973382, 0.8467892893602822, 0.15839209551360486, 0.02071265674426938, -0.9430434146410789, -0.18580650140973382, 1.4663467638222918, null, 0.5714304118216113, -0.5300050983330725, -0.7365242564870756, -0.6332646774100741, -0.8053639758717435, null, 0.36491125366760807, -0.04812706264039835, 2.0170645188996335, -1.700280327872424, -0.392325659563737, null, 0.9844687281296176, -1.4937611697184208, -0.7365242564870756, 0.22723181489827257, null, null, -0.04812706264039835, -0.5300050983330725, 0.02071265674426938, 0.9844687281296176, -0.3234859401790693, -0.392325659563737, 0.5025906924369435, 1.672865921976295, null, -0.04812706264039835, 2.223583677053637, 0.02071265674426938, 0.7779495699756145, -0.04812706264039835, null, 0.02071265674426938, 0.36491125366760807, 1.397507044437624, null, -1.8379597666417595, 1.5351864832069595, 0.7091098505909467, null, 0.4337509730522758, -0.9430434146410789, -0.3234859401790693, 1.948224799514966, 0.36491125366760807, null, -0.3234859401790693, 0.7779495699756145, 0.5025906924369435, null, 2.2924233964383047, 1.0533084475142853, null, -1.5626008891030885, 0.36491125366760807, 2.43010283520764, -0.11696678202506608, -0.9430434146410789, -0.7365242564870756, null, 0.22723181489827257, 0.02071265674426938, -0.5300050983330725, 0.8467892893602822, -0.5300050983330725, -0.2546462207944016, -0.7365242564870756, 0.4337509730522758, -0.392325659563737, -0.392325659563737, null, -0.4267455192560709, -1.9067994860264272, null, 1.397507044437624, null, null, -0.7365242564870756, null, null, -1.9811463829618683, null, -0.8742036952564112, 0.02071265674426938, 0.02071265674426938, -0.392325659563737, -0.8053639758717435, -0.2546462207944016, -0.11696678202506608, 0.9156290087449499, -0.2546462207944016, -0.392325659563737, 1.672865921976295, 0.08955237612893711, 0.7091098505909467, -0.5300050983330725, -0.18580650140973382, 0.02071265674426938, -0.5300050983330725, null, 0.4337509730522758, 2.1547439576689693, 0.4337509730522758, 0.08955237612893711, -0.9430434146410789, null, 1.0877283072066193, 0.5714304118216113, -0.9430434146410789, null, null, -0.04812706264039835, 0.7779495699756145, 1.0533084475142853, 1.0533084475142853, -1.9067994860264272, -0.392325659563737, -0.11696678202506608, -0.3234859401790693, 0.4337509730522758, -0.392325659563737, 0.7091098505909467, null, -1.8379597666417595, 0.8467892893602822, -0.46116537894840476, null, -1.0118831340257466, -0.3234859401790693, null, -0.11696678202506608, -0.5300050983330725, 0.5714304118216113, null, null, 0.7091098505909467, -0.04812706264039835, 1.0533084475142853, 0.36491125366760807, null, 0.02071265674426938, 2.0859042382843014, null, null, -0.392325659563737, -0.3234859401790693, -0.8053639758717435, -0.7365242564870756, -0.5300050983330725, -1.8379597666417595, null, -0.5300050983330725, -0.18580650140973382, -0.6676845371024079, -0.7365242564870756, 0.8467892893602822, -1.975639205411095, 0.15839209551360486, 0.36491125366760807, null, -0.8053639758717435, -1.975639205411095, 0.4337509730522758, null, -0.8742036952564112, 0.4337509730522758, -0.5988448177177402, -0.11696678202506608, -0.46116537894840476, -0.392325659563737, -0.5300050983330725, 0.08955237612893711, 1.122148166898953, -0.46116537894840476, -0.11696678202506608, 0.640270131206279, -0.2546462207944016, -0.5988448177177402, -0.11696678202506608, -0.6676845371024079, 0.2960715342829403, 1.4663467638222918, -1.8379597666417595, -0.5988448177177402, null, null, null, 0.22723181489827257, null, 0.9844687281296176, null, 0.2960715342829403, -0.8053639758717435, 0.02071265674426938, -1.3560817309490854, null, -0.5988448177177402, -0.04812706264039835, -0.11696678202506608, -0.8053639758717435, null, -0.11696678202506608, -0.7365242564870756, null, 0.15839209551360486, -0.11696678202506608, null, 0.8467892893602822, -0.8742036952564112, 1.397507044437624, -1.0807228534104143, -0.5988448177177402, -0.392325659563737, 2.361263115822972, 0.08955237612893711, 1.0533084475142853, -0.6676845371024079, -0.3234859401790693, -0.11696678202506608, null, -1.7691200472570916, -1.149562572795082, 0.2960715342829403, -1.700280327872424, 1.5351864832069595, 0.4337509730522758, null, 0.02071265674426938, 1.3286673250529564, null, -0.04812706264039835, 2.43010283520764, null, 1.397507044437624, null, 1.2598276056682887, 0.2960715342829403, 1.190987886283621, 1.2598276056682887, null, 0.5714304118216113, null, 1.8105453607456305, null, -1.992849135257262, null, 0.5714304118216113, 0.22723181489827257, -0.46116537894840476, -0.5300050983330725, null, 0.2960715342829403, -0.04812706264039835, -0.5300050983330725, -1.9067994860264272, -1.424921450333753, null, 1.397507044437624, 2.2924233964383047, -0.3234859401790693, null, 0.36491125366760807, 1.948224799514966, 0.02071265674426938, -1.424921450333753, null, -0.5988448177177402, 1.7417056413609626, 2.8431411515156464, -0.5988448177177402, null, 1.672865921976295, null, -0.3234859401790693, -0.392325659563737, -0.8742036952564112, -0.5988448177177402, null, 0.5025906924369435, -0.9430434146410789, -0.8053639758717435, 0.22723181489827257, null, -0.11696678202506608, -0.2546462207944016, -0.04812706264039835, null, 0.4337509730522758, 1.672865921976295, -0.392325659563737, 1.190987886283621, 0.2960715342829403, null, 0.4337509730522758, 0.15839209551360486, 0.02071265674426938, -0.5300050983330725, null, 0.9844687281296176, null, 0.7435297102832806, 1.397507044437624, null, 0.640270131206279, -0.46116537894840476, -1.9067994860264272, null, -0.8742036952564112, null, 0.02071265674426938, -1.5626008891030885, 1.0533084475142853, 0.02071265674426938, null, -0.5300050983330725, 0.4337509730522758, -1.424921450333753, -1.2872420115644176, 0.15839209551360486, 1.397507044437624, 2.361263115822972, -0.7365242564870756, null, 0.22723181489827257, -1.4937611697184208, -0.8742036952564112, -0.18580650140973382, null, -0.5300050983330725, -0.5300050983330725, 2.223583677053637, 1.2598276056682887, null, 0.640270131206279, 0.4337509730522758, null, 0.7091098505909467, -0.11696678202506608, null, null, -0.392325659563737, -0.7365242564870756, -0.04812706264039835, null, 0.15839209551360486, 2.223583677053637, 1.6040262025916272, 0.4337509730522758, null, -0.9430434146410789, -0.7365242564870756, 0.2960715342829403, 0.640270131206279, null, 0.15839209551360486, -0.3234859401790693, 0.640270131206279, 1.672865921976295, 0.4337509730522758, null, -0.8053639758717435, 1.190987886283621, 2.0859042382843014, -0.5300050983330725, null, 0.36491125366760807, 1.5351864832069595, 1.190987886283621, null, 0.5025906924369435, 0.4337509730522758, null, 1.3286673250529564, null, 1.3286673250529564, -0.392325659563737, null, null, 0.9844687281296176, 0.36491125366760807, 0.4337509730522758, 0.02071265674426938, -0.18580650140973382, -0.5300050983330725, 0.7091098505909467, 0.640270131206279, null, null, null, 0.36491125366760807, -0.392325659563737, 0.2960715342829403, -0.2546462207944016, -1.7691200472570916, -0.2546462207944016, -0.18580650140973382, 0.8467892893602822, -0.6676845371024079, -0.5988448177177402, -0.5988448177177402, 2.1547439576689693, 1.8793850801302983, -0.5988448177177402, -0.2546462207944016, null, 3.462698625977656, 1.4663467638222918, 0.15839209551360486, null, -1.424921450333753, -0.11696678202506608, 0.15839209551360486, 0.08955237612893711, 0.7779495699756145, null, -0.6676845371024079, -0.392325659563737, -1.9067994860264272, null, -1.992849135257262, 1.2598276056682887, -0.7365242564870756, 1.8105453607456305, null, -0.46116537894840476, null, -0.8053639758717435, -0.5988448177177402, null, -0.8053639758717435, -0.392325659563737, null, 0.15839209551360486, -0.46116537894840476, 1.948224799514966, 1.397507044437624, 0.7091098505909467, 1.190987886283621, 0.4337509730522758, -0.6676845371024079, 0.15839209551360486, -0.3234859401790693, null, 0.9156290087449499, null, 0.7091098505909467, 0.08955237612893711, 2.774301432130979, 0.08955237612893711, null, -0.8053639758717435, -0.35790579987140314, -0.8053639758717435, 0.9156290087449499, 0.4337509730522758, null, -0.18580650140973382, -0.6676845371024079, -1.0807228534104143, 2.0859042382843014, -0.3234859401790693, -1.0807228534104143, -0.7365242564870756, -0.8053639758717435, -1.0118831340257466, 0.08955237612893711, -1.7691200472570916, null, -0.3234859401790693, 2.0859042382843014, 1.5351864832069595, 0.9844687281296176, null, 1.3286673250529564, 0.8467892893602822, -0.8053639758717435, 0.36491125366760807, -0.8053639758717435, -0.3234859401790693, -0.2546462207944016, 0.640270131206279, 1.0533084475142853, 0.8467892893602822, -0.5300050983330725, null, -0.392325659563737, null, 1.2598276056682887, -0.04812706264039835, 1.5351864832069595, -0.7365242564870756, 0.5714304118216113, -0.18580650140973382, null, 0.22723181489827257, -1.6314406084877562, -0.8742036952564112, 0.2960715342829403, 1.397507044437624, -0.18580650140973382, -0.6676845371024079, 0.02071265674426938, null, -0.3234859401790693, -0.3234859401790693, -0.04812706264039835, -1.2872420115644176, null, -0.46116537894840476, -0.46116537894840476, -0.08254692233273221, 1.2598276056682887, 0.36491125366760807, null, null, null, 0.4337509730522758, -0.5988448177177402, -0.392325659563737, 0.08955237612893711, 2.774301432130979, -0.9430434146410789, 0.02071265674426938, -0.7365242564870756, 0.08955237612893711, -1.7691200472570916, -1.6314406084877562, 0.22723181489827257, -0.46116537894840476, 1.2598276056682887, -1.998356312808035, -0.11696678202506608, -0.8053639758717435, 0.2960715342829403, 0.22723181489827257, null, 0.7779495699756145, -0.6676845371024079, 0.4337509730522758, -0.9430434146410789, 1.4663467638222918, null, 0.05513251643660325, null, 0.15839209551360486, -0.392325659563737, 1.2598276056682887, 1.8793850801302983, null, 1.672865921976295, -0.8053639758717435, null, -1.700280327872424, null, 0.9156290087449499, -1.149562572795082, -0.8742036952564112, -0.04812706264039835, null, -0.3234859401790693, -0.3234859401790693, -0.8053639758717435, -1.4937611697184208, -1.975639205411095, 1.122148166898953, null, -0.9430434146410789, null, null, -0.3234859401790693, 0.640270131206279, 1.3286673250529564, 0.08955237612893711, 0.02071265674426938, 0.02071265674426938, 0.2960715342829403, 0.08955237612893711, -1.2872420115644176, -2.0155662426542023, -0.18580650140973382, 0.08955237612893711, 0.640270131206279, -0.8053639758717435, 0.640270131206279, 0.22723181489827257, -0.2546462207944016, 0.640270131206279, 0.36491125366760807, -1.6314406084877562, 0.05513251643660325, null, -0.46116537894840476, 0.08955237612893711, 0.9156290087449499, -1.3560817309490854, 1.5351864832069595, -0.18580650140973382, 0.5714304118216113, -0.18580650140973382, -1.9067994860264272, null, null, -1.975639205411095, null, 2.223583677053637, -1.0118831340257466, -1.9873419577064886, null, -0.46116537894840476, -0.8053639758717435, 0.640270131206279, -0.5988448177177402, null, 0.15839209551360486, null, -0.6676845371024079, -0.9430434146410789, 0.02071265674426938, 0.33049139397527416, -0.8742036952564112, 0.8467892893602822, null, 0.36491125366760807, -0.11696678202506608, null, -1.7691200472570916, 3.0496603096696497, -1.424921450333753, -0.9430434146410789, 0.9844687281296176, -0.8053639758717435, 1.0533084475142853, 1.4663467638222918, -0.392325659563737, null, 0.7779495699756145, -0.5988448177177402, 1.2598276056682887, null, -0.392325659563737, 0.8467892893602822, -0.18580650140973382, 0.08955237612893711, null, -1.7691200472570916, -0.2546462207944016, 1.190987886283621, 0.22723181489827257, 1.190987886283621, -0.11696678202506608, -1.0118831340257466, -0.6676845371024079, -0.7365242564870756, null, 1.8105453607456305, -0.3234859401790693, 0.22723181489827257, -0.5300050983330725, -0.11696678202506608, -0.3234859401790693, 0.640270131206279, -0.18580650140973382, -0.7365242564870756, null, -0.2546462207944016, 0.15839209551360486]}],                        {\"barmode\": \"overlay\", \"legend\": {\"bgcolor\": \"#F5F6F9\", \"font\": {\"color\": \"#4D5663\"}}, \"paper_bgcolor\": \"#F5F6F9\", \"plot_bgcolor\": \"#F5F6F9\", \"template\": {\"data\": {\"bar\": [{\"error_x\": {\"color\": \"#2a3f5f\"}, \"error_y\": {\"color\": \"#2a3f5f\"}, \"marker\": {\"line\": {\"color\": \"#E5ECF6\", \"width\": 0.5}}, \"type\": \"bar\"}], \"barpolar\": [{\"marker\": {\"line\": {\"color\": \"#E5ECF6\", \"width\": 0.5}}, \"type\": \"barpolar\"}], \"carpet\": [{\"aaxis\": {\"endlinecolor\": \"#2a3f5f\", \"gridcolor\": \"white\", \"linecolor\": \"white\", \"minorgridcolor\": \"white\", \"startlinecolor\": \"#2a3f5f\"}, \"baxis\": {\"endlinecolor\": \"#2a3f5f\", \"gridcolor\": \"white\", \"linecolor\": \"white\", \"minorgridcolor\": \"white\", \"startlinecolor\": \"#2a3f5f\"}, \"type\": \"carpet\"}], \"choropleth\": [{\"colorbar\": {\"outlinewidth\": 0, \"ticks\": \"\"}, \"type\": \"choropleth\"}], \"contour\": [{\"colorbar\": {\"outlinewidth\": 0, \"ticks\": \"\"}, \"colorscale\": [[0.0, \"#0d0887\"], [0.1111111111111111, \"#46039f\"], [0.2222222222222222, \"#7201a8\"], [0.3333333333333333, \"#9c179e\"], [0.4444444444444444, \"#bd3786\"], [0.5555555555555556, \"#d8576b\"], [0.6666666666666666, \"#ed7953\"], [0.7777777777777778, \"#fb9f3a\"], [0.8888888888888888, \"#fdca26\"], [1.0, \"#f0f921\"]], \"type\": \"contour\"}], \"contourcarpet\": [{\"colorbar\": {\"outlinewidth\": 0, \"ticks\": \"\"}, \"type\": \"contourcarpet\"}], \"heatmap\": [{\"colorbar\": {\"outlinewidth\": 0, \"ticks\": \"\"}, \"colorscale\": [[0.0, \"#0d0887\"], [0.1111111111111111, \"#46039f\"], [0.2222222222222222, \"#7201a8\"], [0.3333333333333333, \"#9c179e\"], [0.4444444444444444, \"#bd3786\"], [0.5555555555555556, \"#d8576b\"], [0.6666666666666666, \"#ed7953\"], [0.7777777777777778, \"#fb9f3a\"], [0.8888888888888888, \"#fdca26\"], [1.0, \"#f0f921\"]], \"type\": \"heatmap\"}], \"heatmapgl\": [{\"colorbar\": {\"outlinewidth\": 0, \"ticks\": \"\"}, \"colorscale\": [[0.0, \"#0d0887\"], [0.1111111111111111, \"#46039f\"], [0.2222222222222222, \"#7201a8\"], [0.3333333333333333, \"#9c179e\"], [0.4444444444444444, \"#bd3786\"], [0.5555555555555556, \"#d8576b\"], [0.6666666666666666, \"#ed7953\"], [0.7777777777777778, \"#fb9f3a\"], [0.8888888888888888, \"#fdca26\"], [1.0, \"#f0f921\"]], \"type\": \"heatmapgl\"}], \"histogram\": [{\"marker\": {\"colorbar\": {\"outlinewidth\": 0, \"ticks\": \"\"}}, \"type\": \"histogram\"}], \"histogram2d\": [{\"colorbar\": {\"outlinewidth\": 0, \"ticks\": \"\"}, \"colorscale\": [[0.0, \"#0d0887\"], [0.1111111111111111, \"#46039f\"], [0.2222222222222222, \"#7201a8\"], [0.3333333333333333, \"#9c179e\"], [0.4444444444444444, \"#bd3786\"], [0.5555555555555556, \"#d8576b\"], [0.6666666666666666, \"#ed7953\"], [0.7777777777777778, \"#fb9f3a\"], [0.8888888888888888, \"#fdca26\"], [1.0, \"#f0f921\"]], \"type\": \"histogram2d\"}], \"histogram2dcontour\": [{\"colorbar\": {\"outlinewidth\": 0, \"ticks\": \"\"}, \"colorscale\": [[0.0, \"#0d0887\"], [0.1111111111111111, \"#46039f\"], [0.2222222222222222, \"#7201a8\"], [0.3333333333333333, \"#9c179e\"], [0.4444444444444444, \"#bd3786\"], [0.5555555555555556, \"#d8576b\"], [0.6666666666666666, \"#ed7953\"], [0.7777777777777778, \"#fb9f3a\"], [0.8888888888888888, \"#fdca26\"], [1.0, \"#f0f921\"]], \"type\": \"histogram2dcontour\"}], \"mesh3d\": [{\"colorbar\": {\"outlinewidth\": 0, \"ticks\": \"\"}, \"type\": \"mesh3d\"}], \"parcoords\": [{\"line\": {\"colorbar\": {\"outlinewidth\": 0, \"ticks\": \"\"}}, \"type\": \"parcoords\"}], \"pie\": [{\"automargin\": true, \"type\": \"pie\"}], \"scatter\": [{\"marker\": {\"colorbar\": {\"outlinewidth\": 0, \"ticks\": \"\"}}, \"type\": \"scatter\"}], \"scatter3d\": [{\"line\": {\"colorbar\": {\"outlinewidth\": 0, \"ticks\": \"\"}}, \"marker\": {\"colorbar\": {\"outlinewidth\": 0, \"ticks\": \"\"}}, \"type\": \"scatter3d\"}], \"scattercarpet\": [{\"marker\": {\"colorbar\": {\"outlinewidth\": 0, \"ticks\": \"\"}}, \"type\": \"scattercarpet\"}], \"scattergeo\": [{\"marker\": {\"colorbar\": {\"outlinewidth\": 0, \"ticks\": \"\"}}, \"type\": \"scattergeo\"}], \"scattergl\": [{\"marker\": {\"colorbar\": {\"outlinewidth\": 0, \"ticks\": \"\"}}, \"type\": \"scattergl\"}], \"scattermapbox\": [{\"marker\": {\"colorbar\": {\"outlinewidth\": 0, \"ticks\": \"\"}}, \"type\": \"scattermapbox\"}], \"scatterpolar\": [{\"marker\": {\"colorbar\": {\"outlinewidth\": 0, \"ticks\": \"\"}}, \"type\": \"scatterpolar\"}], \"scatterpolargl\": [{\"marker\": {\"colorbar\": {\"outlinewidth\": 0, \"ticks\": \"\"}}, \"type\": \"scatterpolargl\"}], \"scatterternary\": [{\"marker\": {\"colorbar\": {\"outlinewidth\": 0, \"ticks\": \"\"}}, \"type\": \"scatterternary\"}], \"surface\": [{\"colorbar\": {\"outlinewidth\": 0, \"ticks\": \"\"}, \"colorscale\": [[0.0, \"#0d0887\"], [0.1111111111111111, \"#46039f\"], [0.2222222222222222, \"#7201a8\"], [0.3333333333333333, \"#9c179e\"], [0.4444444444444444, \"#bd3786\"], [0.5555555555555556, \"#d8576b\"], [0.6666666666666666, \"#ed7953\"], [0.7777777777777778, \"#fb9f3a\"], [0.8888888888888888, \"#fdca26\"], [1.0, \"#f0f921\"]], \"type\": \"surface\"}], \"table\": [{\"cells\": {\"fill\": {\"color\": \"#EBF0F8\"}, \"line\": {\"color\": \"white\"}}, \"header\": {\"fill\": {\"color\": \"#C8D4E3\"}, \"line\": {\"color\": \"white\"}}, \"type\": \"table\"}]}, \"layout\": {\"annotationdefaults\": {\"arrowcolor\": \"#2a3f5f\", \"arrowhead\": 0, \"arrowwidth\": 1}, \"coloraxis\": {\"colorbar\": {\"outlinewidth\": 0, \"ticks\": \"\"}}, \"colorscale\": {\"diverging\": [[0, \"#8e0152\"], [0.1, \"#c51b7d\"], [0.2, \"#de77ae\"], [0.3, \"#f1b6da\"], [0.4, \"#fde0ef\"], [0.5, \"#f7f7f7\"], [0.6, \"#e6f5d0\"], [0.7, \"#b8e186\"], [0.8, \"#7fbc41\"], [0.9, \"#4d9221\"], [1, \"#276419\"]], \"sequential\": [[0.0, \"#0d0887\"], [0.1111111111111111, \"#46039f\"], [0.2222222222222222, \"#7201a8\"], [0.3333333333333333, \"#9c179e\"], [0.4444444444444444, \"#bd3786\"], [0.5555555555555556, \"#d8576b\"], [0.6666666666666666, \"#ed7953\"], [0.7777777777777778, \"#fb9f3a\"], [0.8888888888888888, \"#fdca26\"], [1.0, \"#f0f921\"]], \"sequentialminus\": [[0.0, \"#0d0887\"], [0.1111111111111111, \"#46039f\"], [0.2222222222222222, \"#7201a8\"], [0.3333333333333333, \"#9c179e\"], [0.4444444444444444, \"#bd3786\"], [0.5555555555555556, \"#d8576b\"], [0.6666666666666666, \"#ed7953\"], [0.7777777777777778, \"#fb9f3a\"], [0.8888888888888888, \"#fdca26\"], [1.0, \"#f0f921\"]]}, \"colorway\": [\"#636efa\", \"#EF553B\", \"#00cc96\", \"#ab63fa\", \"#FFA15A\", \"#19d3f3\", \"#FF6692\", \"#B6E880\", \"#FF97FF\", \"#FECB52\"], \"font\": {\"color\": \"#2a3f5f\"}, \"geo\": {\"bgcolor\": \"white\", \"lakecolor\": \"white\", \"landcolor\": \"#E5ECF6\", \"showlakes\": true, \"showland\": true, \"subunitcolor\": \"white\"}, \"hoverlabel\": {\"align\": \"left\"}, \"hovermode\": \"closest\", \"mapbox\": {\"style\": \"light\"}, \"paper_bgcolor\": \"white\", \"plot_bgcolor\": \"#E5ECF6\", \"polar\": {\"angularaxis\": {\"gridcolor\": \"white\", \"linecolor\": \"white\", \"ticks\": \"\"}, \"bgcolor\": \"#E5ECF6\", \"radialaxis\": {\"gridcolor\": \"white\", \"linecolor\": \"white\", \"ticks\": \"\"}}, \"scene\": {\"xaxis\": {\"backgroundcolor\": \"#E5ECF6\", \"gridcolor\": \"white\", \"gridwidth\": 2, \"linecolor\": \"white\", \"showbackground\": true, \"ticks\": \"\", \"zerolinecolor\": \"white\"}, \"yaxis\": {\"backgroundcolor\": \"#E5ECF6\", \"gridcolor\": \"white\", \"gridwidth\": 2, \"linecolor\": \"white\", \"showbackground\": true, \"ticks\": \"\", \"zerolinecolor\": \"white\"}, \"zaxis\": {\"backgroundcolor\": \"#E5ECF6\", \"gridcolor\": \"white\", \"gridwidth\": 2, \"linecolor\": \"white\", \"showbackground\": true, \"ticks\": \"\", \"zerolinecolor\": \"white\"}}, \"shapedefaults\": {\"line\": {\"color\": \"#2a3f5f\"}}, \"ternary\": {\"aaxis\": {\"gridcolor\": \"white\", \"linecolor\": \"white\", \"ticks\": \"\"}, \"baxis\": {\"gridcolor\": \"white\", \"linecolor\": \"white\", \"ticks\": \"\"}, \"bgcolor\": \"#E5ECF6\", \"caxis\": {\"gridcolor\": \"white\", \"linecolor\": \"white\", \"ticks\": \"\"}}, \"title\": {\"x\": 0.05}, \"xaxis\": {\"automargin\": true, \"gridcolor\": \"white\", \"linecolor\": \"white\", \"ticks\": \"\", \"title\": {\"standoff\": 15}, \"zerolinecolor\": \"white\", \"zerolinewidth\": 2}, \"yaxis\": {\"automargin\": true, \"gridcolor\": \"white\", \"linecolor\": \"white\", \"ticks\": \"\", \"title\": {\"standoff\": 15}, \"zerolinecolor\": \"white\", \"zerolinewidth\": 2}}}, \"title\": {\"font\": {\"color\": \"#4D5663\"}}, \"xaxis\": {\"gridcolor\": \"#E1E5ED\", \"showgrid\": true, \"tickfont\": {\"color\": \"#4D5663\"}, \"title\": {\"font\": {\"color\": \"#4D5663\"}, \"text\": \"Age\"}, \"zerolinecolor\": \"#E1E5ED\"}, \"yaxis\": {\"gridcolor\": \"#E1E5ED\", \"showgrid\": true, \"tickfont\": {\"color\": \"#4D5663\"}, \"title\": {\"font\": {\"color\": \"#4D5663\"}, \"text\": \"Frequency\"}, \"zerolinecolor\": \"#E1E5ED\"}},                        {\"showLink\": true, \"linkText\": \"Export to plot.ly\", \"plotlyServerURL\": \"https://plot.ly\", \"responsive\": true}                    ).then(function(){\n",
       "                            \n",
       "var gd = document.getElementById('8780d987-6047-48f2-ae9e-018db7391279');\n",
       "var x = new MutationObserver(function (mutations, observer) {{\n",
       "        var display = window.getComputedStyle(gd).display;\n",
       "        if (!display || display === 'none') {{\n",
       "            console.log([gd, 'removed!']);\n",
       "            Plotly.purge(gd);\n",
       "            observer.disconnect();\n",
       "        }}\n",
       "}});\n",
       "\n",
       "// Listen for the removal of the full notebook cells\n",
       "var notebookContainer = gd.closest('#notebook-container');\n",
       "if (notebookContainer) {{\n",
       "    x.observe(notebookContainer, {childList: true});\n",
       "}}\n",
       "\n",
       "// Listen for the clearing of the current output cell\n",
       "var outputEl = gd.closest('.output');\n",
       "if (outputEl) {{\n",
       "    x.observe(outputEl, {childList: true});\n",
       "}}\n",
       "\n",
       "                        })                };                });            </script>        </div>"
      ]
     },
     "metadata": {},
     "output_type": "display_data"
    }
   ],
   "source": [
    "data_train1['Age'].iplot(kind='hist',xTitle='Age', yTitle='Frequency')"
   ]
  },
  {
   "cell_type": "code",
   "execution_count": 15,
   "metadata": {},
   "outputs": [
    {
     "data": {
      "application/vnd.plotly.v1+json": {
       "config": {
        "linkText": "Export to plot.ly",
        "plotlyServerURL": "https://plot.ly",
        "showLink": true
       },
       "data": [
        {
         "histfunc": "count",
         "histnorm": "",
         "marker": {
          "color": "rgba(255, 153, 51, 1.0)",
          "line": {
           "color": "#4D5663",
           "width": 1.3
          }
         },
         "name": "Fare",
         "opacity": 0.8,
         "orientation": "v",
         "type": "histogram",
         "x": [
          -0.5021631365156045,
          0.7864036178345388,
          -0.4885798515812602,
          0.4204940697654099,
          -0.48606442844527054,
          -0.47784805031387384,
          0.39559138071911193,
          -0.223957337675146,
          -0.42401799520369476,
          -0.04293139010125837,
          -0.3119971474347848,
          -0.11378180431879803,
          -0.48606442844527054,
          -0.018698809778388194,
          -0.49000458724548485,
          -0.326083516996327,
          -0.061964087717410646,
          -0.38645367226007926,
          -0.2858367468204921,
          -0.5026662211428025,
          -0.12484966611715263,
          -0.38645367226007926,
          -0.48648299485509927,
          0.066322492218063,
          -0.223957337675146,
          -0.016434928955997467,
          -0.5026662211428025,
          4.644392599719279,
          -0.48950150261828684,
          -0.48916745442582743,
          -0.09022134505786429,
          2.3004368033867273,
          -0.4921014439716458,
          -0.4367621349798729,
          1.00549697297924,
          0.39835834616870064,
          -0.5025817029254332,
          -0.48606442844527054,
          -0.2858367468204921,
          -0.42183662026016444,
          -0.4573886046949882,
          -0.2254665915567398,
          -0.48916745442582743,
          0.18865657484453066,
          -0.48950150261828684,
          -0.48606442844527054,
          -0.3361452095402857,
          -0.4921014439716458,
          -0.21179878840502625,
          -0.28986142383807556,
          0.15058916727371724,
          -0.4910952747172499,
          0.8959935606848286,
          -0.12484966611715263,
          0.5991736306380463,
          0.066322492218063,
          -0.4367621349798729,
          -0.5025817029254332,
          -0.08963374221329712,
          0.29572908222032174,
          -0.5025817029254332,
          0.9618131286303888,
          1.0317418918109018,
          -0.08661523445010953,
          -0.09022134505786429,
          -0.34126057402963433,
          -0.4367621349798729,
          -0.4838850658402491,
          -0.4885798515812602,
          -0.4737388550789211,
          -0.4367621349798729,
          0.29572908222032174,
          0.8310111255589255,
          -0.3571902456652297,
          0.48882906084695993,
          -0.4941137824804376,
          -0.48916745442582743,
          -0.48606442844527054,
          -0.06447951085340033,
          -0.3970184494312359,
          -0.466947212611749,
          -0.4568855200677903,
          -0.49134681703084887,
          0.29975375923790526,
          -0.4367621349798729,
          -0.32910202475951456,
          0.043683683994155884,
          -0.48606442844527054,
          4.644392599719279,
          -0.48606442844527054,
          -0.48606442844527054,
          -0.49000458724548485,
          0.5829904043503431,
          -0.23401903021910472,
          -0.5021631365156045,
          -0.48606442844527054,
          0.04930213311070249,
          0.6269257910127932,
          -0.18521982138090493,
          -0.12484966611715263,
          -0.48916745442582743,
          -0.48916745442582743,
          0.9072284465794127,
          -0.47390587917515087,
          -0.4885798515812602,
          -0.48916745442582743,
          -0.4941137824804376,
          -0.4915983593444479,
          -0.48916745442582743,
          -0.1620779285297999,
          0.39835834616870064,
          -0.3571902456652297,
          -0.48606442844527054,
          -0.4503454199142171,
          -0.3571077397863693,
          -0.4885798515812602,
          -0.4921014439716458,
          -0.2254665915567398,
          4.332898697266388,
          -0.018698809778388194,
          0.8310111255589255,
          -0.48606442844527054,
          -0.04293139010125837,
          -0.38645367226007926,
          0.9072284465794127,
          -0.42183662026016444,
          -0.4921014439716458,
          -0.504342499120626,
          -0.19813299759182154,
          -0.5076970674147818,
          -0.48916745442582743,
          -0.506187813533188,
          -0.35626859462820315,
          -0.12484966611715263,
          -0.38645367226007926,
          -0.3452852510472178,
          -0.1191487111217456,
          0.4204940697654099,
          -0.46258647506319733,
          0.945714420560055,
          -0.34126057402963433,
          -0.4921014439716458,
          -0.32910202475951456,
          -0.5122248290595632,
          -0.41663874989195543,
          0.09147672357795979,
          -0.49117979293461916,
          0.043683683994155884,
          -0.12484966611715263,
          -0.38645367226007926,
          -0.3960122801768401,
          0.6921597684522951,
          -0.48606442844527054,
          -0.35626859462820315,
          -0.5009054249476097,
          0.5870995995852958,
          -0.49243750450261403,
          -0.48606442844527054,
          -0.4737388550789211,
          0.7515237544616515,
          -0.3240711784875352,
          -0.33111436326830634,
          -0.4915983593444479,
          -0.4737388550789211,
          0.15058916727371724,
          -0.23502519947350062,
          0.458728501432453,
          -0.08661523445010953,
          -0.12635891999874643,
          0.48882906084695993,
          0.026075722042228126,
          -0.061964087717410646,
          -0.42401799520369476,
          -0.4885798515812602,
          -0.030354274421309974,
          -0.49000458724548485,
          -0.135581467384539,
          -0.07026498406617662,
          -0.38645367226007926,
          -0.6480576784030059,
          0.7515237544616515,
          -0.34520073282984853,
          -0.016434928955997467,
          0.13675434002577402,
          -0.20484012184162445,
          0.3581115759928658,
          -0.3361452095402857,
          -0.11378180431879803,
          -0.3361452095402857,
          -0.48916745442582743,
          -0.38645367226007926,
          -0.38645367226007926,
          -0.49000458724548485,
          -0.12484966611715263,
          -0.09022134505786429,
          2.3004368033867273,
          -0.4921014439716458,
          -0.47893672544713023,
          -0.4921014439716458,
          -0.38645367226007926,
          -0.4568855200677903,
          0.7515237544616515,
          -0.5173401935489119,
          -0.5026662211428025,
          -0.48606442844527054,
          -0.4375167619206698,
          -0.32910202475951456,
          -0.2699895810637571,
          -0.4921014439716458,
          -0.024232740677565458,
          -0.506187813533188,
          -0.2254665915567398,
          -0.5021631365156045,
          -0.38645367226007926,
          -0.4921014439716458,
          1.6314187674308418,
          -0.4885798515812602,
          -0.1047262810292352,
          0.8871895797088647,
          -0.4367621349798729,
          -0.48606442844527054,
          -0.38645367226007926,
          -0.48606442844527054,
          -0.48916745442582743,
          1.1630469795095633,
          -0.4599040278309779,
          -0.4367621349798729,
          -0.5021631365156045,
          -0.38645367226007926,
          -0.135581467384539,
          1.0317418918109018,
          -0.4915983593444479,
          -0.37639197971612054,
          -0.016434928955997467,
          -0.4367621349798729,
          -0.49612612098922926,
          -0.12484966611715263,
          -0.11981881984517327,
          -0.4367621349798729,
          -0.40104312644881945,
          -0.3571902456652297,
          -0.3361452095402857,
          -0.4367621349798729,
          -0.5046785596515942,
          -0.5026662211428025,
          1.1630469795095633,
          -0.4915983593444479,
          -0.35626859462820315,
          0.4095107261844245,
          -0.12484966611715263,
          -0.5021631365156045,
          -0.4375167619206698,
          -0.11378180431879803,
          -0.3240711784875352,
          -0.24131375731347482,
          -0.34126057402963433,
          0.945714420560055,
          1.0926151317018522,
          9.661740104981662,
          -0.12484966611715263,
          -0.4921014439716458,
          -0.016434928955997467,
          0.9547699438496179,
          -0.6480576784030059,
          -0.4921014439716458,
          -0.4367621349798729,
          0.15058916727371724,
          -0.4915983593444479,
          2.4401273056515236,
          2.0813434482420257,
          -0.024232740677565458,
          -0.6480576784030059,
          -0.2556516691886159,
          -0.05039314129185814,
          -0.4921014439716458,
          0.9207272132963876,
          -0.4921014439716458,
          -0.6480576784030059,
          -0.061964087717410646,
          -0.24055913037267787,
          -0.4921014439716458,
          -0.49000458724548485,
          -0.4568855200677903,
          -0.48606442844527054,
          -0.12484966611715263,
          -0.4737388550789211,
          -0.4568855200677903,
          -0.48916745442582743,
          -0.38645367226007926,
          -0.4921014439716458,
          0.9386712357792837,
          1.1847641366964436,
          -0.38896909539606894,
          -0.4699657203749366,
          -0.48916745442582743,
          -0.09022134505786429,
          -0.5025817029254332,
          2.4016413316708816,
          -0.03429443322152417,
          4.332898697266388,
          -0.4921014439716458,
          -0.18018897510892556,
          -0.6480576784030059,
          -0.39953387256722556,
          -0.48606442844527054,
          2.4016413316708816,
          1.5832896673160692,
          1.543378957671203,
          -0.1650964362929875,
          0.4975505359440633,
          1.0253688157535583,
          4.631815484039331,
          -0.12484966611715263,
          -0.48916745442582743,
          -0.11981881984517327,
          -0.49000458724548485,
          -0.12484966611715263,
          -0.3663302871721618,
          2.669618413871152,
          2.0585376159218893,
          -0.5021631365156045,
          -0.48916745442582743,
          -0.39953387256722556,
          -0.06447951085340033,
          0.7515237544616515,
          2.0813434482420257,
          -0.5225380639171209,
          -0.38645367226007926,
          -0.23502519947350062,
          0.5186800902863765,
          -0.18018897510892556,
          -0.07454120339735905,
          2.4401273056515236,
          -0.2858367468204921,
          2.0414327385971593,
          -0.48916745442582743,
          0.6921597684522951,
          2.0585376159218893,
          -0.48606442844527054,
          0.066322492218063,
          -0.12484966611715263,
          4.644392599719279,
          -0.38645367226007926,
          -0.38645367226007926,
          -0.38645367226007926,
          -0.38645367226007926,
          -0.38645367226007926,
          -0.3240711784875352,
          -0.3280958555051187,
          -0.4737388550789211,
          -0.46241945096696757,
          0.05626079967410428,
          -0.5025817029254332,
          -0.28986142383807556,
          -0.5026662211428025,
          -0.4568855200677903,
          0.458728501432453,
          -0.38645367226007926,
          -0.48950150261828684,
          -0.48950150261828684,
          -0.08661523445010953,
          -0.09022134505786429,
          -0.3571902456652297,
          -0.506187813533188,
          -0.3361452095402857,
          -0.5021631365156045,
          0.866227049462781,
          -0.5025817029254332,
          -0.4921014439716458,
          0.7464929081896722,
          0.46761700062578604,
          -0.5173401935489119,
          -0.48606442844527054,
          2.0813434482420257,
          -0.223957337675146,
          1.00549697297924,
          -0.5021631365156045,
          3.6080382676915317,
          -0.5673125957377372,
          -0.4915983593444479,
          3.9305155137254086,
          -0.331281387364536,
          -0.4885798515812602,
          0.39835834616870064,
          -0.48916745442582743,
          0.8310111255589255,
          0.29572908222032174,
          -0.38645367226007926,
          -0.4925200103814745,
          -0.4065770573479967,
          1.7667485321470864,
          -0.49117979293461916,
          -0.4885798515812602,
          1.6314187674308418,
          -0.3119971474347848,
          -0.49117979293461916,
          -0.49000458724548485,
          -0.12484966611715263,
          -0.4367621349798729,
          -0.3934968570408504,
          -0.4885798515812602,
          -0.48606442844527054,
          -0.4503454199142171,
          -0.32910202475951456,
          -0.4737388550789211,
          -0.2254665915567398,
          -0.4921014439716458,
          -0.270744208004554,
          -0.4915983593444479,
          -0.135581467384539,
          -0.48916745442582743,
          -0.5100454664545417,
          1.1630469795095633,
          -0.6480576784030059,
          -0.4885798515812602,
          -0.48606442844527054,
          0.005952336954310693,
          -0.38645367226007926,
          -0.38645367226007926,
          -0.1620779285297999,
          -0.48916745442582743,
          -0.49243750450261403,
          -0.4895860208356561,
          -0.3582809331369949,
          -0.24131375731347482,
          -0.5021631365156045,
          -0.12484966611715263,
          -0.12484966611715263,
          -0.4921014439716458,
          -0.48606442844527054,
          -0.11378180431879803,
          -0.3240711784875352,
          -0.12484966611715263,
          -0.5046785596515942,
          0.47683954801157863,
          1.7667485321470864,
          0.043683683994155884,
          -0.270744208004554,
          4.644392599719279,
          -0.4367621349798729,
          -0.11981881984517327,
          -0.4568855200677903,
          -0.4915983593444479,
          -0.38645367226007926,
          -0.4848067168772757,
          0.9992084151392658,
          -0.2556516691886159,
          -0.11378180431879803,
          -0.26051549136436564,
          -0.03429443322152417,
          -0.08963374221329712,
          -0.24626008536808489,
          -0.08963374221329712,
          1.1450204511478068,
          -0.48606442844527054,
          -0.48916745442582743,
          -0.11378180431879803,
          0.39559138071911193,
          -0.4367621349798729,
          -0.4921014439716458,
          -0.11378180431879803,
          -0.48606442844527054,
          0.1266926474818153,
          -0.38645367226007926,
          -0.48606442844527054,
          -0.506187813533188,
          -0.6480576784030059,
          -0.11378180431879803,
          -0.49260452859884374,
          -0.26051549136436564,
          -0.5021631365156045,
          -0.4737388550789211,
          -0.08963374221329712,
          -0.37052198828597505,
          -0.4500938776006182,
          0.39835834616870064,
          -0.2254665915567398,
          -0.5062723317505573,
          -0.49671372383379647,
          -0.4007915841352204,
          0.29572908222032174,
          -0.6480576784030059,
          -0.48606442844527054,
          -0.45512472387259756,
          1.1847641366964436,
          -0.135581467384539,
          1.1630469795095633,
          -0.05039314129185814,
          -0.48606442844527054,
          -0.3280958555051187,
          -0.24626008536808489,
          -0.5021631365156045,
          -0.03429443322152417,
          0.3481344016662763,
          -0.48606442844527054,
          -0.3571077397863693,
          0.9269332652575015,
          -0.34419456357545264,
          2.4016413316708816,
          -0.49117979293461916,
          -0.4737388550789211,
          -0.4921014439716458,
          -0.4945323488902662,
          -0.45512472387259756,
          1.0926151317018522,
          1.543378957671203,
          -0.12484966611715263,
          -0.11378180431879803,
          -0.19477842929766576,
          0.48882906084695993,
          -0.4921014439716458,
          -0.48606442844527054,
          -0.11906419290437634,
          0.5472713958192896,
          -0.4972168084609944,
          0.03655598099601555,
          -0.4367621349798729,
          -0.1620779285297999,
          -0.12484966611715263,
          -0.48916745442582743,
          1.233478827317274,
          -0.48916745442582743,
          -0.5026662211428025,
          0.5186800902863765,
          -0.5025817029254332,
          -0.4921014439716458,
          -0.4367621349798729,
          3.8148905676872524,
          -0.4885798515812602,
          -0.41663874989195543,
          -0.12484966611715263,
          -0.5025817029254332,
          -0.5025817029254332,
          -0.19813299759182154,
          -0.4737388550789211,
          -0.11981881984517327,
          -0.11378180431879803,
          1.493573579578607,
          -0.35626859462820315,
          0.3480498834489071,
          0.7807026628391319,
          -0.018698809778388194,
          -0.018698809778388194,
          -0.12484966611715263,
          1.493573579578607,
          -0.12484966611715263,
          -0.12484966611715263,
          -0.36909725262175047,
          -0.23502519947350062,
          0.09147672357795979,
          1.5832896673160692,
          -0.12484966611715263,
          -0.49050767187268274,
          -0.5026662211428025,
          -0.4915983593444479,
          -0.11378180431879803,
          0.1488283710785245,
          3.9305155137254086,
          0.9547699438496179,
          -0.2979107778732426,
          -0.4921014439716458,
          -0.48916745442582743,
          -0.37639197971612054,
          -0.48606442844527054,
          -0.48606442844527054,
          -0.1620779285297999,
          -0.48916745442582743,
          -0.223957337675146,
          -0.5025817029254332,
          -0.49000458724548485,
          -0.4367621349798729,
          0.38787808721491324,
          -0.11705185439558463,
          -0.4921014439716458,
          -0.48606442844527054,
          -0.35626859462820315,
          -0.38645367226007926,
          0.47683954801157863,
          -0.3571077397863693,
          -0.4885798515812602,
          -0.044356125765482896,
          1.5832896673160692,
          -0.12484966611715263,
          0.15939314824968112,
          -0.4727326858245253,
          0.9547699438496179,
          -0.34620690208424443,
          0.945714420560055,
          -0.48606442844527054,
          -0.48606442844527054,
          -0.5046785596515942,
          0.9269332652575015,
          -0.5021631365156045,
          -0.4921014439716458,
          -0.12484966611715263,
          -0.1620779285297999,
          0.01601402949826941,
          -0.6480576784030059,
          -0.5026662211428025,
          0.4975505359440633,
          -0.1047262810292352,
          -0.48916745442582743,
          0.20517384932469326,
          -0.48606442844527054,
          -0.11378180431879803,
          -0.3351390402858898,
          -0.48916745442582743,
          -0.03429443322152417,
          0.18865657484453066,
          2.4401273056515236,
          -0.018698809778388194,
          -0.506187813533188,
          -0.3361452095402857,
          -0.4921014439716458,
          -0.48606442844527054,
          0.6599623523116273,
          -0.3582809331369949,
          -0.3240711784875352,
          0.13675434002577402,
          -0.4367621349798729,
          -0.3571902456652297,
          0.4095107261844245,
          -0.331281387364536,
          -0.49000458724548485,
          -0.3240711784875352,
          0.002346226346555857,
          -0.39953387256722556,
          0.9207272132963876,
          -0.48916745442582743,
          -0.49243750450261403,
          -0.044356125765482896,
          -0.5061032953158188,
          -0.03429443322152417,
          -0.6480576784030059,
          -0.08661523445010953,
          -0.38645367226007926,
          -0.4885798515812602,
          -0.11981881984517327,
          0.15058916727371724,
          -0.3240711784875352,
          -0.49000458724548485,
          0.7464929081896722,
          -0.08661523445010953,
          0.48882906084695993,
          -0.26051549136436564,
          0.8959935606848286,
          -0.48916745442582743,
          0.066322492218063,
          -0.49612612098922926,
          -0.49612612098922926,
          -0.48916745442582743,
          -0.18521982138090493,
          -0.47835113494107184,
          -0.49050767187268274,
          -0.5122248290595632,
          0.8310111255589255,
          -0.48916745442582743,
          -0.3361452095402857,
          -0.38645367226007926,
          1.6314187674308418,
          2.0414327385971593,
          -0.5026662211428025,
          -0.1331505624659186,
          -0.4972168084609944,
          -0.4885798515812602,
          0.8310111255589255,
          -0.38645367226007926,
          -0.4915983593444479,
          -0.48606442844527054,
          0.39835834616870064,
          0.13675434002577402,
          0.39835834616870064,
          -0.4367621349798729,
          -0.38645367226007926,
          -0.6480576784030059,
          -0.4915983593444479,
          -0.48606442844527054,
          -0.45000935938324893,
          0.29572908222032174,
          9.661740104981662,
          -0.48430363225007783,
          0.8959935606848286,
          -0.46241945096696757,
          0.29572908222032174,
          0.13675434002577402,
          0.18865657484453066,
          0.15058916727371724,
          -0.4433867533508153,
          -0.49117979293461916,
          3.6047682176147453,
          0.4989752716082878,
          -0.3780682576939441,
          0.48882906084695993,
          -0.5026662211428025,
          -0.11378180431879803,
          -0.37639197971612054,
          -0.48606442844527054,
          -0.49243750450261403,
          1.5832896673160692,
          -0.4941137824804376,
          3.9305155137254086,
          -0.11906419290437634,
          -0.3571902456652297,
          -0.4922684680678755,
          -0.49000458724548485,
          -0.12484966611715263,
          -0.37639197971612054,
          -0.11906419290437634,
          2.4016413316708816,
          -0.34126057402963433,
          0.3481344016662763,
          -0.11378180431879803,
          0.39835834616870064,
          -0.4572215805987585,
          -0.38645367226007926,
          -0.4941137824804376,
          3.9305155137254086,
          -0.4367621349798729,
          -0.3361452095402857,
          -0.4915983593444479,
          0.01601402949826941,
          -0.5061032953158188,
          -0.38645367226007926,
          -0.38645367226007926,
          0.4204940697654099,
          -0.4737388550789211,
          -0.2254665915567398,
          -0.49235298628524476,
          -0.12484966611715263,
          -0.4885798515812602,
          3.6047682176147453,
          -0.2699895810637571,
          -0.6480576784030059,
          -0.38645367226007926,
          -0.38645367226007926,
          -0.3240711784875352,
          0.043683683994155884,
          9.661740104981662,
          -0.48916745442582743,
          -0.48916745442582743,
          -0.044356125765482896,
          0.9386712357792837,
          4.631815484039331,
          -0.3240711784875352,
          -0.4885798515812602,
          0.7807026628391319,
          -0.24055913037267787,
          -0.38645367226007926,
          0.4204940697654099,
          -0.4921014439716458,
          -0.18521982138090493,
          -0.3970184494312359,
          -0.4568855200677903,
          -0.48916745442582743,
          0.6599623523116273,
          -0.35626859462820315,
          -0.49117979293461916,
          -0.41663874989195543,
          -0.48606442844527054,
          1.0926151317018522,
          -0.35626859462820315,
          -0.5046785596515942,
          -0.5025817029254332,
          1.7667485321470864,
          -0.4915983593444479,
          0.9207272132963876,
          0.1488283710785245,
          -0.4921014439716458,
          -0.1620779285297999,
          -0.47977587060529636,
          -0.4568855200677903,
          -0.49000458724548485,
          -0.4367621349798729,
          -0.5026662211428025,
          -0.18521982138090493,
          -0.4921014439716458,
          -0.4921014439716458,
          -0.3970184494312359,
          -0.49235298628524476,
          3.6047682176147453,
          -0.5025817029254332,
          0.4989752716082878,
          -0.044356125765482896,
          -0.1761642980913421,
          -0.506187813533188,
          -0.5021631365156045,
          -0.4972168084609944,
          -0.061964087717410646,
          -0.23401903021910472,
          0.945714420560055,
          -0.4921014439716458,
          -0.12484966611715263,
          0.7515237544616515,
          -0.030354274421309974,
          -0.48916745442582743,
          -0.38645367226007926,
          -0.12627440178137717,
          -0.4733202886690925,
          -0.5025817029254332,
          -0.1620779285297999,
          -0.38645367226007926,
          -0.11981881984517327,
          1.7667485321470864,
          -0.4766728446247395,
          -0.5076970674147818,
          -0.4915983593444479,
          -0.6480576784030059,
          -0.4915983593444479,
          -0.38645367226007926,
          0.4204940697654099,
          -0.4893344785220572,
          -0.1620779285297999,
          -0.4367621349798729,
          -0.018698809778388194,
          -0.48606442844527054,
          -0.6480576784030059,
          -0.4885798515812602,
          0.09659208806730835,
          -0.5182618445859385,
          -0.08661523445010953,
          1.233478827317274,
          -0.4737388550789211,
          -0.6480576784030059,
          -0.3970184494312359,
          0.15058916727371724,
          -0.5082001520419798,
          0.48882906084695993,
          0.09659208806730835,
          -0.4921014439716458,
          0.9618131286303888,
          -0.3571902456652297,
          -0.270744208004554,
          -0.5025817029254332,
          -0.49000458724548485,
          -0.4810335821732912,
          1.0253688157535583,
          -0.4737388550789211,
          -0.48606442844527054,
          0.48882906084695993,
          -0.05039314129185814,
          -0.4885798515812602,
          -0.4367621349798729,
          -0.024232740677565458,
          -0.5185133868995374,
          -0.4737388550789211,
          -0.49612612098922926,
          0.7515237544616515,
          -0.48916745442582743,
          0.01601402949826941,
          1.1450204511478068,
          -0.018698809778388194,
          -0.4915983593444479,
          -0.34126057402963433,
          0.14480369406094096,
          -0.12484966611715263,
          -0.4599040278309779,
          2.669618413871152,
          -0.11378180431879803,
          -0.26051549136436564,
          -0.5025817029254332,
          -0.3641509245671404,
          -0.41663874989195543,
          -0.12627440178137717,
          0.7515237544616515,
          -0.38645367226007926,
          -0.38645367226007926,
          -0.36918177083911974,
          0.3680887503194553,
          -0.4568855200677903,
          -0.42401799520369476,
          -0.48916745442582743,
          0.4095107261844245,
          -0.5474407529634188,
          -0.466947212611749,
          -0.1650964362929875,
          -0.5026662211428025,
          -0.44992685350438844,
          -0.48916745442582743,
          -0.48916745442582743,
          1.0253688157535583,
          -0.12484966611715263,
          -0.48916745442582743,
          -0.43642607444890463,
          -0.4367621349798729,
          -0.506187813533188,
          -0.061964087717410646,
          -0.38645367226007926,
          -0.044356125765482896,
          -0.1761642980913421,
          -0.044356125765482896,
          -0.4921014439716458
         ]
        }
       ],
       "layout": {
        "barmode": "overlay",
        "legend": {
         "bgcolor": "#F5F6F9",
         "font": {
          "color": "#4D5663"
         }
        },
        "paper_bgcolor": "#F5F6F9",
        "plot_bgcolor": "#F5F6F9",
        "template": {
         "data": {
          "bar": [
           {
            "error_x": {
             "color": "#2a3f5f"
            },
            "error_y": {
             "color": "#2a3f5f"
            },
            "marker": {
             "line": {
              "color": "#E5ECF6",
              "width": 0.5
             }
            },
            "type": "bar"
           }
          ],
          "barpolar": [
           {
            "marker": {
             "line": {
              "color": "#E5ECF6",
              "width": 0.5
             }
            },
            "type": "barpolar"
           }
          ],
          "carpet": [
           {
            "aaxis": {
             "endlinecolor": "#2a3f5f",
             "gridcolor": "white",
             "linecolor": "white",
             "minorgridcolor": "white",
             "startlinecolor": "#2a3f5f"
            },
            "baxis": {
             "endlinecolor": "#2a3f5f",
             "gridcolor": "white",
             "linecolor": "white",
             "minorgridcolor": "white",
             "startlinecolor": "#2a3f5f"
            },
            "type": "carpet"
           }
          ],
          "choropleth": [
           {
            "colorbar": {
             "outlinewidth": 0,
             "ticks": ""
            },
            "type": "choropleth"
           }
          ],
          "contour": [
           {
            "colorbar": {
             "outlinewidth": 0,
             "ticks": ""
            },
            "colorscale": [
             [
              0,
              "#0d0887"
             ],
             [
              0.1111111111111111,
              "#46039f"
             ],
             [
              0.2222222222222222,
              "#7201a8"
             ],
             [
              0.3333333333333333,
              "#9c179e"
             ],
             [
              0.4444444444444444,
              "#bd3786"
             ],
             [
              0.5555555555555556,
              "#d8576b"
             ],
             [
              0.6666666666666666,
              "#ed7953"
             ],
             [
              0.7777777777777778,
              "#fb9f3a"
             ],
             [
              0.8888888888888888,
              "#fdca26"
             ],
             [
              1,
              "#f0f921"
             ]
            ],
            "type": "contour"
           }
          ],
          "contourcarpet": [
           {
            "colorbar": {
             "outlinewidth": 0,
             "ticks": ""
            },
            "type": "contourcarpet"
           }
          ],
          "heatmap": [
           {
            "colorbar": {
             "outlinewidth": 0,
             "ticks": ""
            },
            "colorscale": [
             [
              0,
              "#0d0887"
             ],
             [
              0.1111111111111111,
              "#46039f"
             ],
             [
              0.2222222222222222,
              "#7201a8"
             ],
             [
              0.3333333333333333,
              "#9c179e"
             ],
             [
              0.4444444444444444,
              "#bd3786"
             ],
             [
              0.5555555555555556,
              "#d8576b"
             ],
             [
              0.6666666666666666,
              "#ed7953"
             ],
             [
              0.7777777777777778,
              "#fb9f3a"
             ],
             [
              0.8888888888888888,
              "#fdca26"
             ],
             [
              1,
              "#f0f921"
             ]
            ],
            "type": "heatmap"
           }
          ],
          "heatmapgl": [
           {
            "colorbar": {
             "outlinewidth": 0,
             "ticks": ""
            },
            "colorscale": [
             [
              0,
              "#0d0887"
             ],
             [
              0.1111111111111111,
              "#46039f"
             ],
             [
              0.2222222222222222,
              "#7201a8"
             ],
             [
              0.3333333333333333,
              "#9c179e"
             ],
             [
              0.4444444444444444,
              "#bd3786"
             ],
             [
              0.5555555555555556,
              "#d8576b"
             ],
             [
              0.6666666666666666,
              "#ed7953"
             ],
             [
              0.7777777777777778,
              "#fb9f3a"
             ],
             [
              0.8888888888888888,
              "#fdca26"
             ],
             [
              1,
              "#f0f921"
             ]
            ],
            "type": "heatmapgl"
           }
          ],
          "histogram": [
           {
            "marker": {
             "colorbar": {
              "outlinewidth": 0,
              "ticks": ""
             }
            },
            "type": "histogram"
           }
          ],
          "histogram2d": [
           {
            "colorbar": {
             "outlinewidth": 0,
             "ticks": ""
            },
            "colorscale": [
             [
              0,
              "#0d0887"
             ],
             [
              0.1111111111111111,
              "#46039f"
             ],
             [
              0.2222222222222222,
              "#7201a8"
             ],
             [
              0.3333333333333333,
              "#9c179e"
             ],
             [
              0.4444444444444444,
              "#bd3786"
             ],
             [
              0.5555555555555556,
              "#d8576b"
             ],
             [
              0.6666666666666666,
              "#ed7953"
             ],
             [
              0.7777777777777778,
              "#fb9f3a"
             ],
             [
              0.8888888888888888,
              "#fdca26"
             ],
             [
              1,
              "#f0f921"
             ]
            ],
            "type": "histogram2d"
           }
          ],
          "histogram2dcontour": [
           {
            "colorbar": {
             "outlinewidth": 0,
             "ticks": ""
            },
            "colorscale": [
             [
              0,
              "#0d0887"
             ],
             [
              0.1111111111111111,
              "#46039f"
             ],
             [
              0.2222222222222222,
              "#7201a8"
             ],
             [
              0.3333333333333333,
              "#9c179e"
             ],
             [
              0.4444444444444444,
              "#bd3786"
             ],
             [
              0.5555555555555556,
              "#d8576b"
             ],
             [
              0.6666666666666666,
              "#ed7953"
             ],
             [
              0.7777777777777778,
              "#fb9f3a"
             ],
             [
              0.8888888888888888,
              "#fdca26"
             ],
             [
              1,
              "#f0f921"
             ]
            ],
            "type": "histogram2dcontour"
           }
          ],
          "mesh3d": [
           {
            "colorbar": {
             "outlinewidth": 0,
             "ticks": ""
            },
            "type": "mesh3d"
           }
          ],
          "parcoords": [
           {
            "line": {
             "colorbar": {
              "outlinewidth": 0,
              "ticks": ""
             }
            },
            "type": "parcoords"
           }
          ],
          "pie": [
           {
            "automargin": true,
            "type": "pie"
           }
          ],
          "scatter": [
           {
            "marker": {
             "colorbar": {
              "outlinewidth": 0,
              "ticks": ""
             }
            },
            "type": "scatter"
           }
          ],
          "scatter3d": [
           {
            "line": {
             "colorbar": {
              "outlinewidth": 0,
              "ticks": ""
             }
            },
            "marker": {
             "colorbar": {
              "outlinewidth": 0,
              "ticks": ""
             }
            },
            "type": "scatter3d"
           }
          ],
          "scattercarpet": [
           {
            "marker": {
             "colorbar": {
              "outlinewidth": 0,
              "ticks": ""
             }
            },
            "type": "scattercarpet"
           }
          ],
          "scattergeo": [
           {
            "marker": {
             "colorbar": {
              "outlinewidth": 0,
              "ticks": ""
             }
            },
            "type": "scattergeo"
           }
          ],
          "scattergl": [
           {
            "marker": {
             "colorbar": {
              "outlinewidth": 0,
              "ticks": ""
             }
            },
            "type": "scattergl"
           }
          ],
          "scattermapbox": [
           {
            "marker": {
             "colorbar": {
              "outlinewidth": 0,
              "ticks": ""
             }
            },
            "type": "scattermapbox"
           }
          ],
          "scatterpolar": [
           {
            "marker": {
             "colorbar": {
              "outlinewidth": 0,
              "ticks": ""
             }
            },
            "type": "scatterpolar"
           }
          ],
          "scatterpolargl": [
           {
            "marker": {
             "colorbar": {
              "outlinewidth": 0,
              "ticks": ""
             }
            },
            "type": "scatterpolargl"
           }
          ],
          "scatterternary": [
           {
            "marker": {
             "colorbar": {
              "outlinewidth": 0,
              "ticks": ""
             }
            },
            "type": "scatterternary"
           }
          ],
          "surface": [
           {
            "colorbar": {
             "outlinewidth": 0,
             "ticks": ""
            },
            "colorscale": [
             [
              0,
              "#0d0887"
             ],
             [
              0.1111111111111111,
              "#46039f"
             ],
             [
              0.2222222222222222,
              "#7201a8"
             ],
             [
              0.3333333333333333,
              "#9c179e"
             ],
             [
              0.4444444444444444,
              "#bd3786"
             ],
             [
              0.5555555555555556,
              "#d8576b"
             ],
             [
              0.6666666666666666,
              "#ed7953"
             ],
             [
              0.7777777777777778,
              "#fb9f3a"
             ],
             [
              0.8888888888888888,
              "#fdca26"
             ],
             [
              1,
              "#f0f921"
             ]
            ],
            "type": "surface"
           }
          ],
          "table": [
           {
            "cells": {
             "fill": {
              "color": "#EBF0F8"
             },
             "line": {
              "color": "white"
             }
            },
            "header": {
             "fill": {
              "color": "#C8D4E3"
             },
             "line": {
              "color": "white"
             }
            },
            "type": "table"
           }
          ]
         },
         "layout": {
          "annotationdefaults": {
           "arrowcolor": "#2a3f5f",
           "arrowhead": 0,
           "arrowwidth": 1
          },
          "coloraxis": {
           "colorbar": {
            "outlinewidth": 0,
            "ticks": ""
           }
          },
          "colorscale": {
           "diverging": [
            [
             0,
             "#8e0152"
            ],
            [
             0.1,
             "#c51b7d"
            ],
            [
             0.2,
             "#de77ae"
            ],
            [
             0.3,
             "#f1b6da"
            ],
            [
             0.4,
             "#fde0ef"
            ],
            [
             0.5,
             "#f7f7f7"
            ],
            [
             0.6,
             "#e6f5d0"
            ],
            [
             0.7,
             "#b8e186"
            ],
            [
             0.8,
             "#7fbc41"
            ],
            [
             0.9,
             "#4d9221"
            ],
            [
             1,
             "#276419"
            ]
           ],
           "sequential": [
            [
             0,
             "#0d0887"
            ],
            [
             0.1111111111111111,
             "#46039f"
            ],
            [
             0.2222222222222222,
             "#7201a8"
            ],
            [
             0.3333333333333333,
             "#9c179e"
            ],
            [
             0.4444444444444444,
             "#bd3786"
            ],
            [
             0.5555555555555556,
             "#d8576b"
            ],
            [
             0.6666666666666666,
             "#ed7953"
            ],
            [
             0.7777777777777778,
             "#fb9f3a"
            ],
            [
             0.8888888888888888,
             "#fdca26"
            ],
            [
             1,
             "#f0f921"
            ]
           ],
           "sequentialminus": [
            [
             0,
             "#0d0887"
            ],
            [
             0.1111111111111111,
             "#46039f"
            ],
            [
             0.2222222222222222,
             "#7201a8"
            ],
            [
             0.3333333333333333,
             "#9c179e"
            ],
            [
             0.4444444444444444,
             "#bd3786"
            ],
            [
             0.5555555555555556,
             "#d8576b"
            ],
            [
             0.6666666666666666,
             "#ed7953"
            ],
            [
             0.7777777777777778,
             "#fb9f3a"
            ],
            [
             0.8888888888888888,
             "#fdca26"
            ],
            [
             1,
             "#f0f921"
            ]
           ]
          },
          "colorway": [
           "#636efa",
           "#EF553B",
           "#00cc96",
           "#ab63fa",
           "#FFA15A",
           "#19d3f3",
           "#FF6692",
           "#B6E880",
           "#FF97FF",
           "#FECB52"
          ],
          "font": {
           "color": "#2a3f5f"
          },
          "geo": {
           "bgcolor": "white",
           "lakecolor": "white",
           "landcolor": "#E5ECF6",
           "showlakes": true,
           "showland": true,
           "subunitcolor": "white"
          },
          "hoverlabel": {
           "align": "left"
          },
          "hovermode": "closest",
          "mapbox": {
           "style": "light"
          },
          "paper_bgcolor": "white",
          "plot_bgcolor": "#E5ECF6",
          "polar": {
           "angularaxis": {
            "gridcolor": "white",
            "linecolor": "white",
            "ticks": ""
           },
           "bgcolor": "#E5ECF6",
           "radialaxis": {
            "gridcolor": "white",
            "linecolor": "white",
            "ticks": ""
           }
          },
          "scene": {
           "xaxis": {
            "backgroundcolor": "#E5ECF6",
            "gridcolor": "white",
            "gridwidth": 2,
            "linecolor": "white",
            "showbackground": true,
            "ticks": "",
            "zerolinecolor": "white"
           },
           "yaxis": {
            "backgroundcolor": "#E5ECF6",
            "gridcolor": "white",
            "gridwidth": 2,
            "linecolor": "white",
            "showbackground": true,
            "ticks": "",
            "zerolinecolor": "white"
           },
           "zaxis": {
            "backgroundcolor": "#E5ECF6",
            "gridcolor": "white",
            "gridwidth": 2,
            "linecolor": "white",
            "showbackground": true,
            "ticks": "",
            "zerolinecolor": "white"
           }
          },
          "shapedefaults": {
           "line": {
            "color": "#2a3f5f"
           }
          },
          "ternary": {
           "aaxis": {
            "gridcolor": "white",
            "linecolor": "white",
            "ticks": ""
           },
           "baxis": {
            "gridcolor": "white",
            "linecolor": "white",
            "ticks": ""
           },
           "bgcolor": "#E5ECF6",
           "caxis": {
            "gridcolor": "white",
            "linecolor": "white",
            "ticks": ""
           }
          },
          "title": {
           "x": 0.05
          },
          "xaxis": {
           "automargin": true,
           "gridcolor": "white",
           "linecolor": "white",
           "ticks": "",
           "title": {
            "standoff": 15
           },
           "zerolinecolor": "white",
           "zerolinewidth": 2
          },
          "yaxis": {
           "automargin": true,
           "gridcolor": "white",
           "linecolor": "white",
           "ticks": "",
           "title": {
            "standoff": 15
           },
           "zerolinecolor": "white",
           "zerolinewidth": 2
          }
         }
        },
        "title": {
         "font": {
          "color": "#4D5663"
         }
        },
        "xaxis": {
         "gridcolor": "#E1E5ED",
         "showgrid": true,
         "tickfont": {
          "color": "#4D5663"
         },
         "title": {
          "font": {
           "color": "#4D5663"
          },
          "text": "Fare"
         },
         "zerolinecolor": "#E1E5ED"
        },
        "yaxis": {
         "gridcolor": "#E1E5ED",
         "showgrid": true,
         "tickfont": {
          "color": "#4D5663"
         },
         "title": {
          "font": {
           "color": "#4D5663"
          },
          "text": "Frequency"
         },
         "zerolinecolor": "#E1E5ED"
        }
       }
      },
      "text/html": [
       "<div>                            <div id=\"68663022-1660-4720-9b6b-4b51c22f6577\" class=\"plotly-graph-div\" style=\"height:525px; width:100%;\"></div>            <script type=\"text/javascript\">                require([\"plotly\"], function(Plotly) {                    window.PLOTLYENV=window.PLOTLYENV || {};\n",
       "                    window.PLOTLYENV.BASE_URL='https://plot.ly';                                    if (document.getElementById(\"68663022-1660-4720-9b6b-4b51c22f6577\")) {                    Plotly.newPlot(                        \"68663022-1660-4720-9b6b-4b51c22f6577\",                        [{\"histfunc\": \"count\", \"histnorm\": \"\", \"marker\": {\"color\": \"rgba(255, 153, 51, 1.0)\", \"line\": {\"color\": \"#4D5663\", \"width\": 1.3}}, \"name\": \"Fare\", \"opacity\": 0.8, \"orientation\": \"v\", \"type\": \"histogram\", \"x\": [-0.5021631365156045, 0.7864036178345388, -0.4885798515812602, 0.4204940697654099, -0.48606442844527054, -0.47784805031387384, 0.39559138071911193, -0.223957337675146, -0.42401799520369476, -0.04293139010125837, -0.3119971474347848, -0.11378180431879803, -0.48606442844527054, -0.018698809778388194, -0.49000458724548485, -0.326083516996327, -0.061964087717410646, -0.38645367226007926, -0.2858367468204921, -0.5026662211428025, -0.12484966611715263, -0.38645367226007926, -0.48648299485509927, 0.066322492218063, -0.223957337675146, -0.016434928955997467, -0.5026662211428025, 4.644392599719279, -0.48950150261828684, -0.48916745442582743, -0.09022134505786429, 2.3004368033867273, -0.4921014439716458, -0.4367621349798729, 1.00549697297924, 0.39835834616870064, -0.5025817029254332, -0.48606442844527054, -0.2858367468204921, -0.42183662026016444, -0.4573886046949882, -0.2254665915567398, -0.48916745442582743, 0.18865657484453066, -0.48950150261828684, -0.48606442844527054, -0.3361452095402857, -0.4921014439716458, -0.21179878840502625, -0.28986142383807556, 0.15058916727371724, -0.4910952747172499, 0.8959935606848286, -0.12484966611715263, 0.5991736306380463, 0.066322492218063, -0.4367621349798729, -0.5025817029254332, -0.08963374221329712, 0.29572908222032174, -0.5025817029254332, 0.9618131286303888, 1.0317418918109018, -0.08661523445010953, -0.09022134505786429, -0.34126057402963433, -0.4367621349798729, -0.4838850658402491, -0.4885798515812602, -0.4737388550789211, -0.4367621349798729, 0.29572908222032174, 0.8310111255589255, -0.3571902456652297, 0.48882906084695993, -0.4941137824804376, -0.48916745442582743, -0.48606442844527054, -0.06447951085340033, -0.3970184494312359, -0.466947212611749, -0.4568855200677903, -0.49134681703084887, 0.29975375923790526, -0.4367621349798729, -0.32910202475951456, 0.043683683994155884, -0.48606442844527054, 4.644392599719279, -0.48606442844527054, -0.48606442844527054, -0.49000458724548485, 0.5829904043503431, -0.23401903021910472, -0.5021631365156045, -0.48606442844527054, 0.04930213311070249, 0.6269257910127932, -0.18521982138090493, -0.12484966611715263, -0.48916745442582743, -0.48916745442582743, 0.9072284465794127, -0.47390587917515087, -0.4885798515812602, -0.48916745442582743, -0.4941137824804376, -0.4915983593444479, -0.48916745442582743, -0.1620779285297999, 0.39835834616870064, -0.3571902456652297, -0.48606442844527054, -0.4503454199142171, -0.3571077397863693, -0.4885798515812602, -0.4921014439716458, -0.2254665915567398, 4.332898697266388, -0.018698809778388194, 0.8310111255589255, -0.48606442844527054, -0.04293139010125837, -0.38645367226007926, 0.9072284465794127, -0.42183662026016444, -0.4921014439716458, -0.504342499120626, -0.19813299759182154, -0.5076970674147818, -0.48916745442582743, -0.506187813533188, -0.35626859462820315, -0.12484966611715263, -0.38645367226007926, -0.3452852510472178, -0.1191487111217456, 0.4204940697654099, -0.46258647506319733, 0.945714420560055, -0.34126057402963433, -0.4921014439716458, -0.32910202475951456, -0.5122248290595632, -0.41663874989195543, 0.09147672357795979, -0.49117979293461916, 0.043683683994155884, -0.12484966611715263, -0.38645367226007926, -0.3960122801768401, 0.6921597684522951, -0.48606442844527054, -0.35626859462820315, -0.5009054249476097, 0.5870995995852958, -0.49243750450261403, -0.48606442844527054, -0.4737388550789211, 0.7515237544616515, -0.3240711784875352, -0.33111436326830634, -0.4915983593444479, -0.4737388550789211, 0.15058916727371724, -0.23502519947350062, 0.458728501432453, -0.08661523445010953, -0.12635891999874643, 0.48882906084695993, 0.026075722042228126, -0.061964087717410646, -0.42401799520369476, -0.4885798515812602, -0.030354274421309974, -0.49000458724548485, -0.135581467384539, -0.07026498406617662, -0.38645367226007926, -0.6480576784030059, 0.7515237544616515, -0.34520073282984853, -0.016434928955997467, 0.13675434002577402, -0.20484012184162445, 0.3581115759928658, -0.3361452095402857, -0.11378180431879803, -0.3361452095402857, -0.48916745442582743, -0.38645367226007926, -0.38645367226007926, -0.49000458724548485, -0.12484966611715263, -0.09022134505786429, 2.3004368033867273, -0.4921014439716458, -0.47893672544713023, -0.4921014439716458, -0.38645367226007926, -0.4568855200677903, 0.7515237544616515, -0.5173401935489119, -0.5026662211428025, -0.48606442844527054, -0.4375167619206698, -0.32910202475951456, -0.2699895810637571, -0.4921014439716458, -0.024232740677565458, -0.506187813533188, -0.2254665915567398, -0.5021631365156045, -0.38645367226007926, -0.4921014439716458, 1.6314187674308418, -0.4885798515812602, -0.1047262810292352, 0.8871895797088647, -0.4367621349798729, -0.48606442844527054, -0.38645367226007926, -0.48606442844527054, -0.48916745442582743, 1.1630469795095633, -0.4599040278309779, -0.4367621349798729, -0.5021631365156045, -0.38645367226007926, -0.135581467384539, 1.0317418918109018, -0.4915983593444479, -0.37639197971612054, -0.016434928955997467, -0.4367621349798729, -0.49612612098922926, -0.12484966611715263, -0.11981881984517327, -0.4367621349798729, -0.40104312644881945, -0.3571902456652297, -0.3361452095402857, -0.4367621349798729, -0.5046785596515942, -0.5026662211428025, 1.1630469795095633, -0.4915983593444479, -0.35626859462820315, 0.4095107261844245, -0.12484966611715263, -0.5021631365156045, -0.4375167619206698, -0.11378180431879803, -0.3240711784875352, -0.24131375731347482, -0.34126057402963433, 0.945714420560055, 1.0926151317018522, 9.661740104981662, -0.12484966611715263, -0.4921014439716458, -0.016434928955997467, 0.9547699438496179, -0.6480576784030059, -0.4921014439716458, -0.4367621349798729, 0.15058916727371724, -0.4915983593444479, 2.4401273056515236, 2.0813434482420257, -0.024232740677565458, -0.6480576784030059, -0.2556516691886159, -0.05039314129185814, -0.4921014439716458, 0.9207272132963876, -0.4921014439716458, -0.6480576784030059, -0.061964087717410646, -0.24055913037267787, -0.4921014439716458, -0.49000458724548485, -0.4568855200677903, -0.48606442844527054, -0.12484966611715263, -0.4737388550789211, -0.4568855200677903, -0.48916745442582743, -0.38645367226007926, -0.4921014439716458, 0.9386712357792837, 1.1847641366964436, -0.38896909539606894, -0.4699657203749366, -0.48916745442582743, -0.09022134505786429, -0.5025817029254332, 2.4016413316708816, -0.03429443322152417, 4.332898697266388, -0.4921014439716458, -0.18018897510892556, -0.6480576784030059, -0.39953387256722556, -0.48606442844527054, 2.4016413316708816, 1.5832896673160692, 1.543378957671203, -0.1650964362929875, 0.4975505359440633, 1.0253688157535583, 4.631815484039331, -0.12484966611715263, -0.48916745442582743, -0.11981881984517327, -0.49000458724548485, -0.12484966611715263, -0.3663302871721618, 2.669618413871152, 2.0585376159218893, -0.5021631365156045, -0.48916745442582743, -0.39953387256722556, -0.06447951085340033, 0.7515237544616515, 2.0813434482420257, -0.5225380639171209, -0.38645367226007926, -0.23502519947350062, 0.5186800902863765, -0.18018897510892556, -0.07454120339735905, 2.4401273056515236, -0.2858367468204921, 2.0414327385971593, -0.48916745442582743, 0.6921597684522951, 2.0585376159218893, -0.48606442844527054, 0.066322492218063, -0.12484966611715263, 4.644392599719279, -0.38645367226007926, -0.38645367226007926, -0.38645367226007926, -0.38645367226007926, -0.38645367226007926, -0.3240711784875352, -0.3280958555051187, -0.4737388550789211, -0.46241945096696757, 0.05626079967410428, -0.5025817029254332, -0.28986142383807556, -0.5026662211428025, -0.4568855200677903, 0.458728501432453, -0.38645367226007926, -0.48950150261828684, -0.48950150261828684, -0.08661523445010953, -0.09022134505786429, -0.3571902456652297, -0.506187813533188, -0.3361452095402857, -0.5021631365156045, 0.866227049462781, -0.5025817029254332, -0.4921014439716458, 0.7464929081896722, 0.46761700062578604, -0.5173401935489119, -0.48606442844527054, 2.0813434482420257, -0.223957337675146, 1.00549697297924, -0.5021631365156045, 3.6080382676915317, -0.5673125957377372, -0.4915983593444479, 3.9305155137254086, -0.331281387364536, -0.4885798515812602, 0.39835834616870064, -0.48916745442582743, 0.8310111255589255, 0.29572908222032174, -0.38645367226007926, -0.4925200103814745, -0.4065770573479967, 1.7667485321470864, -0.49117979293461916, -0.4885798515812602, 1.6314187674308418, -0.3119971474347848, -0.49117979293461916, -0.49000458724548485, -0.12484966611715263, -0.4367621349798729, -0.3934968570408504, -0.4885798515812602, -0.48606442844527054, -0.4503454199142171, -0.32910202475951456, -0.4737388550789211, -0.2254665915567398, -0.4921014439716458, -0.270744208004554, -0.4915983593444479, -0.135581467384539, -0.48916745442582743, -0.5100454664545417, 1.1630469795095633, -0.6480576784030059, -0.4885798515812602, -0.48606442844527054, 0.005952336954310693, -0.38645367226007926, -0.38645367226007926, -0.1620779285297999, -0.48916745442582743, -0.49243750450261403, -0.4895860208356561, -0.3582809331369949, -0.24131375731347482, -0.5021631365156045, -0.12484966611715263, -0.12484966611715263, -0.4921014439716458, -0.48606442844527054, -0.11378180431879803, -0.3240711784875352, -0.12484966611715263, -0.5046785596515942, 0.47683954801157863, 1.7667485321470864, 0.043683683994155884, -0.270744208004554, 4.644392599719279, -0.4367621349798729, -0.11981881984517327, -0.4568855200677903, -0.4915983593444479, -0.38645367226007926, -0.4848067168772757, 0.9992084151392658, -0.2556516691886159, -0.11378180431879803, -0.26051549136436564, -0.03429443322152417, -0.08963374221329712, -0.24626008536808489, -0.08963374221329712, 1.1450204511478068, -0.48606442844527054, -0.48916745442582743, -0.11378180431879803, 0.39559138071911193, -0.4367621349798729, -0.4921014439716458, -0.11378180431879803, -0.48606442844527054, 0.1266926474818153, -0.38645367226007926, -0.48606442844527054, -0.506187813533188, -0.6480576784030059, -0.11378180431879803, -0.49260452859884374, -0.26051549136436564, -0.5021631365156045, -0.4737388550789211, -0.08963374221329712, -0.37052198828597505, -0.4500938776006182, 0.39835834616870064, -0.2254665915567398, -0.5062723317505573, -0.49671372383379647, -0.4007915841352204, 0.29572908222032174, -0.6480576784030059, -0.48606442844527054, -0.45512472387259756, 1.1847641366964436, -0.135581467384539, 1.1630469795095633, -0.05039314129185814, -0.48606442844527054, -0.3280958555051187, -0.24626008536808489, -0.5021631365156045, -0.03429443322152417, 0.3481344016662763, -0.48606442844527054, -0.3571077397863693, 0.9269332652575015, -0.34419456357545264, 2.4016413316708816, -0.49117979293461916, -0.4737388550789211, -0.4921014439716458, -0.4945323488902662, -0.45512472387259756, 1.0926151317018522, 1.543378957671203, -0.12484966611715263, -0.11378180431879803, -0.19477842929766576, 0.48882906084695993, -0.4921014439716458, -0.48606442844527054, -0.11906419290437634, 0.5472713958192896, -0.4972168084609944, 0.03655598099601555, -0.4367621349798729, -0.1620779285297999, -0.12484966611715263, -0.48916745442582743, 1.233478827317274, -0.48916745442582743, -0.5026662211428025, 0.5186800902863765, -0.5025817029254332, -0.4921014439716458, -0.4367621349798729, 3.8148905676872524, -0.4885798515812602, -0.41663874989195543, -0.12484966611715263, -0.5025817029254332, -0.5025817029254332, -0.19813299759182154, -0.4737388550789211, -0.11981881984517327, -0.11378180431879803, 1.493573579578607, -0.35626859462820315, 0.3480498834489071, 0.7807026628391319, -0.018698809778388194, -0.018698809778388194, -0.12484966611715263, 1.493573579578607, -0.12484966611715263, -0.12484966611715263, -0.36909725262175047, -0.23502519947350062, 0.09147672357795979, 1.5832896673160692, -0.12484966611715263, -0.49050767187268274, -0.5026662211428025, -0.4915983593444479, -0.11378180431879803, 0.1488283710785245, 3.9305155137254086, 0.9547699438496179, -0.2979107778732426, -0.4921014439716458, -0.48916745442582743, -0.37639197971612054, -0.48606442844527054, -0.48606442844527054, -0.1620779285297999, -0.48916745442582743, -0.223957337675146, -0.5025817029254332, -0.49000458724548485, -0.4367621349798729, 0.38787808721491324, -0.11705185439558463, -0.4921014439716458, -0.48606442844527054, -0.35626859462820315, -0.38645367226007926, 0.47683954801157863, -0.3571077397863693, -0.4885798515812602, -0.044356125765482896, 1.5832896673160692, -0.12484966611715263, 0.15939314824968112, -0.4727326858245253, 0.9547699438496179, -0.34620690208424443, 0.945714420560055, -0.48606442844527054, -0.48606442844527054, -0.5046785596515942, 0.9269332652575015, -0.5021631365156045, -0.4921014439716458, -0.12484966611715263, -0.1620779285297999, 0.01601402949826941, -0.6480576784030059, -0.5026662211428025, 0.4975505359440633, -0.1047262810292352, -0.48916745442582743, 0.20517384932469326, -0.48606442844527054, -0.11378180431879803, -0.3351390402858898, -0.48916745442582743, -0.03429443322152417, 0.18865657484453066, 2.4401273056515236, -0.018698809778388194, -0.506187813533188, -0.3361452095402857, -0.4921014439716458, -0.48606442844527054, 0.6599623523116273, -0.3582809331369949, -0.3240711784875352, 0.13675434002577402, -0.4367621349798729, -0.3571902456652297, 0.4095107261844245, -0.331281387364536, -0.49000458724548485, -0.3240711784875352, 0.002346226346555857, -0.39953387256722556, 0.9207272132963876, -0.48916745442582743, -0.49243750450261403, -0.044356125765482896, -0.5061032953158188, -0.03429443322152417, -0.6480576784030059, -0.08661523445010953, -0.38645367226007926, -0.4885798515812602, -0.11981881984517327, 0.15058916727371724, -0.3240711784875352, -0.49000458724548485, 0.7464929081896722, -0.08661523445010953, 0.48882906084695993, -0.26051549136436564, 0.8959935606848286, -0.48916745442582743, 0.066322492218063, -0.49612612098922926, -0.49612612098922926, -0.48916745442582743, -0.18521982138090493, -0.47835113494107184, -0.49050767187268274, -0.5122248290595632, 0.8310111255589255, -0.48916745442582743, -0.3361452095402857, -0.38645367226007926, 1.6314187674308418, 2.0414327385971593, -0.5026662211428025, -0.1331505624659186, -0.4972168084609944, -0.4885798515812602, 0.8310111255589255, -0.38645367226007926, -0.4915983593444479, -0.48606442844527054, 0.39835834616870064, 0.13675434002577402, 0.39835834616870064, -0.4367621349798729, -0.38645367226007926, -0.6480576784030059, -0.4915983593444479, -0.48606442844527054, -0.45000935938324893, 0.29572908222032174, 9.661740104981662, -0.48430363225007783, 0.8959935606848286, -0.46241945096696757, 0.29572908222032174, 0.13675434002577402, 0.18865657484453066, 0.15058916727371724, -0.4433867533508153, -0.49117979293461916, 3.6047682176147453, 0.4989752716082878, -0.3780682576939441, 0.48882906084695993, -0.5026662211428025, -0.11378180431879803, -0.37639197971612054, -0.48606442844527054, -0.49243750450261403, 1.5832896673160692, -0.4941137824804376, 3.9305155137254086, -0.11906419290437634, -0.3571902456652297, -0.4922684680678755, -0.49000458724548485, -0.12484966611715263, -0.37639197971612054, -0.11906419290437634, 2.4016413316708816, -0.34126057402963433, 0.3481344016662763, -0.11378180431879803, 0.39835834616870064, -0.4572215805987585, -0.38645367226007926, -0.4941137824804376, 3.9305155137254086, -0.4367621349798729, -0.3361452095402857, -0.4915983593444479, 0.01601402949826941, -0.5061032953158188, -0.38645367226007926, -0.38645367226007926, 0.4204940697654099, -0.4737388550789211, -0.2254665915567398, -0.49235298628524476, -0.12484966611715263, -0.4885798515812602, 3.6047682176147453, -0.2699895810637571, -0.6480576784030059, -0.38645367226007926, -0.38645367226007926, -0.3240711784875352, 0.043683683994155884, 9.661740104981662, -0.48916745442582743, -0.48916745442582743, -0.044356125765482896, 0.9386712357792837, 4.631815484039331, -0.3240711784875352, -0.4885798515812602, 0.7807026628391319, -0.24055913037267787, -0.38645367226007926, 0.4204940697654099, -0.4921014439716458, -0.18521982138090493, -0.3970184494312359, -0.4568855200677903, -0.48916745442582743, 0.6599623523116273, -0.35626859462820315, -0.49117979293461916, -0.41663874989195543, -0.48606442844527054, 1.0926151317018522, -0.35626859462820315, -0.5046785596515942, -0.5025817029254332, 1.7667485321470864, -0.4915983593444479, 0.9207272132963876, 0.1488283710785245, -0.4921014439716458, -0.1620779285297999, -0.47977587060529636, -0.4568855200677903, -0.49000458724548485, -0.4367621349798729, -0.5026662211428025, -0.18521982138090493, -0.4921014439716458, -0.4921014439716458, -0.3970184494312359, -0.49235298628524476, 3.6047682176147453, -0.5025817029254332, 0.4989752716082878, -0.044356125765482896, -0.1761642980913421, -0.506187813533188, -0.5021631365156045, -0.4972168084609944, -0.061964087717410646, -0.23401903021910472, 0.945714420560055, -0.4921014439716458, -0.12484966611715263, 0.7515237544616515, -0.030354274421309974, -0.48916745442582743, -0.38645367226007926, -0.12627440178137717, -0.4733202886690925, -0.5025817029254332, -0.1620779285297999, -0.38645367226007926, -0.11981881984517327, 1.7667485321470864, -0.4766728446247395, -0.5076970674147818, -0.4915983593444479, -0.6480576784030059, -0.4915983593444479, -0.38645367226007926, 0.4204940697654099, -0.4893344785220572, -0.1620779285297999, -0.4367621349798729, -0.018698809778388194, -0.48606442844527054, -0.6480576784030059, -0.4885798515812602, 0.09659208806730835, -0.5182618445859385, -0.08661523445010953, 1.233478827317274, -0.4737388550789211, -0.6480576784030059, -0.3970184494312359, 0.15058916727371724, -0.5082001520419798, 0.48882906084695993, 0.09659208806730835, -0.4921014439716458, 0.9618131286303888, -0.3571902456652297, -0.270744208004554, -0.5025817029254332, -0.49000458724548485, -0.4810335821732912, 1.0253688157535583, -0.4737388550789211, -0.48606442844527054, 0.48882906084695993, -0.05039314129185814, -0.4885798515812602, -0.4367621349798729, -0.024232740677565458, -0.5185133868995374, -0.4737388550789211, -0.49612612098922926, 0.7515237544616515, -0.48916745442582743, 0.01601402949826941, 1.1450204511478068, -0.018698809778388194, -0.4915983593444479, -0.34126057402963433, 0.14480369406094096, -0.12484966611715263, -0.4599040278309779, 2.669618413871152, -0.11378180431879803, -0.26051549136436564, -0.5025817029254332, -0.3641509245671404, -0.41663874989195543, -0.12627440178137717, 0.7515237544616515, -0.38645367226007926, -0.38645367226007926, -0.36918177083911974, 0.3680887503194553, -0.4568855200677903, -0.42401799520369476, -0.48916745442582743, 0.4095107261844245, -0.5474407529634188, -0.466947212611749, -0.1650964362929875, -0.5026662211428025, -0.44992685350438844, -0.48916745442582743, -0.48916745442582743, 1.0253688157535583, -0.12484966611715263, -0.48916745442582743, -0.43642607444890463, -0.4367621349798729, -0.506187813533188, -0.061964087717410646, -0.38645367226007926, -0.044356125765482896, -0.1761642980913421, -0.044356125765482896, -0.4921014439716458]}],                        {\"barmode\": \"overlay\", \"legend\": {\"bgcolor\": \"#F5F6F9\", \"font\": {\"color\": \"#4D5663\"}}, \"paper_bgcolor\": \"#F5F6F9\", \"plot_bgcolor\": \"#F5F6F9\", \"template\": {\"data\": {\"bar\": [{\"error_x\": {\"color\": \"#2a3f5f\"}, \"error_y\": {\"color\": \"#2a3f5f\"}, \"marker\": {\"line\": {\"color\": \"#E5ECF6\", \"width\": 0.5}}, \"type\": \"bar\"}], \"barpolar\": [{\"marker\": {\"line\": {\"color\": \"#E5ECF6\", \"width\": 0.5}}, \"type\": \"barpolar\"}], \"carpet\": [{\"aaxis\": {\"endlinecolor\": \"#2a3f5f\", \"gridcolor\": \"white\", \"linecolor\": \"white\", \"minorgridcolor\": \"white\", \"startlinecolor\": \"#2a3f5f\"}, \"baxis\": {\"endlinecolor\": \"#2a3f5f\", \"gridcolor\": \"white\", \"linecolor\": \"white\", \"minorgridcolor\": \"white\", \"startlinecolor\": \"#2a3f5f\"}, \"type\": \"carpet\"}], \"choropleth\": [{\"colorbar\": {\"outlinewidth\": 0, \"ticks\": \"\"}, \"type\": \"choropleth\"}], \"contour\": [{\"colorbar\": {\"outlinewidth\": 0, \"ticks\": \"\"}, \"colorscale\": [[0.0, \"#0d0887\"], [0.1111111111111111, \"#46039f\"], [0.2222222222222222, \"#7201a8\"], [0.3333333333333333, \"#9c179e\"], [0.4444444444444444, \"#bd3786\"], [0.5555555555555556, \"#d8576b\"], [0.6666666666666666, \"#ed7953\"], [0.7777777777777778, \"#fb9f3a\"], [0.8888888888888888, \"#fdca26\"], [1.0, \"#f0f921\"]], \"type\": \"contour\"}], \"contourcarpet\": [{\"colorbar\": {\"outlinewidth\": 0, \"ticks\": \"\"}, \"type\": \"contourcarpet\"}], \"heatmap\": [{\"colorbar\": {\"outlinewidth\": 0, \"ticks\": \"\"}, \"colorscale\": [[0.0, \"#0d0887\"], [0.1111111111111111, \"#46039f\"], [0.2222222222222222, \"#7201a8\"], [0.3333333333333333, \"#9c179e\"], [0.4444444444444444, \"#bd3786\"], [0.5555555555555556, \"#d8576b\"], [0.6666666666666666, \"#ed7953\"], [0.7777777777777778, \"#fb9f3a\"], [0.8888888888888888, \"#fdca26\"], [1.0, \"#f0f921\"]], \"type\": \"heatmap\"}], \"heatmapgl\": [{\"colorbar\": {\"outlinewidth\": 0, \"ticks\": \"\"}, \"colorscale\": [[0.0, \"#0d0887\"], [0.1111111111111111, \"#46039f\"], [0.2222222222222222, \"#7201a8\"], [0.3333333333333333, \"#9c179e\"], [0.4444444444444444, \"#bd3786\"], [0.5555555555555556, \"#d8576b\"], [0.6666666666666666, \"#ed7953\"], [0.7777777777777778, \"#fb9f3a\"], [0.8888888888888888, \"#fdca26\"], [1.0, \"#f0f921\"]], \"type\": \"heatmapgl\"}], \"histogram\": [{\"marker\": {\"colorbar\": {\"outlinewidth\": 0, \"ticks\": \"\"}}, \"type\": \"histogram\"}], \"histogram2d\": [{\"colorbar\": {\"outlinewidth\": 0, \"ticks\": \"\"}, \"colorscale\": [[0.0, \"#0d0887\"], [0.1111111111111111, \"#46039f\"], [0.2222222222222222, \"#7201a8\"], [0.3333333333333333, \"#9c179e\"], [0.4444444444444444, \"#bd3786\"], [0.5555555555555556, \"#d8576b\"], [0.6666666666666666, \"#ed7953\"], [0.7777777777777778, \"#fb9f3a\"], [0.8888888888888888, \"#fdca26\"], [1.0, \"#f0f921\"]], \"type\": \"histogram2d\"}], \"histogram2dcontour\": [{\"colorbar\": {\"outlinewidth\": 0, \"ticks\": \"\"}, \"colorscale\": [[0.0, \"#0d0887\"], [0.1111111111111111, \"#46039f\"], [0.2222222222222222, \"#7201a8\"], [0.3333333333333333, \"#9c179e\"], [0.4444444444444444, \"#bd3786\"], [0.5555555555555556, \"#d8576b\"], [0.6666666666666666, \"#ed7953\"], [0.7777777777777778, \"#fb9f3a\"], [0.8888888888888888, \"#fdca26\"], [1.0, \"#f0f921\"]], \"type\": \"histogram2dcontour\"}], \"mesh3d\": [{\"colorbar\": {\"outlinewidth\": 0, \"ticks\": \"\"}, \"type\": \"mesh3d\"}], \"parcoords\": [{\"line\": {\"colorbar\": {\"outlinewidth\": 0, \"ticks\": \"\"}}, \"type\": \"parcoords\"}], \"pie\": [{\"automargin\": true, \"type\": \"pie\"}], \"scatter\": [{\"marker\": {\"colorbar\": {\"outlinewidth\": 0, \"ticks\": \"\"}}, \"type\": \"scatter\"}], \"scatter3d\": [{\"line\": {\"colorbar\": {\"outlinewidth\": 0, \"ticks\": \"\"}}, \"marker\": {\"colorbar\": {\"outlinewidth\": 0, \"ticks\": \"\"}}, \"type\": \"scatter3d\"}], \"scattercarpet\": [{\"marker\": {\"colorbar\": {\"outlinewidth\": 0, \"ticks\": \"\"}}, \"type\": \"scattercarpet\"}], \"scattergeo\": [{\"marker\": {\"colorbar\": {\"outlinewidth\": 0, \"ticks\": \"\"}}, \"type\": \"scattergeo\"}], \"scattergl\": [{\"marker\": {\"colorbar\": {\"outlinewidth\": 0, \"ticks\": \"\"}}, \"type\": \"scattergl\"}], \"scattermapbox\": [{\"marker\": {\"colorbar\": {\"outlinewidth\": 0, \"ticks\": \"\"}}, \"type\": \"scattermapbox\"}], \"scatterpolar\": [{\"marker\": {\"colorbar\": {\"outlinewidth\": 0, \"ticks\": \"\"}}, \"type\": \"scatterpolar\"}], \"scatterpolargl\": [{\"marker\": {\"colorbar\": {\"outlinewidth\": 0, \"ticks\": \"\"}}, \"type\": \"scatterpolargl\"}], \"scatterternary\": [{\"marker\": {\"colorbar\": {\"outlinewidth\": 0, \"ticks\": \"\"}}, \"type\": \"scatterternary\"}], \"surface\": [{\"colorbar\": {\"outlinewidth\": 0, \"ticks\": \"\"}, \"colorscale\": [[0.0, \"#0d0887\"], [0.1111111111111111, \"#46039f\"], [0.2222222222222222, \"#7201a8\"], [0.3333333333333333, \"#9c179e\"], [0.4444444444444444, \"#bd3786\"], [0.5555555555555556, \"#d8576b\"], [0.6666666666666666, \"#ed7953\"], [0.7777777777777778, \"#fb9f3a\"], [0.8888888888888888, \"#fdca26\"], [1.0, \"#f0f921\"]], \"type\": \"surface\"}], \"table\": [{\"cells\": {\"fill\": {\"color\": \"#EBF0F8\"}, \"line\": {\"color\": \"white\"}}, \"header\": {\"fill\": {\"color\": \"#C8D4E3\"}, \"line\": {\"color\": \"white\"}}, \"type\": \"table\"}]}, \"layout\": {\"annotationdefaults\": {\"arrowcolor\": \"#2a3f5f\", \"arrowhead\": 0, \"arrowwidth\": 1}, \"coloraxis\": {\"colorbar\": {\"outlinewidth\": 0, \"ticks\": \"\"}}, \"colorscale\": {\"diverging\": [[0, \"#8e0152\"], [0.1, \"#c51b7d\"], [0.2, \"#de77ae\"], [0.3, \"#f1b6da\"], [0.4, \"#fde0ef\"], [0.5, \"#f7f7f7\"], [0.6, \"#e6f5d0\"], [0.7, \"#b8e186\"], [0.8, \"#7fbc41\"], [0.9, \"#4d9221\"], [1, \"#276419\"]], \"sequential\": [[0.0, \"#0d0887\"], [0.1111111111111111, \"#46039f\"], [0.2222222222222222, \"#7201a8\"], [0.3333333333333333, \"#9c179e\"], [0.4444444444444444, \"#bd3786\"], [0.5555555555555556, \"#d8576b\"], [0.6666666666666666, \"#ed7953\"], [0.7777777777777778, \"#fb9f3a\"], [0.8888888888888888, \"#fdca26\"], [1.0, \"#f0f921\"]], \"sequentialminus\": [[0.0, \"#0d0887\"], [0.1111111111111111, \"#46039f\"], [0.2222222222222222, \"#7201a8\"], [0.3333333333333333, \"#9c179e\"], [0.4444444444444444, \"#bd3786\"], [0.5555555555555556, \"#d8576b\"], [0.6666666666666666, \"#ed7953\"], [0.7777777777777778, \"#fb9f3a\"], [0.8888888888888888, \"#fdca26\"], [1.0, \"#f0f921\"]]}, \"colorway\": [\"#636efa\", \"#EF553B\", \"#00cc96\", \"#ab63fa\", \"#FFA15A\", \"#19d3f3\", \"#FF6692\", \"#B6E880\", \"#FF97FF\", \"#FECB52\"], \"font\": {\"color\": \"#2a3f5f\"}, \"geo\": {\"bgcolor\": \"white\", \"lakecolor\": \"white\", \"landcolor\": \"#E5ECF6\", \"showlakes\": true, \"showland\": true, \"subunitcolor\": \"white\"}, \"hoverlabel\": {\"align\": \"left\"}, \"hovermode\": \"closest\", \"mapbox\": {\"style\": \"light\"}, \"paper_bgcolor\": \"white\", \"plot_bgcolor\": \"#E5ECF6\", \"polar\": {\"angularaxis\": {\"gridcolor\": \"white\", \"linecolor\": \"white\", \"ticks\": \"\"}, \"bgcolor\": \"#E5ECF6\", \"radialaxis\": {\"gridcolor\": \"white\", \"linecolor\": \"white\", \"ticks\": \"\"}}, \"scene\": {\"xaxis\": {\"backgroundcolor\": \"#E5ECF6\", \"gridcolor\": \"white\", \"gridwidth\": 2, \"linecolor\": \"white\", \"showbackground\": true, \"ticks\": \"\", \"zerolinecolor\": \"white\"}, \"yaxis\": {\"backgroundcolor\": \"#E5ECF6\", \"gridcolor\": \"white\", \"gridwidth\": 2, \"linecolor\": \"white\", \"showbackground\": true, \"ticks\": \"\", \"zerolinecolor\": \"white\"}, \"zaxis\": {\"backgroundcolor\": \"#E5ECF6\", \"gridcolor\": \"white\", \"gridwidth\": 2, \"linecolor\": \"white\", \"showbackground\": true, \"ticks\": \"\", \"zerolinecolor\": \"white\"}}, \"shapedefaults\": {\"line\": {\"color\": \"#2a3f5f\"}}, \"ternary\": {\"aaxis\": {\"gridcolor\": \"white\", \"linecolor\": \"white\", \"ticks\": \"\"}, \"baxis\": {\"gridcolor\": \"white\", \"linecolor\": \"white\", \"ticks\": \"\"}, \"bgcolor\": \"#E5ECF6\", \"caxis\": {\"gridcolor\": \"white\", \"linecolor\": \"white\", \"ticks\": \"\"}}, \"title\": {\"x\": 0.05}, \"xaxis\": {\"automargin\": true, \"gridcolor\": \"white\", \"linecolor\": \"white\", \"ticks\": \"\", \"title\": {\"standoff\": 15}, \"zerolinecolor\": \"white\", \"zerolinewidth\": 2}, \"yaxis\": {\"automargin\": true, \"gridcolor\": \"white\", \"linecolor\": \"white\", \"ticks\": \"\", \"title\": {\"standoff\": 15}, \"zerolinecolor\": \"white\", \"zerolinewidth\": 2}}}, \"title\": {\"font\": {\"color\": \"#4D5663\"}}, \"xaxis\": {\"gridcolor\": \"#E1E5ED\", \"showgrid\": true, \"tickfont\": {\"color\": \"#4D5663\"}, \"title\": {\"font\": {\"color\": \"#4D5663\"}, \"text\": \"Fare\"}, \"zerolinecolor\": \"#E1E5ED\"}, \"yaxis\": {\"gridcolor\": \"#E1E5ED\", \"showgrid\": true, \"tickfont\": {\"color\": \"#4D5663\"}, \"title\": {\"font\": {\"color\": \"#4D5663\"}, \"text\": \"Frequency\"}, \"zerolinecolor\": \"#E1E5ED\"}},                        {\"showLink\": true, \"linkText\": \"Export to plot.ly\", \"plotlyServerURL\": \"https://plot.ly\", \"responsive\": true}                    ).then(function(){\n",
       "                            \n",
       "var gd = document.getElementById('68663022-1660-4720-9b6b-4b51c22f6577');\n",
       "var x = new MutationObserver(function (mutations, observer) {{\n",
       "        var display = window.getComputedStyle(gd).display;\n",
       "        if (!display || display === 'none') {{\n",
       "            console.log([gd, 'removed!']);\n",
       "            Plotly.purge(gd);\n",
       "            observer.disconnect();\n",
       "        }}\n",
       "}});\n",
       "\n",
       "// Listen for the removal of the full notebook cells\n",
       "var notebookContainer = gd.closest('#notebook-container');\n",
       "if (notebookContainer) {{\n",
       "    x.observe(notebookContainer, {childList: true});\n",
       "}}\n",
       "\n",
       "// Listen for the clearing of the current output cell\n",
       "var outputEl = gd.closest('.output');\n",
       "if (outputEl) {{\n",
       "    x.observe(outputEl, {childList: true});\n",
       "}}\n",
       "\n",
       "                        })                };                });            </script>        </div>"
      ]
     },
     "metadata": {},
     "output_type": "display_data"
    }
   ],
   "source": [
    "data_train1['Fare'].iplot(kind='hist', xTitle='Fare', yTitle='Frequency')"
   ]
  },
  {
   "cell_type": "code",
   "execution_count": 16,
   "metadata": {},
   "outputs": [],
   "source": [
    "data_train=data_train[data_train['Fare']<=400]"
   ]
  },
  {
   "cell_type": "code",
   "execution_count": null,
   "metadata": {},
   "outputs": [],
   "source": []
  },
  {
   "cell_type": "code",
   "execution_count": null,
   "metadata": {},
   "outputs": [],
   "source": []
  },
  {
   "cell_type": "code",
   "execution_count": null,
   "metadata": {},
   "outputs": [],
   "source": []
  },
  {
   "cell_type": "markdown",
   "metadata": {},
   "source": [
    "From the distribution plots above, it can be concluded that:\n",
    "\n",
    "1: Age is approximately normally distributed.\n",
    "\n",
    "2: Fare is right skewed having several outliers(i.e beyond 8th std deviation).\n"
   ]
  },
  {
   "cell_type": "code",
   "execution_count": 17,
   "metadata": {},
   "outputs": [],
   "source": [
    "#Since we have a lot of missing data, lets fill the missing data first:\n"
   ]
  },
  {
   "cell_type": "code",
   "execution_count": 18,
   "metadata": {},
   "outputs": [
    {
     "data": {
      "text/plain": [
       "Pclass\n",
       "1    38.280984\n",
       "2    29.877630\n",
       "3    25.140620\n",
       "Name: Age, dtype: float64"
      ]
     },
     "execution_count": 18,
     "metadata": {},
     "output_type": "execute_result"
    }
   ],
   "source": [
    "data_train.groupby(['Pclass'])['Age'].mean()"
   ]
  },
  {
   "cell_type": "code",
   "execution_count": 19,
   "metadata": {},
   "outputs": [],
   "source": [
    "def age(cols):\n",
    "    Age = cols[0]\n",
    "    Pclass = cols[1]\n",
    "    \n",
    "    if pd.isnull(Age):\n",
    "\n",
    "        if Pclass == 1:\n",
    "            return 38.233441\n",
    "        \n",
    "\n",
    "        elif Pclass == 2:\n",
    "            return 29.877630\n",
    "\n",
    "        else:\n",
    "            return 25.140620\n",
    "\n",
    "    else:\n",
    "        return Age\n",
    "data_train['Age']=data_train[['Age','Pclass']].apply(age,1)\n",
    "data_test['Age']=data_test[['Age','Pclass']].apply(age,1)"
   ]
  },
  {
   "cell_type": "code",
   "execution_count": 20,
   "metadata": {},
   "outputs": [
    {
     "data": {
      "text/plain": [
       "Survived      0\n",
       "Pclass        0\n",
       "Name          0\n",
       "Sex           0\n",
       "Age           0\n",
       "SibSp         0\n",
       "Parch         0\n",
       "Ticket        0\n",
       "Fare          0\n",
       "Cabin       686\n",
       "Embarked      2\n",
       "dtype: int64"
      ]
     },
     "execution_count": 20,
     "metadata": {},
     "output_type": "execute_result"
    }
   ],
   "source": [
    "data_train.isnull().sum()"
   ]
  },
  {
   "cell_type": "code",
   "execution_count": 21,
   "metadata": {},
   "outputs": [
    {
     "data": {
      "text/plain": [
       "Pclass        0\n",
       "Name          0\n",
       "Sex           0\n",
       "Age           0\n",
       "SibSp         0\n",
       "Parch         0\n",
       "Ticket        0\n",
       "Fare          1\n",
       "Cabin       327\n",
       "Embarked      0\n",
       "dtype: int64"
      ]
     },
     "execution_count": 21,
     "metadata": {},
     "output_type": "execute_result"
    }
   ],
   "source": [
    "data_test.isnull().sum()"
   ]
  },
  {
   "cell_type": "code",
   "execution_count": 22,
   "metadata": {},
   "outputs": [],
   "source": [
    "def drop(df):\n",
    "    df=df.drop(['Cabin'],1)\n",
    "    return df\n",
    "data_train=drop(data_train)\n",
    "data_test=drop(data_test)"
   ]
  },
  {
   "cell_type": "code",
   "execution_count": 23,
   "metadata": {},
   "outputs": [
    {
     "data": {
      "text/plain": [
       "Survived    0\n",
       "Pclass      0\n",
       "Name        0\n",
       "Sex         0\n",
       "Age         0\n",
       "SibSp       0\n",
       "Parch       0\n",
       "Ticket      0\n",
       "Fare        0\n",
       "Embarked    2\n",
       "dtype: int64"
      ]
     },
     "execution_count": 23,
     "metadata": {},
     "output_type": "execute_result"
    }
   ],
   "source": [
    "data_train.isnull().sum()"
   ]
  },
  {
   "cell_type": "code",
   "execution_count": 24,
   "metadata": {},
   "outputs": [
    {
     "data": {
      "text/plain": [
       "Pclass      0\n",
       "Name        0\n",
       "Sex         0\n",
       "Age         0\n",
       "SibSp       0\n",
       "Parch       0\n",
       "Ticket      0\n",
       "Fare        1\n",
       "Embarked    0\n",
       "dtype: int64"
      ]
     },
     "execution_count": 24,
     "metadata": {},
     "output_type": "execute_result"
    }
   ],
   "source": [
    "data_test.isnull().sum()"
   ]
  },
  {
   "cell_type": "code",
   "execution_count": 25,
   "metadata": {},
   "outputs": [],
   "source": [
    "data_train.dropna(inplace=True)"
   ]
  },
  {
   "cell_type": "code",
   "execution_count": 26,
   "metadata": {},
   "outputs": [
    {
     "data": {
      "text/plain": [
       "PassengerId\n",
       "892       7.8292\n",
       "893       7.0000\n",
       "894       9.6875\n",
       "895       8.6625\n",
       "896      12.2875\n",
       "          ...   \n",
       "1305      8.0500\n",
       "1306    108.9000\n",
       "1307      7.2500\n",
       "1308      8.0500\n",
       "1309     22.3583\n",
       "Name: Fare, Length: 418, dtype: float64"
      ]
     },
     "execution_count": 26,
     "metadata": {},
     "output_type": "execute_result"
    }
   ],
   "source": [
    "data_test['Fare'].fillna(np.median(data_test['Fare']))"
   ]
  },
  {
   "cell_type": "markdown",
   "metadata": {},
   "source": [
    "Now since the missing data has been filled, lets\n",
    "check the distribution of the target variable"
   ]
  },
  {
   "cell_type": "code",
   "execution_count": 27,
   "metadata": {},
   "outputs": [
    {
     "data": {
      "text/plain": [
       "0    549\n",
       "1    337\n",
       "Name: Survived, dtype: int64"
      ]
     },
     "execution_count": 27,
     "metadata": {},
     "output_type": "execute_result"
    }
   ],
   "source": [
    "data_train['Survived'].value_counts()"
   ]
  },
  {
   "cell_type": "code",
   "execution_count": 28,
   "metadata": {},
   "outputs": [],
   "source": [
    "#As we can see, the data is imbalanced, \n",
    "#Lets balance the data first"
   ]
  },
  {
   "cell_type": "code",
   "execution_count": 29,
   "metadata": {},
   "outputs": [
    {
     "data": {
      "text/html": [
       "<div>\n",
       "<style scoped>\n",
       "    .dataframe tbody tr th:only-of-type {\n",
       "        vertical-align: middle;\n",
       "    }\n",
       "\n",
       "    .dataframe tbody tr th {\n",
       "        vertical-align: top;\n",
       "    }\n",
       "\n",
       "    .dataframe thead th {\n",
       "        text-align: right;\n",
       "    }\n",
       "</style>\n",
       "<table border=\"1\" class=\"dataframe\">\n",
       "  <thead>\n",
       "    <tr style=\"text-align: right;\">\n",
       "      <th></th>\n",
       "      <th>Survived</th>\n",
       "      <th>Pclass</th>\n",
       "      <th>Name</th>\n",
       "      <th>Sex</th>\n",
       "      <th>Age</th>\n",
       "      <th>SibSp</th>\n",
       "      <th>Parch</th>\n",
       "      <th>Ticket</th>\n",
       "      <th>Fare</th>\n",
       "      <th>Embarked</th>\n",
       "    </tr>\n",
       "    <tr>\n",
       "      <th>PassengerId</th>\n",
       "      <th></th>\n",
       "      <th></th>\n",
       "      <th></th>\n",
       "      <th></th>\n",
       "      <th></th>\n",
       "      <th></th>\n",
       "      <th></th>\n",
       "      <th></th>\n",
       "      <th></th>\n",
       "      <th></th>\n",
       "    </tr>\n",
       "  </thead>\n",
       "  <tbody>\n",
       "    <tr>\n",
       "      <th>1</th>\n",
       "      <td>0</td>\n",
       "      <td>3</td>\n",
       "      <td>Braund, Mr. Owen Harris</td>\n",
       "      <td>male</td>\n",
       "      <td>22.0</td>\n",
       "      <td>1</td>\n",
       "      <td>0</td>\n",
       "      <td>A/5 21171</td>\n",
       "      <td>7.2500</td>\n",
       "      <td>S</td>\n",
       "    </tr>\n",
       "    <tr>\n",
       "      <th>2</th>\n",
       "      <td>1</td>\n",
       "      <td>1</td>\n",
       "      <td>Cumings, Mrs. John Bradley (Florence Briggs Th...</td>\n",
       "      <td>female</td>\n",
       "      <td>38.0</td>\n",
       "      <td>1</td>\n",
       "      <td>0</td>\n",
       "      <td>PC 17599</td>\n",
       "      <td>71.2833</td>\n",
       "      <td>C</td>\n",
       "    </tr>\n",
       "    <tr>\n",
       "      <th>3</th>\n",
       "      <td>1</td>\n",
       "      <td>3</td>\n",
       "      <td>Heikkinen, Miss. Laina</td>\n",
       "      <td>female</td>\n",
       "      <td>26.0</td>\n",
       "      <td>0</td>\n",
       "      <td>0</td>\n",
       "      <td>STON/O2. 3101282</td>\n",
       "      <td>7.9250</td>\n",
       "      <td>S</td>\n",
       "    </tr>\n",
       "    <tr>\n",
       "      <th>4</th>\n",
       "      <td>1</td>\n",
       "      <td>1</td>\n",
       "      <td>Futrelle, Mrs. Jacques Heath (Lily May Peel)</td>\n",
       "      <td>female</td>\n",
       "      <td>35.0</td>\n",
       "      <td>1</td>\n",
       "      <td>0</td>\n",
       "      <td>113803</td>\n",
       "      <td>53.1000</td>\n",
       "      <td>S</td>\n",
       "    </tr>\n",
       "    <tr>\n",
       "      <th>5</th>\n",
       "      <td>0</td>\n",
       "      <td>3</td>\n",
       "      <td>Allen, Mr. William Henry</td>\n",
       "      <td>male</td>\n",
       "      <td>35.0</td>\n",
       "      <td>0</td>\n",
       "      <td>0</td>\n",
       "      <td>373450</td>\n",
       "      <td>8.0500</td>\n",
       "      <td>S</td>\n",
       "    </tr>\n",
       "  </tbody>\n",
       "</table>\n",
       "</div>"
      ],
      "text/plain": [
       "             Survived  Pclass  \\\n",
       "PassengerId                     \n",
       "1                   0       3   \n",
       "2                   1       1   \n",
       "3                   1       3   \n",
       "4                   1       1   \n",
       "5                   0       3   \n",
       "\n",
       "                                                          Name     Sex   Age  \\\n",
       "PassengerId                                                                    \n",
       "1                                      Braund, Mr. Owen Harris    male  22.0   \n",
       "2            Cumings, Mrs. John Bradley (Florence Briggs Th...  female  38.0   \n",
       "3                                       Heikkinen, Miss. Laina  female  26.0   \n",
       "4                 Futrelle, Mrs. Jacques Heath (Lily May Peel)  female  35.0   \n",
       "5                                     Allen, Mr. William Henry    male  35.0   \n",
       "\n",
       "             SibSp  Parch            Ticket     Fare Embarked  \n",
       "PassengerId                                                    \n",
       "1                1      0         A/5 21171   7.2500        S  \n",
       "2                1      0          PC 17599  71.2833        C  \n",
       "3                0      0  STON/O2. 3101282   7.9250        S  \n",
       "4                1      0            113803  53.1000        S  \n",
       "5                0      0            373450   8.0500        S  "
      ]
     },
     "execution_count": 29,
     "metadata": {},
     "output_type": "execute_result"
    }
   ],
   "source": [
    "data_train.head()"
   ]
  },
  {
   "cell_type": "markdown",
   "metadata": {},
   "source": [
    "For the development of our machine learning model, we dont need the name and the ticket. \n",
    "\n",
    "Hence, we will drop these features"
   ]
  },
  {
   "cell_type": "code",
   "execution_count": 30,
   "metadata": {},
   "outputs": [],
   "source": [
    "data_train.drop(['Name','Ticket'],1, inplace=True)"
   ]
  },
  {
   "cell_type": "code",
   "execution_count": 31,
   "metadata": {},
   "outputs": [],
   "source": [
    "data_test.drop(['Name','Ticket'],1, inplace=True)"
   ]
  },
  {
   "cell_type": "markdown",
   "metadata": {},
   "source": [
    "For the development of our model, we must first\n",
    "\n",
    "encode our data"
   ]
  },
  {
   "cell_type": "code",
   "execution_count": 32,
   "metadata": {},
   "outputs": [],
   "source": [
    "from sklearn.preprocessing import LabelEncoder\n",
    "le=LabelEncoder()"
   ]
  },
  {
   "cell_type": "code",
   "execution_count": 33,
   "metadata": {},
   "outputs": [],
   "source": [
    "def encode(df):\n",
    "    categorical=list(df.select_dtypes(include=['category','object']))\n",
    "    for feature in categorical:\n",
    "        try:\n",
    "            df[feature] = le.fit_transform(df[feature])\n",
    "        except:\n",
    "            print('Error encoding '+feature)\n",
    "    return df"
   ]
  },
  {
   "cell_type": "code",
   "execution_count": 34,
   "metadata": {},
   "outputs": [],
   "source": [
    "train=encode(data_train)\n",
    "test=encode(data_test)"
   ]
  },
  {
   "cell_type": "code",
   "execution_count": 35,
   "metadata": {},
   "outputs": [
    {
     "data": {
      "text/html": [
       "<div>\n",
       "<style scoped>\n",
       "    .dataframe tbody tr th:only-of-type {\n",
       "        vertical-align: middle;\n",
       "    }\n",
       "\n",
       "    .dataframe tbody tr th {\n",
       "        vertical-align: top;\n",
       "    }\n",
       "\n",
       "    .dataframe thead th {\n",
       "        text-align: right;\n",
       "    }\n",
       "</style>\n",
       "<table border=\"1\" class=\"dataframe\">\n",
       "  <thead>\n",
       "    <tr style=\"text-align: right;\">\n",
       "      <th></th>\n",
       "      <th>Survived</th>\n",
       "      <th>Pclass</th>\n",
       "      <th>Sex</th>\n",
       "      <th>Age</th>\n",
       "      <th>SibSp</th>\n",
       "      <th>Parch</th>\n",
       "      <th>Fare</th>\n",
       "      <th>Embarked</th>\n",
       "    </tr>\n",
       "    <tr>\n",
       "      <th>PassengerId</th>\n",
       "      <th></th>\n",
       "      <th></th>\n",
       "      <th></th>\n",
       "      <th></th>\n",
       "      <th></th>\n",
       "      <th></th>\n",
       "      <th></th>\n",
       "      <th></th>\n",
       "    </tr>\n",
       "  </thead>\n",
       "  <tbody>\n",
       "    <tr>\n",
       "      <th>1</th>\n",
       "      <td>0</td>\n",
       "      <td>3</td>\n",
       "      <td>1</td>\n",
       "      <td>22.0</td>\n",
       "      <td>1</td>\n",
       "      <td>0</td>\n",
       "      <td>7.2500</td>\n",
       "      <td>2</td>\n",
       "    </tr>\n",
       "    <tr>\n",
       "      <th>2</th>\n",
       "      <td>1</td>\n",
       "      <td>1</td>\n",
       "      <td>0</td>\n",
       "      <td>38.0</td>\n",
       "      <td>1</td>\n",
       "      <td>0</td>\n",
       "      <td>71.2833</td>\n",
       "      <td>0</td>\n",
       "    </tr>\n",
       "    <tr>\n",
       "      <th>3</th>\n",
       "      <td>1</td>\n",
       "      <td>3</td>\n",
       "      <td>0</td>\n",
       "      <td>26.0</td>\n",
       "      <td>0</td>\n",
       "      <td>0</td>\n",
       "      <td>7.9250</td>\n",
       "      <td>2</td>\n",
       "    </tr>\n",
       "    <tr>\n",
       "      <th>4</th>\n",
       "      <td>1</td>\n",
       "      <td>1</td>\n",
       "      <td>0</td>\n",
       "      <td>35.0</td>\n",
       "      <td>1</td>\n",
       "      <td>0</td>\n",
       "      <td>53.1000</td>\n",
       "      <td>2</td>\n",
       "    </tr>\n",
       "    <tr>\n",
       "      <th>5</th>\n",
       "      <td>0</td>\n",
       "      <td>3</td>\n",
       "      <td>1</td>\n",
       "      <td>35.0</td>\n",
       "      <td>0</td>\n",
       "      <td>0</td>\n",
       "      <td>8.0500</td>\n",
       "      <td>2</td>\n",
       "    </tr>\n",
       "  </tbody>\n",
       "</table>\n",
       "</div>"
      ],
      "text/plain": [
       "             Survived  Pclass  Sex   Age  SibSp  Parch     Fare  Embarked\n",
       "PassengerId                                                              \n",
       "1                   0       3    1  22.0      1      0   7.2500         2\n",
       "2                   1       1    0  38.0      1      0  71.2833         0\n",
       "3                   1       3    0  26.0      0      0   7.9250         2\n",
       "4                   1       1    0  35.0      1      0  53.1000         2\n",
       "5                   0       3    1  35.0      0      0   8.0500         2"
      ]
     },
     "execution_count": 35,
     "metadata": {},
     "output_type": "execute_result"
    }
   ],
   "source": [
    "train.head()"
   ]
  },
  {
   "cell_type": "code",
   "execution_count": 36,
   "metadata": {},
   "outputs": [
    {
     "data": {
      "text/html": [
       "<div>\n",
       "<style scoped>\n",
       "    .dataframe tbody tr th:only-of-type {\n",
       "        vertical-align: middle;\n",
       "    }\n",
       "\n",
       "    .dataframe tbody tr th {\n",
       "        vertical-align: top;\n",
       "    }\n",
       "\n",
       "    .dataframe thead th {\n",
       "        text-align: right;\n",
       "    }\n",
       "</style>\n",
       "<table border=\"1\" class=\"dataframe\">\n",
       "  <thead>\n",
       "    <tr style=\"text-align: right;\">\n",
       "      <th></th>\n",
       "      <th>Pclass</th>\n",
       "      <th>Sex</th>\n",
       "      <th>Age</th>\n",
       "      <th>SibSp</th>\n",
       "      <th>Parch</th>\n",
       "      <th>Fare</th>\n",
       "      <th>Embarked</th>\n",
       "    </tr>\n",
       "    <tr>\n",
       "      <th>PassengerId</th>\n",
       "      <th></th>\n",
       "      <th></th>\n",
       "      <th></th>\n",
       "      <th></th>\n",
       "      <th></th>\n",
       "      <th></th>\n",
       "      <th></th>\n",
       "    </tr>\n",
       "  </thead>\n",
       "  <tbody>\n",
       "    <tr>\n",
       "      <th>892</th>\n",
       "      <td>3</td>\n",
       "      <td>1</td>\n",
       "      <td>34.5</td>\n",
       "      <td>0</td>\n",
       "      <td>0</td>\n",
       "      <td>7.8292</td>\n",
       "      <td>1</td>\n",
       "    </tr>\n",
       "    <tr>\n",
       "      <th>893</th>\n",
       "      <td>3</td>\n",
       "      <td>0</td>\n",
       "      <td>47.0</td>\n",
       "      <td>1</td>\n",
       "      <td>0</td>\n",
       "      <td>7.0000</td>\n",
       "      <td>2</td>\n",
       "    </tr>\n",
       "    <tr>\n",
       "      <th>894</th>\n",
       "      <td>2</td>\n",
       "      <td>1</td>\n",
       "      <td>62.0</td>\n",
       "      <td>0</td>\n",
       "      <td>0</td>\n",
       "      <td>9.6875</td>\n",
       "      <td>1</td>\n",
       "    </tr>\n",
       "    <tr>\n",
       "      <th>895</th>\n",
       "      <td>3</td>\n",
       "      <td>1</td>\n",
       "      <td>27.0</td>\n",
       "      <td>0</td>\n",
       "      <td>0</td>\n",
       "      <td>8.6625</td>\n",
       "      <td>2</td>\n",
       "    </tr>\n",
       "    <tr>\n",
       "      <th>896</th>\n",
       "      <td>3</td>\n",
       "      <td>0</td>\n",
       "      <td>22.0</td>\n",
       "      <td>1</td>\n",
       "      <td>1</td>\n",
       "      <td>12.2875</td>\n",
       "      <td>2</td>\n",
       "    </tr>\n",
       "  </tbody>\n",
       "</table>\n",
       "</div>"
      ],
      "text/plain": [
       "             Pclass  Sex   Age  SibSp  Parch     Fare  Embarked\n",
       "PassengerId                                                    \n",
       "892               3    1  34.5      0      0   7.8292         1\n",
       "893               3    0  47.0      1      0   7.0000         2\n",
       "894               2    1  62.0      0      0   9.6875         1\n",
       "895               3    1  27.0      0      0   8.6625         2\n",
       "896               3    0  22.0      1      1  12.2875         2"
      ]
     },
     "execution_count": 36,
     "metadata": {},
     "output_type": "execute_result"
    }
   ],
   "source": [
    "test.head()"
   ]
  },
  {
   "cell_type": "code",
   "execution_count": 37,
   "metadata": {},
   "outputs": [
    {
     "data": {
      "text/plain": [
       "Pclass      0\n",
       "Sex         0\n",
       "Age         0\n",
       "SibSp       0\n",
       "Parch       0\n",
       "Fare        1\n",
       "Embarked    0\n",
       "dtype: int64"
      ]
     },
     "execution_count": 37,
     "metadata": {},
     "output_type": "execute_result"
    }
   ],
   "source": [
    "test.isnull().sum()"
   ]
  },
  {
   "cell_type": "code",
   "execution_count": 38,
   "metadata": {},
   "outputs": [
    {
     "data": {
      "text/plain": [
       "Pclass\n",
       "1    78.106279\n",
       "2    20.662183\n",
       "3    13.675550\n",
       "Name: Fare, dtype: float64"
      ]
     },
     "execution_count": 38,
     "metadata": {},
     "output_type": "execute_result"
    }
   ],
   "source": [
    "data_train.groupby(['Pclass'])['Fare'].mean()"
   ]
  },
  {
   "cell_type": "code",
   "execution_count": 39,
   "metadata": {},
   "outputs": [],
   "source": [
    "def fare(cols):\n",
    "    Fare = cols[0]\n",
    "    Pclass = cols[1]\n",
    "    \n",
    "    if pd.isnull(Fare):\n",
    "\n",
    "        if Pclass == 1:\n",
    "            return 84.193516\n",
    "        \n",
    "\n",
    "        elif Pclass == 2:\n",
    "            return 20.662183\n",
    "\n",
    "        else:\n",
    "            return 13.675550\n",
    "\n",
    "    else:\n",
    "        return Fare\n",
    "test['Fare']=test[['Fare','Pclass']].apply(fare,1)"
   ]
  },
  {
   "cell_type": "code",
   "execution_count": 40,
   "metadata": {},
   "outputs": [
    {
     "data": {
      "text/plain": [
       "Pclass      0\n",
       "Sex         0\n",
       "Age         0\n",
       "SibSp       0\n",
       "Parch       0\n",
       "Fare        0\n",
       "Embarked    0\n",
       "dtype: int64"
      ]
     },
     "execution_count": 40,
     "metadata": {},
     "output_type": "execute_result"
    }
   ],
   "source": [
    "test.isnull().sum()"
   ]
  },
  {
   "cell_type": "code",
   "execution_count": 41,
   "metadata": {},
   "outputs": [
    {
     "data": {
      "text/plain": [
       "<matplotlib.axes._subplots.AxesSubplot at 0x7fb4ffdb0790>"
      ]
     },
     "execution_count": 41,
     "metadata": {},
     "output_type": "execute_result"
    },
    {
     "data": {
      "image/png": "[encoded data removed]",
      "text/plain": [
       "<Figure size 432x288 with 1 Axes>"
      ]
     },
     "metadata": {
      "needs_background": "light"
     },
     "output_type": "display_data"
    }
   ],
   "source": [
    "sns.countplot(train['Survived'])"
   ]
  },
  {
   "cell_type": "markdown",
   "metadata": {},
   "source": [
    "Since our target variable is imbalanced, we need to perform resampling methods"
   ]
  },
  {
   "cell_type": "code",
   "execution_count": 42,
   "metadata": {},
   "outputs": [
    {
     "data": {
      "text/plain": [
       "1    549\n",
       "0    549\n",
       "Name: Survived, dtype: int64"
      ]
     },
     "execution_count": 42,
     "metadata": {},
     "output_type": "execute_result"
    }
   ],
   "source": [
    "from sklearn.utils import resample\n",
    "df_majority = train[train.Survived==0]\n",
    "df_minority = train[train.Survived==1]\n",
    " \n",
    "df_minority_upsampled = resample(df_minority, \n",
    "                                 replace=True, \n",
    "                                 n_samples=len(df_majority),  \n",
    "                                 random_state=33) \n",
    " \n",
    "df_upsampled = pd.concat([df_majority, df_minority_upsampled])\n",
    "df_upsampled['Survived'].value_counts()"
   ]
  },
  {
   "cell_type": "code",
   "execution_count": 43,
   "metadata": {},
   "outputs": [],
   "source": [
    "X=df_upsampled.drop(['Survived'],1)\n",
    "y=df_upsampled['Survived']"
   ]
  },
  {
   "cell_type": "code",
   "execution_count": 44,
   "metadata": {},
   "outputs": [],
   "source": [
    "from sklearn.model_selection import GridSearchCV\n",
    "from sklearn.svm import SVC\n"
   ]
  },
  {
   "cell_type": "code",
   "execution_count": 45,
   "metadata": {},
   "outputs": [],
   "source": [
    "param_grid = {'C': [0.1,1, 10, 100, 1000], 'gamma': [1,0.1,0.01,0.001,0.0001], 'kernel': ['rbf']} \n",
    "grid = GridSearchCV(SVC(),param_grid,refit=True,verbose=4)"
   ]
  },
  {
   "cell_type": "code",
   "execution_count": 46,
   "metadata": {},
   "outputs": [],
   "source": [
    "from sklearn.model_selection import train_test_split\n"
   ]
  },
  {
   "cell_type": "code",
   "execution_count": 63,
   "metadata": {},
   "outputs": [],
   "source": [
    "X_train, X_test, y_train, y_test = train_test_split(X, y, test_size=0.20, random_state=33)"
   ]
  },
  {
   "cell_type": "code",
   "execution_count": 64,
   "metadata": {},
   "outputs": [
    {
     "name": "stdout",
     "output_type": "stream",
     "text": [
      "Fitting 5 folds for each of 25 candidates, totalling 125 fits\n",
      "[CV] C=0.1, gamma=1, kernel=rbf ......................................\n",
      "[CV] .......... C=0.1, gamma=1, kernel=rbf, score=0.562, total=   0.0s\n",
      "[CV] C=0.1, gamma=1, kernel=rbf ......................................\n",
      "[CV] .......... C=0.1, gamma=1, kernel=rbf, score=0.557, total=   0.0s\n",
      "[CV] C=0.1, gamma=1, kernel=rbf ......................................\n",
      "[CV] .......... C=0.1, gamma=1, kernel=rbf, score=0.597, total=   0.0s\n",
      "[CV] C=0.1, gamma=1, kernel=rbf ......................................\n",
      "[CV] .......... C=0.1, gamma=1, kernel=rbf, score=0.571, total=   0.0s\n",
      "[CV] C=0.1, gamma=1, kernel=rbf ......................................\n",
      "[CV] .......... C=0.1, gamma=1, kernel=rbf, score=0.577, total=   0.0s\n",
      "[CV] C=0.1, gamma=0.1, kernel=rbf ....................................\n",
      "[CV] ........ C=0.1, gamma=0.1, kernel=rbf, score=0.682, total=   0.0s\n",
      "[CV] C=0.1, gamma=0.1, kernel=rbf ....................................\n",
      "[CV] ........ C=0.1, gamma=0.1, kernel=rbf, score=0.591, total=   0.0s\n",
      "[CV] C=0.1, gamma=0.1, kernel=rbf ....................................\n",
      "[CV] ........ C=0.1, gamma=0.1, kernel=rbf, score=0.619, total=   0.0s\n",
      "[CV] C=0.1, gamma=0.1, kernel=rbf ....................................\n",
      "[CV] ........ C=0.1, gamma=0.1, kernel=rbf, score=0.617, total=   0.0s\n",
      "[CV] C=0.1, gamma=0.1, kernel=rbf ....................................\n"
     ]
    },
    {
     "name": "stderr",
     "output_type": "stream",
     "text": [
      "[Parallel(n_jobs=1)]: Using backend SequentialBackend with 1 concurrent workers.\n",
      "[Parallel(n_jobs=1)]: Done   1 out of   1 | elapsed:    0.0s remaining:    0.0s\n",
      "[Parallel(n_jobs=1)]: Done   2 out of   2 | elapsed:    0.0s remaining:    0.0s\n",
      "[Parallel(n_jobs=1)]: Done   3 out of   3 | elapsed:    0.1s remaining:    0.0s\n"
     ]
    },
    {
     "name": "stdout",
     "output_type": "stream",
     "text": [
      "[CV] ........ C=0.1, gamma=0.1, kernel=rbf, score=0.549, total=   0.0s\n",
      "[CV] C=0.1, gamma=0.01, kernel=rbf ...................................\n",
      "[CV] ....... C=0.1, gamma=0.01, kernel=rbf, score=0.665, total=   0.0s\n",
      "[CV] C=0.1, gamma=0.01, kernel=rbf ...................................\n",
      "[CV] ....... C=0.1, gamma=0.01, kernel=rbf, score=0.653, total=   0.0s\n",
      "[CV] C=0.1, gamma=0.01, kernel=rbf ...................................\n",
      "[CV] ....... C=0.1, gamma=0.01, kernel=rbf, score=0.659, total=   0.0s\n",
      "[CV] C=0.1, gamma=0.01, kernel=rbf ...................................\n",
      "[CV] ....... C=0.1, gamma=0.01, kernel=rbf, score=0.697, total=   0.0s\n",
      "[CV] C=0.1, gamma=0.01, kernel=rbf ...................................\n",
      "[CV] ....... C=0.1, gamma=0.01, kernel=rbf, score=0.600, total=   0.0s\n",
      "[CV] C=0.1, gamma=0.001, kernel=rbf ..................................\n",
      "[CV] ...... C=0.1, gamma=0.001, kernel=rbf, score=0.682, total=   0.0s\n",
      "[CV] C=0.1, gamma=0.001, kernel=rbf ..................................\n",
      "[CV] ...... C=0.1, gamma=0.001, kernel=rbf, score=0.653, total=   0.0s\n",
      "[CV] C=0.1, gamma=0.001, kernel=rbf ..................................\n",
      "[CV] ...... C=0.1, gamma=0.001, kernel=rbf, score=0.653, total=   0.0s\n",
      "[CV] C=0.1, gamma=0.001, kernel=rbf ..................................\n",
      "[CV] ...... C=0.1, gamma=0.001, kernel=rbf, score=0.686, total=   0.0s\n",
      "[CV] C=0.1, gamma=0.001, kernel=rbf ..................................\n",
      "[CV] ...... C=0.1, gamma=0.001, kernel=rbf, score=0.623, total=   0.0s\n",
      "[CV] C=0.1, gamma=0.0001, kernel=rbf .................................\n",
      "[CV] ..... C=0.1, gamma=0.0001, kernel=rbf, score=0.619, total=   0.0s\n",
      "[CV] C=0.1, gamma=0.0001, kernel=rbf .................................\n",
      "[CV] ..... C=0.1, gamma=0.0001, kernel=rbf, score=0.597, total=   0.0s\n",
      "[CV] C=0.1, gamma=0.0001, kernel=rbf .................................\n",
      "[CV] ..... C=0.1, gamma=0.0001, kernel=rbf, score=0.580, total=   0.0s\n",
      "[CV] C=0.1, gamma=0.0001, kernel=rbf .................................\n",
      "[CV] ..... C=0.1, gamma=0.0001, kernel=rbf, score=0.589, total=   0.0s\n",
      "[CV] C=0.1, gamma=0.0001, kernel=rbf .................................\n",
      "[CV] ..... C=0.1, gamma=0.0001, kernel=rbf, score=0.629, total=   0.0s\n",
      "[CV] C=1, gamma=1, kernel=rbf ........................................\n",
      "[CV] ............ C=1, gamma=1, kernel=rbf, score=0.778, total=   0.0s\n",
      "[CV] C=1, gamma=1, kernel=rbf ........................................\n",
      "[CV] ............ C=1, gamma=1, kernel=rbf, score=0.795, total=   0.0s\n",
      "[CV] C=1, gamma=1, kernel=rbf ........................................\n",
      "[CV] ............ C=1, gamma=1, kernel=rbf, score=0.824, total=   0.0s\n",
      "[CV] C=1, gamma=1, kernel=rbf ........................................\n",
      "[CV] ............ C=1, gamma=1, kernel=rbf, score=0.823, total=   0.0s\n",
      "[CV] C=1, gamma=1, kernel=rbf ........................................\n",
      "[CV] ............ C=1, gamma=1, kernel=rbf, score=0.714, total=   0.0s\n",
      "[CV] C=1, gamma=0.1, kernel=rbf ......................................\n",
      "[CV] .......... C=1, gamma=0.1, kernel=rbf, score=0.756, total=   0.0s\n",
      "[CV] C=1, gamma=0.1, kernel=rbf ......................................\n",
      "[CV] .......... C=1, gamma=0.1, kernel=rbf, score=0.767, total=   0.0s\n",
      "[CV] C=1, gamma=0.1, kernel=rbf ......................................\n",
      "[CV] .......... C=1, gamma=0.1, kernel=rbf, score=0.790, total=   0.0s\n",
      "[CV] C=1, gamma=0.1, kernel=rbf ......................................\n",
      "[CV] .......... C=1, gamma=0.1, kernel=rbf, score=0.794, total=   0.0s\n",
      "[CV] C=1, gamma=0.1, kernel=rbf ......................................\n",
      "[CV] .......... C=1, gamma=0.1, kernel=rbf, score=0.697, total=   0.0s\n",
      "[CV] C=1, gamma=0.01, kernel=rbf .....................................\n",
      "[CV] ......... C=1, gamma=0.01, kernel=rbf, score=0.756, total=   0.0s\n",
      "[CV] C=1, gamma=0.01, kernel=rbf .....................................\n",
      "[CV] ......... C=1, gamma=0.01, kernel=rbf, score=0.727, total=   0.0s\n",
      "[CV] C=1, gamma=0.01, kernel=rbf .....................................\n",
      "[CV] ......... C=1, gamma=0.01, kernel=rbf, score=0.722, total=   0.0s\n",
      "[CV] C=1, gamma=0.01, kernel=rbf .....................................\n",
      "[CV] ......... C=1, gamma=0.01, kernel=rbf, score=0.749, total=   0.0s\n",
      "[CV] C=1, gamma=0.01, kernel=rbf .....................................\n",
      "[CV] ......... C=1, gamma=0.01, kernel=rbf, score=0.640, total=   0.0s\n",
      "[CV] C=1, gamma=0.001, kernel=rbf ....................................\n",
      "[CV] ........ C=1, gamma=0.001, kernel=rbf, score=0.659, total=   0.0s\n",
      "[CV] C=1, gamma=0.001, kernel=rbf ....................................\n",
      "[CV] ........ C=1, gamma=0.001, kernel=rbf, score=0.670, total=   0.0s\n",
      "[CV] C=1, gamma=0.001, kernel=rbf ....................................\n",
      "[CV] ........ C=1, gamma=0.001, kernel=rbf, score=0.665, total=   0.0s\n",
      "[CV] C=1, gamma=0.001, kernel=rbf ....................................\n",
      "[CV] ........ C=1, gamma=0.001, kernel=rbf, score=0.691, total=   0.0s\n",
      "[CV] C=1, gamma=0.001, kernel=rbf ....................................\n",
      "[CV] ........ C=1, gamma=0.001, kernel=rbf, score=0.623, total=   0.0s\n",
      "[CV] C=1, gamma=0.0001, kernel=rbf ...................................\n",
      "[CV] ....... C=1, gamma=0.0001, kernel=rbf, score=0.642, total=   0.0s\n",
      "[CV] C=1, gamma=0.0001, kernel=rbf ...................................\n",
      "[CV] ....... C=1, gamma=0.0001, kernel=rbf, score=0.631, total=   0.0s\n",
      "[CV] C=1, gamma=0.0001, kernel=rbf ...................................\n",
      "[CV] ....... C=1, gamma=0.0001, kernel=rbf, score=0.625, total=   0.0s\n",
      "[CV] C=1, gamma=0.0001, kernel=rbf ...................................\n",
      "[CV] ....... C=1, gamma=0.0001, kernel=rbf, score=0.600, total=   0.0s\n",
      "[CV] C=1, gamma=0.0001, kernel=rbf ...................................\n",
      "[CV] ....... C=1, gamma=0.0001, kernel=rbf, score=0.623, total=   0.0s\n",
      "[CV] C=10, gamma=1, kernel=rbf .......................................\n",
      "[CV] ........... C=10, gamma=1, kernel=rbf, score=0.784, total=   0.0s\n",
      "[CV] C=10, gamma=1, kernel=rbf .......................................\n",
      "[CV] ........... C=10, gamma=1, kernel=rbf, score=0.801, total=   0.0s\n",
      "[CV] C=10, gamma=1, kernel=rbf .......................................\n",
      "[CV] ........... C=10, gamma=1, kernel=rbf, score=0.818, total=   0.0s\n",
      "[CV] C=10, gamma=1, kernel=rbf .......................................\n",
      "[CV] ........... C=10, gamma=1, kernel=rbf, score=0.823, total=   0.0s\n",
      "[CV] C=10, gamma=1, kernel=rbf .......................................\n",
      "[CV] ........... C=10, gamma=1, kernel=rbf, score=0.731, total=   0.0s\n",
      "[CV] C=10, gamma=0.1, kernel=rbf .....................................\n",
      "[CV] ......... C=10, gamma=0.1, kernel=rbf, score=0.773, total=   0.0s\n",
      "[CV] C=10, gamma=0.1, kernel=rbf .....................................\n",
      "[CV] ......... C=10, gamma=0.1, kernel=rbf, score=0.778, total=   0.0s\n",
      "[CV] C=10, gamma=0.1, kernel=rbf .....................................\n",
      "[CV] ......... C=10, gamma=0.1, kernel=rbf, score=0.790, total=   0.0s\n",
      "[CV] C=10, gamma=0.1, kernel=rbf .....................................\n",
      "[CV] ......... C=10, gamma=0.1, kernel=rbf, score=0.800, total=   0.0s\n",
      "[CV] C=10, gamma=0.1, kernel=rbf .....................................\n",
      "[CV] ......... C=10, gamma=0.1, kernel=rbf, score=0.731, total=   0.0s\n",
      "[CV] C=10, gamma=0.01, kernel=rbf ....................................\n",
      "[CV] ........ C=10, gamma=0.01, kernel=rbf, score=0.790, total=   0.0s\n",
      "[CV] C=10, gamma=0.01, kernel=rbf ....................................\n",
      "[CV] ........ C=10, gamma=0.01, kernel=rbf, score=0.807, total=   0.0s\n",
      "[CV] C=10, gamma=0.01, kernel=rbf ....................................\n",
      "[CV] ........ C=10, gamma=0.01, kernel=rbf, score=0.807, total=   0.0s\n",
      "[CV] C=10, gamma=0.01, kernel=rbf ....................................\n",
      "[CV] ........ C=10, gamma=0.01, kernel=rbf, score=0.829, total=   0.0s\n",
      "[CV] C=10, gamma=0.01, kernel=rbf ....................................\n",
      "[CV] ........ C=10, gamma=0.01, kernel=rbf, score=0.737, total=   0.0s\n",
      "[CV] C=10, gamma=0.001, kernel=rbf ...................................\n",
      "[CV] ....... C=10, gamma=0.001, kernel=rbf, score=0.784, total=   0.0s\n",
      "[CV] C=10, gamma=0.001, kernel=rbf ...................................\n",
      "[CV] ....... C=10, gamma=0.001, kernel=rbf, score=0.812, total=   0.0s\n",
      "[CV] C=10, gamma=0.001, kernel=rbf ...................................\n",
      "[CV] ....... C=10, gamma=0.001, kernel=rbf, score=0.812, total=   0.0s\n",
      "[CV] C=10, gamma=0.001, kernel=rbf ...................................\n",
      "[CV] ....... C=10, gamma=0.001, kernel=rbf, score=0.771, total=   0.0s\n",
      "[CV] C=10, gamma=0.001, kernel=rbf ...................................\n",
      "[CV] ....... C=10, gamma=0.001, kernel=rbf, score=0.714, total=   0.0s\n",
      "[CV] C=10, gamma=0.0001, kernel=rbf ..................................\n",
      "[CV] ...... C=10, gamma=0.0001, kernel=rbf, score=0.682, total=   0.0s\n",
      "[CV] C=10, gamma=0.0001, kernel=rbf ..................................\n",
      "[CV] ...... C=10, gamma=0.0001, kernel=rbf, score=0.676, total=   0.0s\n",
      "[CV] C=10, gamma=0.0001, kernel=rbf ..................................\n",
      "[CV] ...... C=10, gamma=0.0001, kernel=rbf, score=0.693, total=   0.0s\n",
      "[CV] C=10, gamma=0.0001, kernel=rbf ..................................\n",
      "[CV] ...... C=10, gamma=0.0001, kernel=rbf, score=0.680, total=   0.0s\n",
      "[CV] C=10, gamma=0.0001, kernel=rbf ..................................\n"
     ]
    },
    {
     "name": "stdout",
     "output_type": "stream",
     "text": [
      "[CV] ...... C=10, gamma=0.0001, kernel=rbf, score=0.640, total=   0.0s\n",
      "[CV] C=100, gamma=1, kernel=rbf ......................................\n",
      "[CV] .......... C=100, gamma=1, kernel=rbf, score=0.790, total=   0.0s\n",
      "[CV] C=100, gamma=1, kernel=rbf ......................................\n",
      "[CV] .......... C=100, gamma=1, kernel=rbf, score=0.801, total=   0.0s\n",
      "[CV] C=100, gamma=1, kernel=rbf ......................................\n",
      "[CV] .......... C=100, gamma=1, kernel=rbf, score=0.818, total=   0.0s\n",
      "[CV] C=100, gamma=1, kernel=rbf ......................................\n",
      "[CV] .......... C=100, gamma=1, kernel=rbf, score=0.823, total=   0.0s\n",
      "[CV] C=100, gamma=1, kernel=rbf ......................................\n",
      "[CV] .......... C=100, gamma=1, kernel=rbf, score=0.743, total=   0.0s\n",
      "[CV] C=100, gamma=0.1, kernel=rbf ....................................\n",
      "[CV] ........ C=100, gamma=0.1, kernel=rbf, score=0.790, total=   0.0s\n",
      "[CV] C=100, gamma=0.1, kernel=rbf ....................................\n",
      "[CV] ........ C=100, gamma=0.1, kernel=rbf, score=0.784, total=   0.0s\n",
      "[CV] C=100, gamma=0.1, kernel=rbf ....................................\n",
      "[CV] ........ C=100, gamma=0.1, kernel=rbf, score=0.801, total=   0.0s\n",
      "[CV] C=100, gamma=0.1, kernel=rbf ....................................\n",
      "[CV] ........ C=100, gamma=0.1, kernel=rbf, score=0.829, total=   0.0s\n",
      "[CV] C=100, gamma=0.1, kernel=rbf ....................................\n",
      "[CV] ........ C=100, gamma=0.1, kernel=rbf, score=0.760, total=   0.0s\n",
      "[CV] C=100, gamma=0.01, kernel=rbf ...................................\n",
      "[CV] ....... C=100, gamma=0.01, kernel=rbf, score=0.761, total=   0.0s\n",
      "[CV] C=100, gamma=0.01, kernel=rbf ...................................\n",
      "[CV] ....... C=100, gamma=0.01, kernel=rbf, score=0.795, total=   0.0s\n",
      "[CV] C=100, gamma=0.01, kernel=rbf ...................................\n",
      "[CV] ....... C=100, gamma=0.01, kernel=rbf, score=0.790, total=   0.0s\n",
      "[CV] C=100, gamma=0.01, kernel=rbf ...................................\n",
      "[CV] ....... C=100, gamma=0.01, kernel=rbf, score=0.840, total=   0.0s\n",
      "[CV] C=100, gamma=0.01, kernel=rbf ...................................\n",
      "[CV] ....... C=100, gamma=0.01, kernel=rbf, score=0.777, total=   0.1s\n",
      "[CV] C=100, gamma=0.001, kernel=rbf ..................................\n",
      "[CV] ...... C=100, gamma=0.001, kernel=rbf, score=0.824, total=   0.0s\n",
      "[CV] C=100, gamma=0.001, kernel=rbf ..................................\n",
      "[CV] ...... C=100, gamma=0.001, kernel=rbf, score=0.847, total=   0.0s\n",
      "[CV] C=100, gamma=0.001, kernel=rbf ..................................\n",
      "[CV] ...... C=100, gamma=0.001, kernel=rbf, score=0.807, total=   0.0s\n",
      "[CV] C=100, gamma=0.001, kernel=rbf ..................................\n",
      "[CV] ...... C=100, gamma=0.001, kernel=rbf, score=0.811, total=   0.0s\n",
      "[CV] C=100, gamma=0.001, kernel=rbf ..................................\n",
      "[CV] ...... C=100, gamma=0.001, kernel=rbf, score=0.783, total=   0.0s\n",
      "[CV] C=100, gamma=0.0001, kernel=rbf .................................\n",
      "[CV] ..... C=100, gamma=0.0001, kernel=rbf, score=0.801, total=   0.0s\n",
      "[CV] C=100, gamma=0.0001, kernel=rbf .................................\n",
      "[CV] ..... C=100, gamma=0.0001, kernel=rbf, score=0.830, total=   0.0s\n",
      "[CV] C=100, gamma=0.0001, kernel=rbf .................................\n",
      "[CV] ..... C=100, gamma=0.0001, kernel=rbf, score=0.778, total=   0.0s\n",
      "[CV] C=100, gamma=0.0001, kernel=rbf .................................\n",
      "[CV] ..... C=100, gamma=0.0001, kernel=rbf, score=0.783, total=   0.0s\n",
      "[CV] C=100, gamma=0.0001, kernel=rbf .................................\n",
      "[CV] ..... C=100, gamma=0.0001, kernel=rbf, score=0.771, total=   0.0s\n",
      "[CV] C=1000, gamma=1, kernel=rbf .....................................\n",
      "[CV] ......... C=1000, gamma=1, kernel=rbf, score=0.795, total=   0.0s\n",
      "[CV] C=1000, gamma=1, kernel=rbf .....................................\n",
      "[CV] ......... C=1000, gamma=1, kernel=rbf, score=0.807, total=   0.0s\n",
      "[CV] C=1000, gamma=1, kernel=rbf .....................................\n",
      "[CV] ......... C=1000, gamma=1, kernel=rbf, score=0.818, total=   0.0s\n",
      "[CV] C=1000, gamma=1, kernel=rbf .....................................\n",
      "[CV] ......... C=1000, gamma=1, kernel=rbf, score=0.829, total=   0.0s\n",
      "[CV] C=1000, gamma=1, kernel=rbf .....................................\n",
      "[CV] ......... C=1000, gamma=1, kernel=rbf, score=0.783, total=   0.0s\n",
      "[CV] C=1000, gamma=0.1, kernel=rbf ...................................\n",
      "[CV] ....... C=1000, gamma=0.1, kernel=rbf, score=0.784, total=   0.1s\n",
      "[CV] C=1000, gamma=0.1, kernel=rbf ...................................\n",
      "[CV] ....... C=1000, gamma=0.1, kernel=rbf, score=0.773, total=   0.1s\n",
      "[CV] C=1000, gamma=0.1, kernel=rbf ...................................\n",
      "[CV] ....... C=1000, gamma=0.1, kernel=rbf, score=0.761, total=   0.0s\n",
      "[CV] C=1000, gamma=0.1, kernel=rbf ...................................\n",
      "[CV] ....... C=1000, gamma=0.1, kernel=rbf, score=0.857, total=   0.0s\n",
      "[CV] C=1000, gamma=0.1, kernel=rbf ...................................\n",
      "[CV] ....... C=1000, gamma=0.1, kernel=rbf, score=0.709, total=   0.1s\n",
      "[CV] C=1000, gamma=0.01, kernel=rbf ..................................\n",
      "[CV] ...... C=1000, gamma=0.01, kernel=rbf, score=0.739, total=   0.1s\n",
      "[CV] C=1000, gamma=0.01, kernel=rbf ..................................\n",
      "[CV] ...... C=1000, gamma=0.01, kernel=rbf, score=0.812, total=   0.1s\n",
      "[CV] C=1000, gamma=0.01, kernel=rbf ..................................\n",
      "[CV] ...... C=1000, gamma=0.01, kernel=rbf, score=0.795, total=   0.1s\n",
      "[CV] C=1000, gamma=0.01, kernel=rbf ..................................\n",
      "[CV] ...... C=1000, gamma=0.01, kernel=rbf, score=0.829, total=   0.1s\n",
      "[CV] C=1000, gamma=0.01, kernel=rbf ..................................\n",
      "[CV] ...... C=1000, gamma=0.01, kernel=rbf, score=0.777, total=   0.2s\n",
      "[CV] C=1000, gamma=0.001, kernel=rbf .................................\n",
      "[CV] ..... C=1000, gamma=0.001, kernel=rbf, score=0.835, total=   0.1s\n",
      "[CV] C=1000, gamma=0.001, kernel=rbf .................................\n",
      "[CV] ..... C=1000, gamma=0.001, kernel=rbf, score=0.852, total=   0.1s\n",
      "[CV] C=1000, gamma=0.001, kernel=rbf .................................\n",
      "[CV] ..... C=1000, gamma=0.001, kernel=rbf, score=0.830, total=   0.2s\n",
      "[CV] C=1000, gamma=0.001, kernel=rbf .................................\n",
      "[CV] ..... C=1000, gamma=0.001, kernel=rbf, score=0.834, total=   0.1s\n",
      "[CV] C=1000, gamma=0.001, kernel=rbf .................................\n",
      "[CV] ..... C=1000, gamma=0.001, kernel=rbf, score=0.794, total=   0.1s\n",
      "[CV] C=1000, gamma=0.0001, kernel=rbf ................................\n",
      "[CV] .... C=1000, gamma=0.0001, kernel=rbf, score=0.818, total=   0.1s\n",
      "[CV] C=1000, gamma=0.0001, kernel=rbf ................................\n",
      "[CV] .... C=1000, gamma=0.0001, kernel=rbf, score=0.807, total=   0.1s\n",
      "[CV] C=1000, gamma=0.0001, kernel=rbf ................................\n",
      "[CV] .... C=1000, gamma=0.0001, kernel=rbf, score=0.761, total=   0.1s\n",
      "[CV] C=1000, gamma=0.0001, kernel=rbf ................................\n",
      "[CV] .... C=1000, gamma=0.0001, kernel=rbf, score=0.829, total=   0.1s\n",
      "[CV] C=1000, gamma=0.0001, kernel=rbf ................................\n",
      "[CV] .... C=1000, gamma=0.0001, kernel=rbf, score=0.783, total=   0.1s\n"
     ]
    },
    {
     "name": "stderr",
     "output_type": "stream",
     "text": [
      "[Parallel(n_jobs=1)]: Done 125 out of 125 | elapsed:    4.3s finished\n"
     ]
    },
    {
     "data": {
      "text/plain": [
       "GridSearchCV(estimator=SVC(),\n",
       "             param_grid={'C': [0.1, 1, 10, 100, 1000],\n",
       "                         'gamma': [1, 0.1, 0.01, 0.001, 0.0001],\n",
       "                         'kernel': ['rbf']},\n",
       "             verbose=4)"
      ]
     },
     "execution_count": 64,
     "metadata": {},
     "output_type": "execute_result"
    }
   ],
   "source": [
    "grid.fit(X_train,y_train)"
   ]
  },
  {
   "cell_type": "code",
   "execution_count": 65,
   "metadata": {},
   "outputs": [
    {
     "data": {
      "text/plain": [
       "{'C': 1000, 'gamma': 0.001, 'kernel': 'rbf'}"
      ]
     },
     "execution_count": 65,
     "metadata": {},
     "output_type": "execute_result"
    }
   ],
   "source": [
    "grid.best_params_"
   ]
  },
  {
   "cell_type": "code",
   "execution_count": 66,
   "metadata": {},
   "outputs": [
    {
     "data": {
      "text/plain": [
       "SVC(C=1000, gamma=0.001)"
      ]
     },
     "execution_count": 66,
     "metadata": {},
     "output_type": "execute_result"
    }
   ],
   "source": [
    "grid.best_estimator_"
   ]
  },
  {
   "cell_type": "code",
   "execution_count": null,
   "metadata": {},
   "outputs": [],
   "source": []
  },
  {
   "cell_type": "code",
   "execution_count": null,
   "metadata": {},
   "outputs": [],
   "source": []
  },
  {
   "cell_type": "code",
   "execution_count": 67,
   "metadata": {},
   "outputs": [],
   "source": [
    "from sklearn.linear_model import LogisticRegression\n",
    "from sklearn.tree import DecisionTreeClassifier\n",
    "from sklearn.ensemble import RandomForestClassifier, AdaBoostClassifier, GradientBoostingClassifier, BaggingClassifier\n",
    "from sklearn.metrics import classification_report, roc_auc_score, roc_curve"
   ]
  },
  {
   "cell_type": "code",
   "execution_count": 79,
   "metadata": {},
   "outputs": [],
   "source": [
    "logreg=LogisticRegression(C=1000, tol=0.001,  max_iter=1000 )\n",
    "dtree=DecisionTreeClassifier()\n",
    "rnd_clf=RandomForestClassifier(n_estimators=400)\n",
    "ada=AdaBoostClassifier()\n",
    "gradB=GradientBoostingClassifier()\n",
    "Bag=BaggingClassifier()"
   ]
  },
  {
   "cell_type": "code",
   "execution_count": 80,
   "metadata": {},
   "outputs": [
    {
     "data": {
      "text/plain": [
       "LogisticRegression(C=1000, max_iter=1000, tol=0.001)"
      ]
     },
     "execution_count": 80,
     "metadata": {},
     "output_type": "execute_result"
    }
   ],
   "source": [
    "logreg.fit(X_train,y_train)"
   ]
  },
  {
   "cell_type": "code",
   "execution_count": 81,
   "metadata": {},
   "outputs": [],
   "source": [
    "y_pred=logreg.predict(X_test)"
   ]
  },
  {
   "cell_type": "code",
   "execution_count": 82,
   "metadata": {},
   "outputs": [
    {
     "name": "stdout",
     "output_type": "stream",
     "text": [
      "              precision    recall  f1-score   support\n",
      "\n",
      "           0       0.80      0.72      0.76       112\n",
      "           1       0.74      0.81      0.78       108\n",
      "\n",
      "    accuracy                           0.77       220\n",
      "   macro avg       0.77      0.77      0.77       220\n",
      "weighted avg       0.77      0.77      0.77       220\n",
      "\n"
     ]
    }
   ],
   "source": [
    "print(classification_report(y_test,y_pred))"
   ]
  },
  {
   "cell_type": "code",
   "execution_count": 83,
   "metadata": {},
   "outputs": [
    {
     "name": "stdout",
     "output_type": "stream",
     "text": [
      "The classification report for DecisionTreeClassifier() is: \n",
      "\n",
      "              precision    recall  f1-score   support\n",
      "\n",
      "           0       0.89      0.78      0.83       112\n",
      "           1       0.80      0.90      0.84       108\n",
      "\n",
      "    accuracy                           0.84       220\n",
      "   macro avg       0.84      0.84      0.84       220\n",
      "weighted avg       0.84      0.84      0.84       220\n",
      "\n",
      "============================================================\n",
      "The classification report for RandomForestClassifier(n_estimators=400) is: \n",
      "\n",
      "              precision    recall  f1-score   support\n",
      "\n",
      "           0       0.87      0.79      0.83       112\n",
      "           1       0.80      0.88      0.84       108\n",
      "\n",
      "    accuracy                           0.83       220\n",
      "   macro avg       0.83      0.83      0.83       220\n",
      "weighted avg       0.84      0.83      0.83       220\n",
      "\n",
      "============================================================\n",
      "The classification report for AdaBoostClassifier() is: \n",
      "\n",
      "              precision    recall  f1-score   support\n",
      "\n",
      "           0       0.79      0.80      0.80       112\n",
      "           1       0.79      0.78      0.79       108\n",
      "\n",
      "    accuracy                           0.79       220\n",
      "   macro avg       0.79      0.79      0.79       220\n",
      "weighted avg       0.79      0.79      0.79       220\n",
      "\n",
      "============================================================\n",
      "The classification report for GradientBoostingClassifier() is: \n",
      "\n",
      "              precision    recall  f1-score   support\n",
      "\n",
      "           0       0.82      0.82      0.82       112\n",
      "           1       0.81      0.81      0.81       108\n",
      "\n",
      "    accuracy                           0.82       220\n",
      "   macro avg       0.82      0.82      0.82       220\n",
      "weighted avg       0.82      0.82      0.82       220\n",
      "\n",
      "============================================================\n",
      "The classification report for BaggingClassifier() is: \n",
      "\n",
      "              precision    recall  f1-score   support\n",
      "\n",
      "           0       0.92      0.79      0.85       112\n",
      "           1       0.81      0.93      0.86       108\n",
      "\n",
      "    accuracy                           0.85       220\n",
      "   macro avg       0.86      0.86      0.85       220\n",
      "weighted avg       0.86      0.85      0.85       220\n",
      "\n",
      "============================================================\n"
     ]
    }
   ],
   "source": [
    "classifiers=[dtree,rnd_clf,ada,gradB,Bag]\n",
    "for i in classifiers:\n",
    "    i.fit(X_train,y_train)\n",
    "    Y_pred = i.predict(X_test)\n",
    "    print(\"The classification report for {} is: \\n\".format(i))\n",
    "    print(classification_report(y_test,Y_pred))\n",
    "    print('='*60)"
   ]
  },
  {
   "cell_type": "code",
   "execution_count": 84,
   "metadata": {},
   "outputs": [
    {
     "data": {
      "text/html": [
       "<div>\n",
       "<style scoped>\n",
       "    .dataframe tbody tr th:only-of-type {\n",
       "        vertical-align: middle;\n",
       "    }\n",
       "\n",
       "    .dataframe tbody tr th {\n",
       "        vertical-align: top;\n",
       "    }\n",
       "\n",
       "    .dataframe thead th {\n",
       "        text-align: right;\n",
       "    }\n",
       "</style>\n",
       "<table border=\"1\" class=\"dataframe\">\n",
       "  <thead>\n",
       "    <tr style=\"text-align: right;\">\n",
       "      <th></th>\n",
       "      <th>fpr</th>\n",
       "      <th>tpr</th>\n",
       "      <th>auc</th>\n",
       "    </tr>\n",
       "    <tr>\n",
       "      <th>classifiers</th>\n",
       "      <th></th>\n",
       "      <th></th>\n",
       "      <th></th>\n",
       "    </tr>\n",
       "  </thead>\n",
       "  <tbody>\n",
       "    <tr>\n",
       "      <th>DecisionTreeClassifier</th>\n",
       "      <td>[0.0, 0.17857142857142858, 0.1875, 0.205357142...</td>\n",
       "      <td>[0.0, 0.8611111111111112, 0.8703703703703703, ...</td>\n",
       "      <td>0.862434</td>\n",
       "    </tr>\n",
       "    <tr>\n",
       "      <th>RandomForestClassifier</th>\n",
       "      <td>[0.0, 0.0, 0.0, 0.0, 0.0, 0.008928571428571428...</td>\n",
       "      <td>[0.0, 0.1574074074074074, 0.16666666666666666,...</td>\n",
       "      <td>0.936632</td>\n",
       "    </tr>\n",
       "    <tr>\n",
       "      <th>AdaBoostClassifier</th>\n",
       "      <td>[0.0, 0.0, 0.0, 0.0, 0.0, 0.0, 0.0, 0.0, 0.0, ...</td>\n",
       "      <td>[0.0, 0.009259259259259259, 0.0277777777777777...</td>\n",
       "      <td>0.877356</td>\n",
       "    </tr>\n",
       "    <tr>\n",
       "      <th>GradientBoostingClassifier</th>\n",
       "      <td>[0.0, 0.0, 0.0, 0.0, 0.0, 0.0, 0.0, 0.0, 0.0, ...</td>\n",
       "      <td>[0.0, 0.037037037037037035, 0.0555555555555555...</td>\n",
       "      <td>0.915013</td>\n",
       "    </tr>\n",
       "    <tr>\n",
       "      <th>BaggingClassifier</th>\n",
       "      <td>[0.0, 0.03571428571428571, 0.03571428571428571...</td>\n",
       "      <td>[0.0, 0.5648148148148148, 0.5740740740740741, ...</td>\n",
       "      <td>0.918072</td>\n",
       "    </tr>\n",
       "  </tbody>\n",
       "</table>\n",
       "</div>"
      ],
      "text/plain": [
       "                                                                          fpr  \\\n",
       "classifiers                                                                     \n",
       "DecisionTreeClassifier      [0.0, 0.17857142857142858, 0.1875, 0.205357142...   \n",
       "RandomForestClassifier      [0.0, 0.0, 0.0, 0.0, 0.0, 0.008928571428571428...   \n",
       "AdaBoostClassifier          [0.0, 0.0, 0.0, 0.0, 0.0, 0.0, 0.0, 0.0, 0.0, ...   \n",
       "GradientBoostingClassifier  [0.0, 0.0, 0.0, 0.0, 0.0, 0.0, 0.0, 0.0, 0.0, ...   \n",
       "BaggingClassifier           [0.0, 0.03571428571428571, 0.03571428571428571...   \n",
       "\n",
       "                                                                          tpr  \\\n",
       "classifiers                                                                     \n",
       "DecisionTreeClassifier      [0.0, 0.8611111111111112, 0.8703703703703703, ...   \n",
       "RandomForestClassifier      [0.0, 0.1574074074074074, 0.16666666666666666,...   \n",
       "AdaBoostClassifier          [0.0, 0.009259259259259259, 0.0277777777777777...   \n",
       "GradientBoostingClassifier  [0.0, 0.037037037037037035, 0.0555555555555555...   \n",
       "BaggingClassifier           [0.0, 0.5648148148148148, 0.5740740740740741, ...   \n",
       "\n",
       "                                 auc  \n",
       "classifiers                           \n",
       "DecisionTreeClassifier      0.862434  \n",
       "RandomForestClassifier      0.936632  \n",
       "AdaBoostClassifier          0.877356  \n",
       "GradientBoostingClassifier  0.915013  \n",
       "BaggingClassifier           0.918072  "
      ]
     },
     "execution_count": 84,
     "metadata": {},
     "output_type": "execute_result"
    }
   ],
   "source": [
    "result_table = pd.DataFrame(columns=['classifiers', 'fpr','tpr','auc'])\n",
    "classifiers=[dtree,rnd_clf,ada,gradB,Bag]\n",
    "\n",
    "for cls in classifiers:\n",
    "    model = cls.fit(X_train, y_train)\n",
    "    yproba = model.predict_proba(X_test)[::,1]\n",
    "    \n",
    "    fpr, tpr, _ = roc_curve(y_test,  yproba)\n",
    "    auc = roc_auc_score(y_test, yproba)\n",
    "    \n",
    "    result_table = result_table.append({'classifiers':cls.__class__.__name__,\n",
    "                                        'fpr':fpr, \n",
    "                                        'tpr':tpr, \n",
    "                                        'auc':auc}, ignore_index=True)\n",
    "\n",
    "    \n",
    "# Set name of the classifiers as index labels\n",
    "result_table.set_index('classifiers', inplace=True)\n",
    "result_table"
   ]
  },
  {
   "cell_type": "code",
   "execution_count": 74,
   "metadata": {},
   "outputs": [
    {
     "data": {
      "image/png": "[encoded data removed]",
      "text/plain": [
       "<Figure size 720x720 with 1 Axes>"
      ]
     },
     "metadata": {
      "needs_background": "light"
     },
     "output_type": "display_data"
    }
   ],
   "source": [
    "fig = plt.figure(figsize=(10,10))\n",
    "\n",
    "for i in result_table.index:\n",
    "    plt.plot(result_table.loc[i]['fpr'], \n",
    "             result_table.loc[i]['tpr'], \n",
    "             label=\"{}, AUC={:.3f}\".format(i, result_table.loc[i]['auc']));\n",
    "    \n",
    "plt.plot([0,1], [0,1], color='orange', linestyle='--');\n",
    "\n",
    "plt.xticks(np.arange(0.0, 1.1, step=0.1));\n",
    "plt.xlabel(\"False Positive Rate\", fontsize=15);\n",
    "\n",
    "plt.yticks(np.arange(0.0, 1.1, step=0.1));\n",
    "plt.ylabel(\"True Positive Rate\", fontsize=15);\n",
    "\n",
    "plt.title('ROC Curve Analysis', fontweight='bold', fontsize=15);\n",
    "plt.legend(prop={'size':13}, loc='lower right');"
   ]
  },
  {
   "cell_type": "markdown",
   "metadata": {},
   "source": [
    "Since random forest has the highest ROC_AUC score, we\n",
    "will use it for our model prediction"
   ]
  },
  {
   "cell_type": "code",
   "execution_count": 75,
   "metadata": {},
   "outputs": [],
   "source": [
    "y_pred_rnd=rnd_clf.predict(test)"
   ]
  },
  {
   "cell_type": "code",
   "execution_count": 76,
   "metadata": {},
   "outputs": [
    {
     "data": {
      "text/html": [
       "<div>\n",
       "<style scoped>\n",
       "    .dataframe tbody tr th:only-of-type {\n",
       "        vertical-align: middle;\n",
       "    }\n",
       "\n",
       "    .dataframe tbody tr th {\n",
       "        vertical-align: top;\n",
       "    }\n",
       "\n",
       "    .dataframe thead th {\n",
       "        text-align: right;\n",
       "    }\n",
       "</style>\n",
       "<table border=\"1\" class=\"dataframe\">\n",
       "  <thead>\n",
       "    <tr style=\"text-align: right;\">\n",
       "      <th></th>\n",
       "      <th>PassengerId</th>\n",
       "      <th>Pclass</th>\n",
       "      <th>Name</th>\n",
       "      <th>Sex</th>\n",
       "      <th>Age</th>\n",
       "      <th>SibSp</th>\n",
       "      <th>Parch</th>\n",
       "      <th>Ticket</th>\n",
       "      <th>Fare</th>\n",
       "      <th>Cabin</th>\n",
       "      <th>Embarked</th>\n",
       "    </tr>\n",
       "  </thead>\n",
       "  <tbody>\n",
       "    <tr>\n",
       "      <th>0</th>\n",
       "      <td>892</td>\n",
       "      <td>3</td>\n",
       "      <td>Kelly, Mr. James</td>\n",
       "      <td>male</td>\n",
       "      <td>34.5</td>\n",
       "      <td>0</td>\n",
       "      <td>0</td>\n",
       "      <td>330911</td>\n",
       "      <td>7.8292</td>\n",
       "      <td>NaN</td>\n",
       "      <td>Q</td>\n",
       "    </tr>\n",
       "    <tr>\n",
       "      <th>1</th>\n",
       "      <td>893</td>\n",
       "      <td>3</td>\n",
       "      <td>Wilkes, Mrs. James (Ellen Needs)</td>\n",
       "      <td>female</td>\n",
       "      <td>47.0</td>\n",
       "      <td>1</td>\n",
       "      <td>0</td>\n",
       "      <td>363272</td>\n",
       "      <td>7.0000</td>\n",
       "      <td>NaN</td>\n",
       "      <td>S</td>\n",
       "    </tr>\n",
       "    <tr>\n",
       "      <th>2</th>\n",
       "      <td>894</td>\n",
       "      <td>2</td>\n",
       "      <td>Myles, Mr. Thomas Francis</td>\n",
       "      <td>male</td>\n",
       "      <td>62.0</td>\n",
       "      <td>0</td>\n",
       "      <td>0</td>\n",
       "      <td>240276</td>\n",
       "      <td>9.6875</td>\n",
       "      <td>NaN</td>\n",
       "      <td>Q</td>\n",
       "    </tr>\n",
       "    <tr>\n",
       "      <th>3</th>\n",
       "      <td>895</td>\n",
       "      <td>3</td>\n",
       "      <td>Wirz, Mr. Albert</td>\n",
       "      <td>male</td>\n",
       "      <td>27.0</td>\n",
       "      <td>0</td>\n",
       "      <td>0</td>\n",
       "      <td>315154</td>\n",
       "      <td>8.6625</td>\n",
       "      <td>NaN</td>\n",
       "      <td>S</td>\n",
       "    </tr>\n",
       "    <tr>\n",
       "      <th>4</th>\n",
       "      <td>896</td>\n",
       "      <td>3</td>\n",
       "      <td>Hirvonen, Mrs. Alexander (Helga E Lindqvist)</td>\n",
       "      <td>female</td>\n",
       "      <td>22.0</td>\n",
       "      <td>1</td>\n",
       "      <td>1</td>\n",
       "      <td>3101298</td>\n",
       "      <td>12.2875</td>\n",
       "      <td>NaN</td>\n",
       "      <td>S</td>\n",
       "    </tr>\n",
       "  </tbody>\n",
       "</table>\n",
       "</div>"
      ],
      "text/plain": [
       "   PassengerId  Pclass                                          Name     Sex  \\\n",
       "0          892       3                              Kelly, Mr. James    male   \n",
       "1          893       3              Wilkes, Mrs. James (Ellen Needs)  female   \n",
       "2          894       2                     Myles, Mr. Thomas Francis    male   \n",
       "3          895       3                              Wirz, Mr. Albert    male   \n",
       "4          896       3  Hirvonen, Mrs. Alexander (Helga E Lindqvist)  female   \n",
       "\n",
       "    Age  SibSp  Parch   Ticket     Fare Cabin Embarked  \n",
       "0  34.5      0      0   330911   7.8292   NaN        Q  \n",
       "1  47.0      1      0   363272   7.0000   NaN        S  \n",
       "2  62.0      0      0   240276   9.6875   NaN        Q  \n",
       "3  27.0      0      0   315154   8.6625   NaN        S  \n",
       "4  22.0      1      1  3101298  12.2875   NaN        S  "
      ]
     },
     "execution_count": 76,
     "metadata": {},
     "output_type": "execute_result"
    }
   ],
   "source": [
    "test_df=pd.read_csv('test.csv')\n",
    "test_df.head()"
   ]
  },
  {
   "cell_type": "code",
   "execution_count": 77,
   "metadata": {},
   "outputs": [
    {
     "data": {
      "text/html": [
       "<div>\n",
       "<style scoped>\n",
       "    .dataframe tbody tr th:only-of-type {\n",
       "        vertical-align: middle;\n",
       "    }\n",
       "\n",
       "    .dataframe tbody tr th {\n",
       "        vertical-align: top;\n",
       "    }\n",
       "\n",
       "    .dataframe thead th {\n",
       "        text-align: right;\n",
       "    }\n",
       "</style>\n",
       "<table border=\"1\" class=\"dataframe\">\n",
       "  <thead>\n",
       "    <tr style=\"text-align: right;\">\n",
       "      <th></th>\n",
       "      <th>PassengerId</th>\n",
       "      <th>Survived</th>\n",
       "    </tr>\n",
       "  </thead>\n",
       "  <tbody>\n",
       "    <tr>\n",
       "      <th>0</th>\n",
       "      <td>892</td>\n",
       "      <td>0</td>\n",
       "    </tr>\n",
       "    <tr>\n",
       "      <th>1</th>\n",
       "      <td>893</td>\n",
       "      <td>0</td>\n",
       "    </tr>\n",
       "    <tr>\n",
       "      <th>2</th>\n",
       "      <td>894</td>\n",
       "      <td>0</td>\n",
       "    </tr>\n",
       "    <tr>\n",
       "      <th>3</th>\n",
       "      <td>895</td>\n",
       "      <td>1</td>\n",
       "    </tr>\n",
       "    <tr>\n",
       "      <th>4</th>\n",
       "      <td>896</td>\n",
       "      <td>1</td>\n",
       "    </tr>\n",
       "  </tbody>\n",
       "</table>\n",
       "</div>"
      ],
      "text/plain": [
       "   PassengerId  Survived\n",
       "0          892         0\n",
       "1          893         0\n",
       "2          894         0\n",
       "3          895         1\n",
       "4          896         1"
      ]
     },
     "execution_count": 77,
     "metadata": {},
     "output_type": "execute_result"
    }
   ],
   "source": [
    "submission_titanic=pd.DataFrame()\n",
    "ID=test_df['PassengerId']\n",
    "submission_titanic['PassengerId']=ID\n",
    "submission_titanic['Survived']=y_pred_rnd\n",
    "submission_titanic.head()"
   ]
  },
  {
   "cell_type": "code",
   "execution_count": 78,
   "metadata": {},
   "outputs": [],
   "source": [
    "submission_titanic.to_csv('Submission_titanic.csv', index=False)"
   ]
  },
  {
   "cell_type": "markdown",
   "metadata": {},
   "source": [
    "Lets upsample using SMOTE"
   ]
  },
  {
   "cell_type": "code",
   "execution_count": 85,
   "metadata": {},
   "outputs": [],
   "source": [
    "from imblearn.over_sampling import SMOTE"
   ]
  },
  {
   "cell_type": "code",
   "execution_count": 86,
   "metadata": {},
   "outputs": [],
   "source": [
    "smote=SMOTE(sampling_strategy='minority')\n"
   ]
  },
  {
   "cell_type": "code",
   "execution_count": 88,
   "metadata": {},
   "outputs": [],
   "source": [
    "X_new=train.drop(['Survived'],1)\n",
    "y_new=train['Survived']"
   ]
  },
  {
   "cell_type": "code",
   "execution_count": 89,
   "metadata": {},
   "outputs": [],
   "source": [
    "X_sm,y_sm=smote.fit_sample(X_new,y_new)"
   ]
  },
  {
   "cell_type": "code",
   "execution_count": 90,
   "metadata": {},
   "outputs": [
    {
     "data": {
      "text/plain": [
       "1    549\n",
       "0    549\n",
       "Name: Survived, dtype: int64"
      ]
     },
     "execution_count": 90,
     "metadata": {},
     "output_type": "execute_result"
    }
   ],
   "source": [
    "y_sm.value_counts()"
   ]
  },
  {
   "cell_type": "code",
   "execution_count": 91,
   "metadata": {},
   "outputs": [],
   "source": [
    "from sklearn.model_selection import train_test_split"
   ]
  },
  {
   "cell_type": "code",
   "execution_count": 92,
   "metadata": {},
   "outputs": [],
   "source": [
    "X_train, X_test, y_train, y_test = train_test_split(X_sm, y_sm, test_size=0.2, random_state=33, stratify=y_sm)"
   ]
  },
  {
   "cell_type": "code",
   "execution_count": 93,
   "metadata": {},
   "outputs": [],
   "source": [
    "from sklearn.model_selection import GridSearchCV\n",
    "from sklearn.svm import SVC"
   ]
  },
  {
   "cell_type": "code",
   "execution_count": 94,
   "metadata": {},
   "outputs": [],
   "source": [
    "param_grid = {'C': [0.1,1, 10, 100, 1000], 'gamma': [1,0.1,0.01,0.001,0.0001], 'kernel': ['rbf']} \n",
    "grid = GridSearchCV(SVC(),param_grid,refit=True,verbose=4)"
   ]
  },
  {
   "cell_type": "code",
   "execution_count": 95,
   "metadata": {},
   "outputs": [
    {
     "name": "stdout",
     "output_type": "stream",
     "text": [
      "Fitting 5 folds for each of 25 candidates, totalling 125 fits\n",
      "[CV] C=0.1, gamma=1, kernel=rbf ......................................\n",
      "[CV] .......... C=0.1, gamma=1, kernel=rbf, score=0.534, total=   0.0s\n",
      "[CV] C=0.1, gamma=1, kernel=rbf ......................................\n",
      "[CV] .......... C=0.1, gamma=1, kernel=rbf, score=0.591, total=   0.0s\n",
      "[CV] C=0.1, gamma=1, kernel=rbf ......................................\n",
      "[CV] .......... C=0.1, gamma=1, kernel=rbf, score=0.591, total=   0.0s\n",
      "[CV] C=0.1, gamma=1, kernel=rbf ......................................\n",
      "[CV] .......... C=0.1, gamma=1, kernel=rbf, score=0.543, total=   0.0s\n",
      "[CV] C=0.1, gamma=1, kernel=rbf ......................................\n",
      "[CV] .......... C=0.1, gamma=1, kernel=rbf, score=0.571, total=   0.0s\n",
      "[CV] C=0.1, gamma=0.1, kernel=rbf ....................................\n",
      "[CV] ........ C=0.1, gamma=0.1, kernel=rbf, score=0.659, total=   0.0s\n",
      "[CV] C=0.1, gamma=0.1, kernel=rbf ....................................\n",
      "[CV] ........ C=0.1, gamma=0.1, kernel=rbf, score=0.636, total=   0.0s\n",
      "[CV] C=0.1, gamma=0.1, kernel=rbf ....................................\n",
      "[CV] ........ C=0.1, gamma=0.1, kernel=rbf, score=0.688, total=   0.0s\n",
      "[CV] C=0.1, gamma=0.1, kernel=rbf ....................................\n",
      "[CV] ........ C=0.1, gamma=0.1, kernel=rbf, score=0.537, total=   0.0s\n",
      "[CV] C=0.1, gamma=0.1, kernel=rbf ....................................\n"
     ]
    },
    {
     "name": "stderr",
     "output_type": "stream",
     "text": [
      "[Parallel(n_jobs=1)]: Using backend SequentialBackend with 1 concurrent workers.\n",
      "[Parallel(n_jobs=1)]: Done   1 out of   1 | elapsed:    0.0s remaining:    0.0s\n",
      "[Parallel(n_jobs=1)]: Done   2 out of   2 | elapsed:    0.1s remaining:    0.0s\n",
      "[Parallel(n_jobs=1)]: Done   3 out of   3 | elapsed:    0.1s remaining:    0.0s\n"
     ]
    },
    {
     "name": "stdout",
     "output_type": "stream",
     "text": [
      "[CV] ........ C=0.1, gamma=0.1, kernel=rbf, score=0.606, total=   0.0s\n",
      "[CV] C=0.1, gamma=0.01, kernel=rbf ...................................\n",
      "[CV] ....... C=0.1, gamma=0.01, kernel=rbf, score=0.699, total=   0.0s\n",
      "[CV] C=0.1, gamma=0.01, kernel=rbf ...................................\n",
      "[CV] ....... C=0.1, gamma=0.01, kernel=rbf, score=0.636, total=   0.0s\n",
      "[CV] C=0.1, gamma=0.01, kernel=rbf ...................................\n",
      "[CV] ....... C=0.1, gamma=0.01, kernel=rbf, score=0.710, total=   0.0s\n",
      "[CV] C=0.1, gamma=0.01, kernel=rbf ...................................\n",
      "[CV] ....... C=0.1, gamma=0.01, kernel=rbf, score=0.623, total=   0.0s\n",
      "[CV] C=0.1, gamma=0.01, kernel=rbf ...................................\n",
      "[CV] ....... C=0.1, gamma=0.01, kernel=rbf, score=0.611, total=   0.0s\n",
      "[CV] C=0.1, gamma=0.001, kernel=rbf ..................................\n",
      "[CV] ...... C=0.1, gamma=0.001, kernel=rbf, score=0.699, total=   0.0s\n",
      "[CV] C=0.1, gamma=0.001, kernel=rbf ..................................\n",
      "[CV] ...... C=0.1, gamma=0.001, kernel=rbf, score=0.631, total=   0.0s\n",
      "[CV] C=0.1, gamma=0.001, kernel=rbf ..................................\n",
      "[CV] ...... C=0.1, gamma=0.001, kernel=rbf, score=0.722, total=   0.0s\n",
      "[CV] C=0.1, gamma=0.001, kernel=rbf ..................................\n",
      "[CV] ...... C=0.1, gamma=0.001, kernel=rbf, score=0.640, total=   0.0s\n",
      "[CV] C=0.1, gamma=0.001, kernel=rbf ..................................\n",
      "[CV] ...... C=0.1, gamma=0.001, kernel=rbf, score=0.623, total=   0.0s\n",
      "[CV] C=0.1, gamma=0.0001, kernel=rbf .................................\n",
      "[CV] ..... C=0.1, gamma=0.0001, kernel=rbf, score=0.642, total=   0.0s\n",
      "[CV] C=0.1, gamma=0.0001, kernel=rbf .................................\n",
      "[CV] ..... C=0.1, gamma=0.0001, kernel=rbf, score=0.562, total=   0.0s\n",
      "[CV] C=0.1, gamma=0.0001, kernel=rbf .................................\n",
      "[CV] ..... C=0.1, gamma=0.0001, kernel=rbf, score=0.653, total=   0.0s\n",
      "[CV] C=0.1, gamma=0.0001, kernel=rbf .................................\n",
      "[CV] ..... C=0.1, gamma=0.0001, kernel=rbf, score=0.594, total=   0.0s\n",
      "[CV] C=0.1, gamma=0.0001, kernel=rbf .................................\n",
      "[CV] ..... C=0.1, gamma=0.0001, kernel=rbf, score=0.583, total=   0.0s\n",
      "[CV] C=1, gamma=1, kernel=rbf ........................................\n",
      "[CV] ............ C=1, gamma=1, kernel=rbf, score=0.756, total=   0.0s\n",
      "[CV] C=1, gamma=1, kernel=rbf ........................................\n",
      "[CV] ............ C=1, gamma=1, kernel=rbf, score=0.727, total=   0.0s\n",
      "[CV] C=1, gamma=1, kernel=rbf ........................................\n",
      "[CV] ............ C=1, gamma=1, kernel=rbf, score=0.784, total=   0.0s\n",
      "[CV] C=1, gamma=1, kernel=rbf ........................................\n",
      "[CV] ............ C=1, gamma=1, kernel=rbf, score=0.703, total=   0.0s\n",
      "[CV] C=1, gamma=1, kernel=rbf ........................................\n",
      "[CV] ............ C=1, gamma=1, kernel=rbf, score=0.720, total=   0.0s\n",
      "[CV] C=1, gamma=0.1, kernel=rbf ......................................\n",
      "[CV] .......... C=1, gamma=0.1, kernel=rbf, score=0.801, total=   0.0s\n",
      "[CV] C=1, gamma=0.1, kernel=rbf ......................................\n",
      "[CV] .......... C=1, gamma=0.1, kernel=rbf, score=0.750, total=   0.0s\n",
      "[CV] C=1, gamma=0.1, kernel=rbf ......................................\n",
      "[CV] .......... C=1, gamma=0.1, kernel=rbf, score=0.773, total=   0.0s\n",
      "[CV] C=1, gamma=0.1, kernel=rbf ......................................\n",
      "[CV] .......... C=1, gamma=0.1, kernel=rbf, score=0.754, total=   0.0s\n",
      "[CV] C=1, gamma=0.1, kernel=rbf ......................................\n",
      "[CV] .......... C=1, gamma=0.1, kernel=rbf, score=0.749, total=   0.0s\n",
      "[CV] C=1, gamma=0.01, kernel=rbf .....................................\n",
      "[CV] ......... C=1, gamma=0.01, kernel=rbf, score=0.778, total=   0.0s\n",
      "[CV] C=1, gamma=0.01, kernel=rbf .....................................\n",
      "[CV] ......... C=1, gamma=0.01, kernel=rbf, score=0.722, total=   0.0s\n",
      "[CV] C=1, gamma=0.01, kernel=rbf .....................................\n",
      "[CV] ......... C=1, gamma=0.01, kernel=rbf, score=0.733, total=   0.0s\n",
      "[CV] C=1, gamma=0.01, kernel=rbf .....................................\n",
      "[CV] ......... C=1, gamma=0.01, kernel=rbf, score=0.663, total=   0.0s\n",
      "[CV] C=1, gamma=0.01, kernel=rbf .....................................\n",
      "[CV] ......... C=1, gamma=0.01, kernel=rbf, score=0.686, total=   0.0s\n",
      "[CV] C=1, gamma=0.001, kernel=rbf ....................................\n",
      "[CV] ........ C=1, gamma=0.001, kernel=rbf, score=0.693, total=   0.0s\n",
      "[CV] C=1, gamma=0.001, kernel=rbf ....................................\n",
      "[CV] ........ C=1, gamma=0.001, kernel=rbf, score=0.665, total=   0.0s\n",
      "[CV] C=1, gamma=0.001, kernel=rbf ....................................\n",
      "[CV] ........ C=1, gamma=0.001, kernel=rbf, score=0.722, total=   0.0s\n",
      "[CV] C=1, gamma=0.001, kernel=rbf ....................................\n",
      "[CV] ........ C=1, gamma=0.001, kernel=rbf, score=0.669, total=   0.0s\n",
      "[CV] C=1, gamma=0.001, kernel=rbf ....................................\n",
      "[CV] ........ C=1, gamma=0.001, kernel=rbf, score=0.629, total=   0.0s\n",
      "[CV] C=1, gamma=0.0001, kernel=rbf ...................................\n",
      "[CV] ....... C=1, gamma=0.0001, kernel=rbf, score=0.682, total=   0.0s\n",
      "[CV] C=1, gamma=0.0001, kernel=rbf ...................................\n",
      "[CV] ....... C=1, gamma=0.0001, kernel=rbf, score=0.614, total=   0.0s\n",
      "[CV] C=1, gamma=0.0001, kernel=rbf ...................................\n",
      "[CV] ....... C=1, gamma=0.0001, kernel=rbf, score=0.699, total=   0.0s\n",
      "[CV] C=1, gamma=0.0001, kernel=rbf ...................................\n",
      "[CV] ....... C=1, gamma=0.0001, kernel=rbf, score=0.640, total=   0.0s\n",
      "[CV] C=1, gamma=0.0001, kernel=rbf ...................................\n",
      "[CV] ....... C=1, gamma=0.0001, kernel=rbf, score=0.611, total=   0.0s\n",
      "[CV] C=10, gamma=1, kernel=rbf .......................................\n",
      "[CV] ........... C=10, gamma=1, kernel=rbf, score=0.722, total=   0.0s\n",
      "[CV] C=10, gamma=1, kernel=rbf .......................................\n",
      "[CV] ........... C=10, gamma=1, kernel=rbf, score=0.710, total=   0.0s\n",
      "[CV] C=10, gamma=1, kernel=rbf .......................................\n",
      "[CV] ........... C=10, gamma=1, kernel=rbf, score=0.795, total=   0.0s\n",
      "[CV] C=10, gamma=1, kernel=rbf .......................................\n",
      "[CV] ........... C=10, gamma=1, kernel=rbf, score=0.714, total=   0.0s\n",
      "[CV] C=10, gamma=1, kernel=rbf .......................................\n",
      "[CV] ........... C=10, gamma=1, kernel=rbf, score=0.709, total=   0.0s\n",
      "[CV] C=10, gamma=0.1, kernel=rbf .....................................\n",
      "[CV] ......... C=10, gamma=0.1, kernel=rbf, score=0.807, total=   0.0s\n",
      "[CV] C=10, gamma=0.1, kernel=rbf .....................................\n",
      "[CV] ......... C=10, gamma=0.1, kernel=rbf, score=0.744, total=   0.0s\n",
      "[CV] C=10, gamma=0.1, kernel=rbf .....................................\n",
      "[CV] ......... C=10, gamma=0.1, kernel=rbf, score=0.807, total=   0.0s\n",
      "[CV] C=10, gamma=0.1, kernel=rbf .....................................\n",
      "[CV] ......... C=10, gamma=0.1, kernel=rbf, score=0.783, total=   0.0s\n",
      "[CV] C=10, gamma=0.1, kernel=rbf .....................................\n",
      "[CV] ......... C=10, gamma=0.1, kernel=rbf, score=0.754, total=   0.0s\n",
      "[CV] C=10, gamma=0.01, kernel=rbf ....................................\n",
      "[CV] ........ C=10, gamma=0.01, kernel=rbf, score=0.835, total=   0.0s\n",
      "[CV] C=10, gamma=0.01, kernel=rbf ....................................\n",
      "[CV] ........ C=10, gamma=0.01, kernel=rbf, score=0.773, total=   0.0s\n",
      "[CV] C=10, gamma=0.01, kernel=rbf ....................................\n",
      "[CV] ........ C=10, gamma=0.01, kernel=rbf, score=0.812, total=   0.0s\n",
      "[CV] C=10, gamma=0.01, kernel=rbf ....................................\n",
      "[CV] ........ C=10, gamma=0.01, kernel=rbf, score=0.829, total=   0.0s\n",
      "[CV] C=10, gamma=0.01, kernel=rbf ....................................\n",
      "[CV] ........ C=10, gamma=0.01, kernel=rbf, score=0.760, total=   0.0s\n",
      "[CV] C=10, gamma=0.001, kernel=rbf ...................................\n",
      "[CV] ....... C=10, gamma=0.001, kernel=rbf, score=0.841, total=   0.0s\n",
      "[CV] C=10, gamma=0.001, kernel=rbf ...................................\n",
      "[CV] ....... C=10, gamma=0.001, kernel=rbf, score=0.801, total=   0.0s\n",
      "[CV] C=10, gamma=0.001, kernel=rbf ...................................\n"
     ]
    },
    {
     "name": "stdout",
     "output_type": "stream",
     "text": [
      "[CV] ....... C=10, gamma=0.001, kernel=rbf, score=0.818, total=   0.0s\n",
      "[CV] C=10, gamma=0.001, kernel=rbf ...................................\n",
      "[CV] ....... C=10, gamma=0.001, kernel=rbf, score=0.829, total=   0.0s\n",
      "[CV] C=10, gamma=0.001, kernel=rbf ...................................\n",
      "[CV] ....... C=10, gamma=0.001, kernel=rbf, score=0.766, total=   0.0s\n",
      "[CV] C=10, gamma=0.0001, kernel=rbf ..................................\n",
      "[CV] ...... C=10, gamma=0.0001, kernel=rbf, score=0.727, total=   0.0s\n",
      "[CV] C=10, gamma=0.0001, kernel=rbf ..................................\n",
      "[CV] ...... C=10, gamma=0.0001, kernel=rbf, score=0.670, total=   0.0s\n",
      "[CV] C=10, gamma=0.0001, kernel=rbf ..................................\n",
      "[CV] ...... C=10, gamma=0.0001, kernel=rbf, score=0.750, total=   0.0s\n",
      "[CV] C=10, gamma=0.0001, kernel=rbf ..................................\n",
      "[CV] ...... C=10, gamma=0.0001, kernel=rbf, score=0.669, total=   0.0s\n",
      "[CV] C=10, gamma=0.0001, kernel=rbf ..................................\n",
      "[CV] ...... C=10, gamma=0.0001, kernel=rbf, score=0.611, total=   0.0s\n",
      "[CV] C=100, gamma=1, kernel=rbf ......................................\n",
      "[CV] .......... C=100, gamma=1, kernel=rbf, score=0.761, total=   0.0s\n",
      "[CV] C=100, gamma=1, kernel=rbf ......................................\n",
      "[CV] .......... C=100, gamma=1, kernel=rbf, score=0.716, total=   0.0s\n",
      "[CV] C=100, gamma=1, kernel=rbf ......................................\n",
      "[CV] .......... C=100, gamma=1, kernel=rbf, score=0.784, total=   0.0s\n",
      "[CV] C=100, gamma=1, kernel=rbf ......................................\n",
      "[CV] .......... C=100, gamma=1, kernel=rbf, score=0.709, total=   0.0s\n",
      "[CV] C=100, gamma=1, kernel=rbf ......................................\n",
      "[CV] .......... C=100, gamma=1, kernel=rbf, score=0.703, total=   0.0s\n",
      "[CV] C=100, gamma=0.1, kernel=rbf ....................................\n",
      "[CV] ........ C=100, gamma=0.1, kernel=rbf, score=0.773, total=   0.0s\n",
      "[CV] C=100, gamma=0.1, kernel=rbf ....................................\n",
      "[CV] ........ C=100, gamma=0.1, kernel=rbf, score=0.750, total=   0.0s\n",
      "[CV] C=100, gamma=0.1, kernel=rbf ....................................\n",
      "[CV] ........ C=100, gamma=0.1, kernel=rbf, score=0.756, total=   0.0s\n",
      "[CV] C=100, gamma=0.1, kernel=rbf ....................................\n",
      "[CV] ........ C=100, gamma=0.1, kernel=rbf, score=0.771, total=   0.0s\n",
      "[CV] C=100, gamma=0.1, kernel=rbf ....................................\n",
      "[CV] ........ C=100, gamma=0.1, kernel=rbf, score=0.749, total=   0.0s\n",
      "[CV] C=100, gamma=0.01, kernel=rbf ...................................\n",
      "[CV] ....... C=100, gamma=0.01, kernel=rbf, score=0.841, total=   0.0s\n",
      "[CV] C=100, gamma=0.01, kernel=rbf ...................................\n",
      "[CV] ....... C=100, gamma=0.01, kernel=rbf, score=0.761, total=   0.0s\n",
      "[CV] C=100, gamma=0.01, kernel=rbf ...................................\n",
      "[CV] ....... C=100, gamma=0.01, kernel=rbf, score=0.824, total=   0.0s\n",
      "[CV] C=100, gamma=0.01, kernel=rbf ...................................\n",
      "[CV] ....... C=100, gamma=0.01, kernel=rbf, score=0.823, total=   0.0s\n",
      "[CV] C=100, gamma=0.01, kernel=rbf ...................................\n",
      "[CV] ....... C=100, gamma=0.01, kernel=rbf, score=0.749, total=   0.0s\n",
      "[CV] C=100, gamma=0.001, kernel=rbf ..................................\n",
      "[CV] ...... C=100, gamma=0.001, kernel=rbf, score=0.869, total=   0.0s\n",
      "[CV] C=100, gamma=0.001, kernel=rbf ..................................\n",
      "[CV] ...... C=100, gamma=0.001, kernel=rbf, score=0.790, total=   0.0s\n",
      "[CV] C=100, gamma=0.001, kernel=rbf ..................................\n",
      "[CV] ...... C=100, gamma=0.001, kernel=rbf, score=0.858, total=   0.0s\n",
      "[CV] C=100, gamma=0.001, kernel=rbf ..................................\n",
      "[CV] ...... C=100, gamma=0.001, kernel=rbf, score=0.834, total=   0.0s\n",
      "[CV] C=100, gamma=0.001, kernel=rbf ..................................\n",
      "[CV] ...... C=100, gamma=0.001, kernel=rbf, score=0.794, total=   0.0s\n",
      "[CV] C=100, gamma=0.0001, kernel=rbf .................................\n",
      "[CV] ..... C=100, gamma=0.0001, kernel=rbf, score=0.830, total=   0.0s\n",
      "[CV] C=100, gamma=0.0001, kernel=rbf .................................\n",
      "[CV] ..... C=100, gamma=0.0001, kernel=rbf, score=0.761, total=   0.0s\n",
      "[CV] C=100, gamma=0.0001, kernel=rbf .................................\n",
      "[CV] ..... C=100, gamma=0.0001, kernel=rbf, score=0.812, total=   0.0s\n",
      "[CV] C=100, gamma=0.0001, kernel=rbf .................................\n",
      "[CV] ..... C=100, gamma=0.0001, kernel=rbf, score=0.800, total=   0.0s\n",
      "[CV] C=100, gamma=0.0001, kernel=rbf .................................\n",
      "[CV] ..... C=100, gamma=0.0001, kernel=rbf, score=0.771, total=   0.0s\n",
      "[CV] C=1000, gamma=1, kernel=rbf .....................................\n",
      "[CV] ......... C=1000, gamma=1, kernel=rbf, score=0.739, total=   0.0s\n",
      "[CV] C=1000, gamma=1, kernel=rbf .....................................\n",
      "[CV] ......... C=1000, gamma=1, kernel=rbf, score=0.688, total=   0.0s\n",
      "[CV] C=1000, gamma=1, kernel=rbf .....................................\n",
      "[CV] ......... C=1000, gamma=1, kernel=rbf, score=0.682, total=   0.0s\n",
      "[CV] C=1000, gamma=1, kernel=rbf .....................................\n",
      "[CV] ......... C=1000, gamma=1, kernel=rbf, score=0.697, total=   0.0s\n",
      "[CV] C=1000, gamma=1, kernel=rbf .....................................\n",
      "[CV] ......... C=1000, gamma=1, kernel=rbf, score=0.726, total=   0.0s\n",
      "[CV] C=1000, gamma=0.1, kernel=rbf ...................................\n",
      "[CV] ....... C=1000, gamma=0.1, kernel=rbf, score=0.778, total=   0.1s\n",
      "[CV] C=1000, gamma=0.1, kernel=rbf ...................................\n",
      "[CV] ....... C=1000, gamma=0.1, kernel=rbf, score=0.727, total=   0.0s\n",
      "[CV] C=1000, gamma=0.1, kernel=rbf ...................................\n",
      "[CV] ....... C=1000, gamma=0.1, kernel=rbf, score=0.767, total=   0.1s\n",
      "[CV] C=1000, gamma=0.1, kernel=rbf ...................................\n",
      "[CV] ....... C=1000, gamma=0.1, kernel=rbf, score=0.766, total=   0.1s\n",
      "[CV] C=1000, gamma=0.1, kernel=rbf ...................................\n",
      "[CV] ....... C=1000, gamma=0.1, kernel=rbf, score=0.737, total=   0.1s\n",
      "[CV] C=1000, gamma=0.01, kernel=rbf ..................................\n",
      "[CV] ...... C=1000, gamma=0.01, kernel=rbf, score=0.812, total=   0.1s\n",
      "[CV] C=1000, gamma=0.01, kernel=rbf ..................................\n",
      "[CV] ...... C=1000, gamma=0.01, kernel=rbf, score=0.727, total=   0.1s\n",
      "[CV] C=1000, gamma=0.01, kernel=rbf ..................................\n",
      "[CV] ...... C=1000, gamma=0.01, kernel=rbf, score=0.807, total=   0.1s\n",
      "[CV] C=1000, gamma=0.01, kernel=rbf ..................................\n",
      "[CV] ...... C=1000, gamma=0.01, kernel=rbf, score=0.817, total=   0.2s\n",
      "[CV] C=1000, gamma=0.01, kernel=rbf ..................................\n",
      "[CV] ...... C=1000, gamma=0.01, kernel=rbf, score=0.749, total=   0.1s\n",
      "[CV] C=1000, gamma=0.001, kernel=rbf .................................\n",
      "[CV] ..... C=1000, gamma=0.001, kernel=rbf, score=0.875, total=   0.1s\n",
      "[CV] C=1000, gamma=0.001, kernel=rbf .................................\n",
      "[CV] ..... C=1000, gamma=0.001, kernel=rbf, score=0.812, total=   0.1s\n",
      "[CV] C=1000, gamma=0.001, kernel=rbf .................................\n",
      "[CV] ..... C=1000, gamma=0.001, kernel=rbf, score=0.835, total=   0.1s\n",
      "[CV] C=1000, gamma=0.001, kernel=rbf .................................\n",
      "[CV] ..... C=1000, gamma=0.001, kernel=rbf, score=0.829, total=   0.1s\n",
      "[CV] C=1000, gamma=0.001, kernel=rbf .................................\n",
      "[CV] ..... C=1000, gamma=0.001, kernel=rbf, score=0.789, total=   0.1s\n",
      "[CV] C=1000, gamma=0.0001, kernel=rbf ................................\n",
      "[CV] .... C=1000, gamma=0.0001, kernel=rbf, score=0.835, total=   0.0s\n",
      "[CV] C=1000, gamma=0.0001, kernel=rbf ................................\n",
      "[CV] .... C=1000, gamma=0.0001, kernel=rbf, score=0.767, total=   0.1s\n",
      "[CV] C=1000, gamma=0.0001, kernel=rbf ................................\n",
      "[CV] .... C=1000, gamma=0.0001, kernel=rbf, score=0.824, total=   0.1s\n",
      "[CV] C=1000, gamma=0.0001, kernel=rbf ................................\n",
      "[CV] .... C=1000, gamma=0.0001, kernel=rbf, score=0.794, total=   0.1s\n",
      "[CV] C=1000, gamma=0.0001, kernel=rbf ................................\n",
      "[CV] .... C=1000, gamma=0.0001, kernel=rbf, score=0.794, total=   0.0s\n"
     ]
    },
    {
     "name": "stderr",
     "output_type": "stream",
     "text": [
      "[Parallel(n_jobs=1)]: Done 125 out of 125 | elapsed:    4.3s finished\n"
     ]
    },
    {
     "data": {
      "text/plain": [
       "GridSearchCV(estimator=SVC(),\n",
       "             param_grid={'C': [0.1, 1, 10, 100, 1000],\n",
       "                         'gamma': [1, 0.1, 0.01, 0.001, 0.0001],\n",
       "                         'kernel': ['rbf']},\n",
       "             verbose=4)"
      ]
     },
     "execution_count": 95,
     "metadata": {},
     "output_type": "execute_result"
    }
   ],
   "source": [
    "grid.fit(X_train,y_train)"
   ]
  },
  {
   "cell_type": "code",
   "execution_count": 96,
   "metadata": {},
   "outputs": [
    {
     "data": {
      "text/plain": [
       "{'C': 100, 'gamma': 0.001, 'kernel': 'rbf'}"
      ]
     },
     "execution_count": 96,
     "metadata": {},
     "output_type": "execute_result"
    }
   ],
   "source": [
    "grid.best_params_"
   ]
  },
  {
   "cell_type": "code",
   "execution_count": 97,
   "metadata": {},
   "outputs": [
    {
     "data": {
      "text/plain": [
       "SVC(C=100, gamma=0.001)"
      ]
     },
     "execution_count": 97,
     "metadata": {},
     "output_type": "execute_result"
    }
   ],
   "source": [
    "grid.best_estimator_"
   ]
  },
  {
   "cell_type": "code",
   "execution_count": 100,
   "metadata": {},
   "outputs": [
    {
     "name": "stdout",
     "output_type": "stream",
     "text": [
      "The classification report for DecisionTreeClassifier() is: \n",
      "\n",
      "              precision    recall  f1-score   support\n",
      "\n",
      "           0       0.81      0.81      0.81       110\n",
      "           1       0.81      0.81      0.81       110\n",
      "\n",
      "    accuracy                           0.81       220\n",
      "   macro avg       0.81      0.81      0.81       220\n",
      "weighted avg       0.81      0.81      0.81       220\n",
      "\n",
      "============================================================\n",
      "The classification report for RandomForestClassifier(n_estimators=400) is: \n",
      "\n",
      "              precision    recall  f1-score   support\n",
      "\n",
      "           0       0.83      0.87      0.85       110\n",
      "           1       0.87      0.82      0.84       110\n",
      "\n",
      "    accuracy                           0.85       220\n",
      "   macro avg       0.85      0.85      0.85       220\n",
      "weighted avg       0.85      0.85      0.85       220\n",
      "\n",
      "============================================================\n",
      "The classification report for AdaBoostClassifier() is: \n",
      "\n",
      "              precision    recall  f1-score   support\n",
      "\n",
      "           0       0.83      0.78      0.80       110\n",
      "           1       0.79      0.84      0.81       110\n",
      "\n",
      "    accuracy                           0.81       220\n",
      "   macro avg       0.81      0.81      0.81       220\n",
      "weighted avg       0.81      0.81      0.81       220\n",
      "\n",
      "============================================================\n",
      "The classification report for GradientBoostingClassifier() is: \n",
      "\n",
      "              precision    recall  f1-score   support\n",
      "\n",
      "           0       0.82      0.88      0.85       110\n",
      "           1       0.87      0.81      0.84       110\n",
      "\n",
      "    accuracy                           0.85       220\n",
      "   macro avg       0.85      0.85      0.85       220\n",
      "weighted avg       0.85      0.85      0.85       220\n",
      "\n",
      "============================================================\n",
      "The classification report for BaggingClassifier() is: \n",
      "\n",
      "              precision    recall  f1-score   support\n",
      "\n",
      "           0       0.80      0.85      0.83       110\n",
      "           1       0.84      0.79      0.82       110\n",
      "\n",
      "    accuracy                           0.82       220\n",
      "   macro avg       0.82      0.82      0.82       220\n",
      "weighted avg       0.82      0.82      0.82       220\n",
      "\n",
      "============================================================\n"
     ]
    }
   ],
   "source": [
    "classifiers=[dtree,rnd_clf,ada,gradB,Bag]\n",
    "for i in classifiers:\n",
    "    i.fit(X_train,y_train)\n",
    "    Y_pred = i.predict(X_test)\n",
    "    print(\"The classification report for {} is: \\n\".format(i))\n",
    "    print(classification_report(y_test,Y_pred))\n",
    "    print('='*60)"
   ]
  },
  {
   "cell_type": "code",
   "execution_count": 101,
   "metadata": {},
   "outputs": [
    {
     "data": {
      "text/html": [
       "<div>\n",
       "<style scoped>\n",
       "    .dataframe tbody tr th:only-of-type {\n",
       "        vertical-align: middle;\n",
       "    }\n",
       "\n",
       "    .dataframe tbody tr th {\n",
       "        vertical-align: top;\n",
       "    }\n",
       "\n",
       "    .dataframe thead th {\n",
       "        text-align: right;\n",
       "    }\n",
       "</style>\n",
       "<table border=\"1\" class=\"dataframe\">\n",
       "  <thead>\n",
       "    <tr style=\"text-align: right;\">\n",
       "      <th></th>\n",
       "      <th>fpr</th>\n",
       "      <th>tpr</th>\n",
       "      <th>auc</th>\n",
       "    </tr>\n",
       "    <tr>\n",
       "      <th>classifiers</th>\n",
       "      <th></th>\n",
       "      <th></th>\n",
       "      <th></th>\n",
       "    </tr>\n",
       "  </thead>\n",
       "  <tbody>\n",
       "    <tr>\n",
       "      <th>DecisionTreeClassifier</th>\n",
       "      <td>[0.0, 0.19090909090909092, 0.20909090909090908...</td>\n",
       "      <td>[0.0, 0.7909090909090909, 0.7909090909090909, ...</td>\n",
       "      <td>0.798099</td>\n",
       "    </tr>\n",
       "    <tr>\n",
       "      <th>RandomForestClassifier</th>\n",
       "      <td>[0.0, 0.00909090909090909, 0.00909090909090909...</td>\n",
       "      <td>[0.0, 0.06363636363636363, 0.13636363636363635...</td>\n",
       "      <td>0.888554</td>\n",
       "    </tr>\n",
       "    <tr>\n",
       "      <th>AdaBoostClassifier</th>\n",
       "      <td>[0.0, 0.0, 0.01818181818181818, 0.018181818181...</td>\n",
       "      <td>[0.0, 0.00909090909090909, 0.00909090909090909...</td>\n",
       "      <td>0.876529</td>\n",
       "    </tr>\n",
       "    <tr>\n",
       "      <th>GradientBoostingClassifier</th>\n",
       "      <td>[0.0, 0.0, 0.0, 0.0, 0.0, 0.0, 0.0, 0.00909090...</td>\n",
       "      <td>[0.0, 0.00909090909090909, 0.17272727272727273...</td>\n",
       "      <td>0.899215</td>\n",
       "    </tr>\n",
       "    <tr>\n",
       "      <th>BaggingClassifier</th>\n",
       "      <td>[0.0, 0.045454545454545456, 0.0454545454545454...</td>\n",
       "      <td>[0.0, 0.5545454545454546, 0.6727272727272727, ...</td>\n",
       "      <td>0.881364</td>\n",
       "    </tr>\n",
       "  </tbody>\n",
       "</table>\n",
       "</div>"
      ],
      "text/plain": [
       "                                                                          fpr  \\\n",
       "classifiers                                                                     \n",
       "DecisionTreeClassifier      [0.0, 0.19090909090909092, 0.20909090909090908...   \n",
       "RandomForestClassifier      [0.0, 0.00909090909090909, 0.00909090909090909...   \n",
       "AdaBoostClassifier          [0.0, 0.0, 0.01818181818181818, 0.018181818181...   \n",
       "GradientBoostingClassifier  [0.0, 0.0, 0.0, 0.0, 0.0, 0.0, 0.0, 0.00909090...   \n",
       "BaggingClassifier           [0.0, 0.045454545454545456, 0.0454545454545454...   \n",
       "\n",
       "                                                                          tpr  \\\n",
       "classifiers                                                                     \n",
       "DecisionTreeClassifier      [0.0, 0.7909090909090909, 0.7909090909090909, ...   \n",
       "RandomForestClassifier      [0.0, 0.06363636363636363, 0.13636363636363635...   \n",
       "AdaBoostClassifier          [0.0, 0.00909090909090909, 0.00909090909090909...   \n",
       "GradientBoostingClassifier  [0.0, 0.00909090909090909, 0.17272727272727273...   \n",
       "BaggingClassifier           [0.0, 0.5545454545454546, 0.6727272727272727, ...   \n",
       "\n",
       "                                 auc  \n",
       "classifiers                           \n",
       "DecisionTreeClassifier      0.798099  \n",
       "RandomForestClassifier      0.888554  \n",
       "AdaBoostClassifier          0.876529  \n",
       "GradientBoostingClassifier  0.899215  \n",
       "BaggingClassifier           0.881364  "
      ]
     },
     "execution_count": 101,
     "metadata": {},
     "output_type": "execute_result"
    }
   ],
   "source": [
    "result_table = pd.DataFrame(columns=['classifiers', 'fpr','tpr','auc'])\n",
    "classifiers=[dtree,rnd_clf,ada,gradB,Bag]\n",
    "\n",
    "for cls in classifiers:\n",
    "    model = cls.fit(X_train, y_train)\n",
    "    yproba = model.predict_proba(X_test)[::,1]\n",
    "    \n",
    "    fpr, tpr, _ = roc_curve(y_test,  yproba)\n",
    "    auc = roc_auc_score(y_test, yproba)\n",
    "    \n",
    "    result_table = result_table.append({'classifiers':cls.__class__.__name__,\n",
    "                                        'fpr':fpr, \n",
    "                                        'tpr':tpr, \n",
    "                                        'auc':auc}, ignore_index=True)\n",
    "\n",
    "    \n",
    "# Set name of the classifiers as index labels\n",
    "result_table.set_index('classifiers', inplace=True)\n",
    "result_table"
   ]
  },
  {
   "cell_type": "code",
   "execution_count": 102,
   "metadata": {},
   "outputs": [
    {
     "data": {
      "image/png": "[encoded data removed]",
      "text/plain": [
       "<Figure size 720x720 with 1 Axes>"
      ]
     },
     "metadata": {
      "needs_background": "light"
     },
     "output_type": "display_data"
    }
   ],
   "source": [
    "fig = plt.figure(figsize=(10,10))\n",
    "\n",
    "for i in result_table.index:\n",
    "    plt.plot(result_table.loc[i]['fpr'], \n",
    "             result_table.loc[i]['tpr'], \n",
    "             label=\"{}, AUC={:.3f}\".format(i, result_table.loc[i]['auc']));\n",
    "    \n",
    "plt.plot([0,1], [0,1], color='orange', linestyle='--');\n",
    "\n",
    "plt.xticks(np.arange(0.0, 1.1, step=0.1));\n",
    "plt.xlabel(\"False Positive Rate\", fontsize=15);\n",
    "\n",
    "plt.yticks(np.arange(0.0, 1.1, step=0.1));\n",
    "plt.ylabel(\"True Positive Rate\", fontsize=15);\n",
    "\n",
    "plt.title('ROC Curve Analysis', fontweight='bold', fontsize=15);\n",
    "plt.legend(prop={'size':13}, loc='lower right');"
   ]
  },
  {
   "cell_type": "markdown",
   "metadata": {},
   "source": [
    "Here, GradientBoosting has the highest ROC_AUC score, hence we'll\n",
    "use it."
   ]
  },
  {
   "cell_type": "code",
   "execution_count": 103,
   "metadata": {},
   "outputs": [],
   "source": [
    "y_pred_gb=gradB.predict(test)"
   ]
  },
  {
   "cell_type": "code",
   "execution_count": 104,
   "metadata": {},
   "outputs": [
    {
     "data": {
      "text/html": [
       "<div>\n",
       "<style scoped>\n",
       "    .dataframe tbody tr th:only-of-type {\n",
       "        vertical-align: middle;\n",
       "    }\n",
       "\n",
       "    .dataframe tbody tr th {\n",
       "        vertical-align: top;\n",
       "    }\n",
       "\n",
       "    .dataframe thead th {\n",
       "        text-align: right;\n",
       "    }\n",
       "</style>\n",
       "<table border=\"1\" class=\"dataframe\">\n",
       "  <thead>\n",
       "    <tr style=\"text-align: right;\">\n",
       "      <th></th>\n",
       "      <th>PassengerId</th>\n",
       "      <th>Survived</th>\n",
       "    </tr>\n",
       "  </thead>\n",
       "  <tbody>\n",
       "    <tr>\n",
       "      <th>0</th>\n",
       "      <td>892</td>\n",
       "      <td>0</td>\n",
       "    </tr>\n",
       "    <tr>\n",
       "      <th>1</th>\n",
       "      <td>893</td>\n",
       "      <td>0</td>\n",
       "    </tr>\n",
       "    <tr>\n",
       "      <th>2</th>\n",
       "      <td>894</td>\n",
       "      <td>0</td>\n",
       "    </tr>\n",
       "    <tr>\n",
       "      <th>3</th>\n",
       "      <td>895</td>\n",
       "      <td>0</td>\n",
       "    </tr>\n",
       "    <tr>\n",
       "      <th>4</th>\n",
       "      <td>896</td>\n",
       "      <td>0</td>\n",
       "    </tr>\n",
       "  </tbody>\n",
       "</table>\n",
       "</div>"
      ],
      "text/plain": [
       "   PassengerId  Survived\n",
       "0          892         0\n",
       "1          893         0\n",
       "2          894         0\n",
       "3          895         0\n",
       "4          896         0"
      ]
     },
     "execution_count": 104,
     "metadata": {},
     "output_type": "execute_result"
    }
   ],
   "source": [
    "submission_titanic=pd.DataFrame()\n",
    "ID=test_df['PassengerId']\n",
    "submission_titanic['PassengerId']=ID\n",
    "submission_titanic['Survived']=y_pred_gb\n",
    "submission_titanic.head()"
   ]
  },
  {
   "cell_type": "code",
   "execution_count": 105,
   "metadata": {},
   "outputs": [
    {
     "data": {
      "text/plain": [
       "0    278\n",
       "1    140\n",
       "Name: Survived, dtype: int64"
      ]
     },
     "execution_count": 105,
     "metadata": {},
     "output_type": "execute_result"
    }
   ],
   "source": [
    "submission_titanic['Survived'].value_counts()"
   ]
  },
  {
   "cell_type": "code",
   "execution_count": 106,
   "metadata": {},
   "outputs": [],
   "source": [
    "submission_titanic.to_csv('Submission_titanic_smote.csv', index=False)"
   ]
  },
  {
   "cell_type": "code",
   "execution_count": null,
   "metadata": {},
   "outputs": [],
   "source": []
  },
  {
   "cell_type": "code",
   "execution_count": null,
   "metadata": {},
   "outputs": [],
   "source": []
  },
  {
   "cell_type": "code",
   "execution_count": null,
   "metadata": {},
   "outputs": [],
   "source": []
  },
  {
   "cell_type": "code",
   "execution_count": null,
   "metadata": {},
   "outputs": [],
   "source": []
  },
  {
   "cell_type": "code",
   "execution_count": null,
   "metadata": {},
   "outputs": [],
   "source": []
  }
 ],
 "metadata": {
  "kernelspec": {
   "display_name": "Python 3",
   "language": "python",
   "name": "python3"
  },
  "language_info": {
   "codemirror_mode": {
    "name": "ipython",
    "version": 3
   },
   "file_extension": ".py",
   "mimetype": "text/x-python",
   "name": "python",
   "nbconvert_exporter": "python",
   "pygments_lexer": "ipython3",
   "version": "3.8.3"
  }
 },
 "nbformat": 4,
 "nbformat_minor": 4
}
